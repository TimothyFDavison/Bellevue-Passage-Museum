{
 "cells": [
  {
   "cell_type": "code",
   "execution_count": 1,
   "id": "c69c168c-9968-4a13-863f-3f9b1df9657e",
   "metadata": {
    "scrolled": true
   },
   "outputs": [
    {
     "name": "stdout",
     "output_type": "stream",
     "text": [
      "Defaulting to user installation because normal site-packages is not writeable\n",
      "Requirement already satisfied: scraibe in /home/malevolentelk/.local/lib/python3.10/site-packages (0.3.0)\n",
      "Requirement already satisfied: chromadb in /home/malevolentelk/.local/lib/python3.10/site-packages (0.6.3)\n",
      "Requirement already satisfied: ollama in /home/malevolentelk/.local/lib/python3.10/site-packages (0.4.7)\n",
      "Requirement already satisfied: sentence_transformers in /home/malevolentelk/.local/lib/python3.10/site-packages (3.4.1)\n",
      "Requirement already satisfied: faster-whisper<2.0.0,>=1.0.3 in /home/malevolentelk/.local/lib/python3.10/site-packages (from scraibe) (1.1.1)\n",
      "Requirement already satisfied: torch<3.0.0,>=2.1.2 in /home/malevolentelk/.local/lib/python3.10/site-packages (from scraibe) (2.3.1)\n",
      "Requirement already satisfied: numpy<2.0.0,>=1.26.4 in /home/malevolentelk/.local/lib/python3.10/site-packages (from scraibe) (1.26.4)\n",
      "Requirement already satisfied: openai-whisper<20240931,>=20231117 in /home/malevolentelk/.local/lib/python3.10/site-packages (from scraibe) (20231117)\n",
      "Requirement already satisfied: tqdm<5.0.0,>=4.66.5 in /home/malevolentelk/.local/lib/python3.10/site-packages (from scraibe) (4.67.1)\n",
      "Requirement already satisfied: pyannote.audio<4.0.0,>=3.3.1 in /home/malevolentelk/.local/lib/python3.10/site-packages (from scraibe) (3.3.2)\n",
      "Requirement already satisfied: tenacity>=8.2.3 in /home/malevolentelk/.local/lib/python3.10/site-packages (from chromadb) (8.2.3)\n",
      "Requirement already satisfied: opentelemetry-sdk>=1.2.0 in /home/malevolentelk/.local/lib/python3.10/site-packages (from chromadb) (1.31.1)\n",
      "Requirement already satisfied: httpx>=0.27.0 in /home/malevolentelk/.local/lib/python3.10/site-packages (from chromadb) (0.27.0)\n",
      "Requirement already satisfied: bcrypt>=4.0.1 in /home/malevolentelk/.local/lib/python3.10/site-packages (from chromadb) (4.3.0)\n",
      "Requirement already satisfied: chroma-hnswlib==0.7.6 in /home/malevolentelk/.local/lib/python3.10/site-packages (from chromadb) (0.7.6)\n",
      "Requirement already satisfied: build>=1.0.3 in /home/malevolentelk/.local/lib/python3.10/site-packages (from chromadb) (1.0.3)\n",
      "Requirement already satisfied: uvicorn[standard]>=0.18.3 in /home/malevolentelk/.local/lib/python3.10/site-packages (from chromadb) (0.30.1)\n",
      "Requirement already satisfied: orjson>=3.9.12 in /home/malevolentelk/.local/lib/python3.10/site-packages (from chromadb) (3.10.5)\n",
      "Requirement already satisfied: tokenizers>=0.13.2 in /home/malevolentelk/.local/lib/python3.10/site-packages (from chromadb) (0.21.1)\n",
      "Requirement already satisfied: overrides>=7.3.1 in /home/malevolentelk/.local/lib/python3.10/site-packages (from chromadb) (7.7.0)\n",
      "Requirement already satisfied: importlib-resources in /home/malevolentelk/.local/lib/python3.10/site-packages (from chromadb) (6.5.2)\n",
      "Requirement already satisfied: opentelemetry-exporter-otlp-proto-grpc>=1.2.0 in /home/malevolentelk/.local/lib/python3.10/site-packages (from chromadb) (1.31.1)\n",
      "Requirement already satisfied: rich>=10.11.0 in /home/malevolentelk/.local/lib/python3.10/site-packages (from chromadb) (13.7.1)\n",
      "Requirement already satisfied: kubernetes>=28.1.0 in /home/malevolentelk/.local/lib/python3.10/site-packages (from chromadb) (32.0.1)\n",
      "Requirement already satisfied: typer>=0.9.0 in /home/malevolentelk/.local/lib/python3.10/site-packages (from chromadb) (0.12.3)\n",
      "Requirement already satisfied: grpcio>=1.58.0 in /home/malevolentelk/.local/lib/python3.10/site-packages (from chromadb) (1.64.1)\n",
      "Requirement already satisfied: pydantic>=1.9 in /home/malevolentelk/.local/lib/python3.10/site-packages (from chromadb) (2.10.6)\n",
      "Requirement already satisfied: fastapi>=0.95.2 in /home/malevolentelk/.local/lib/python3.10/site-packages (from chromadb) (0.111.0)\n",
      "Requirement already satisfied: PyYAML>=6.0.0 in /home/malevolentelk/.local/lib/python3.10/site-packages (from chromadb) (6.0.1)\n",
      "Requirement already satisfied: mmh3>=4.0.1 in /home/malevolentelk/.local/lib/python3.10/site-packages (from chromadb) (5.1.0)\n",
      "Requirement already satisfied: typing_extensions>=4.5.0 in /home/malevolentelk/.local/lib/python3.10/site-packages (from chromadb) (4.12.2)\n",
      "Requirement already satisfied: onnxruntime>=1.14.1 in /home/malevolentelk/.local/lib/python3.10/site-packages (from chromadb) (1.21.0)\n",
      "Requirement already satisfied: opentelemetry-api>=1.2.0 in /home/malevolentelk/.local/lib/python3.10/site-packages (from chromadb) (1.31.1)\n",
      "Requirement already satisfied: posthog>=2.4.0 in /home/malevolentelk/.local/lib/python3.10/site-packages (from chromadb) (3.21.0)\n",
      "Requirement already satisfied: pypika>=0.48.9 in /home/malevolentelk/.local/lib/python3.10/site-packages (from chromadb) (0.48.9)\n",
      "Requirement already satisfied: opentelemetry-instrumentation-fastapi>=0.41b0 in /home/malevolentelk/.local/lib/python3.10/site-packages (from chromadb) (0.52b1)\n",
      "Requirement already satisfied: Pillow in /usr/lib/python3/dist-packages (from sentence_transformers) (9.0.1)\n",
      "Requirement already satisfied: huggingface-hub>=0.20.0 in /home/malevolentelk/.local/lib/python3.10/site-packages (from sentence_transformers) (0.29.3)\n",
      "Requirement already satisfied: scipy in /home/malevolentelk/.local/lib/python3.10/site-packages (from sentence_transformers) (1.15.2)\n",
      "Requirement already satisfied: transformers<5.0.0,>=4.41.0 in /home/malevolentelk/.local/lib/python3.10/site-packages (from sentence_transformers) (4.50.0)\n",
      "Requirement already satisfied: scikit-learn in /home/malevolentelk/.local/lib/python3.10/site-packages (from sentence_transformers) (1.6.1)\n",
      "Requirement already satisfied: tomli>=1.1.0 in /home/malevolentelk/.local/lib/python3.10/site-packages (from build>=1.0.3->chromadb) (2.0.1)\n",
      "Requirement already satisfied: packaging>=19.0 in /home/malevolentelk/.local/lib/python3.10/site-packages (from build>=1.0.3->chromadb) (23.2)\n",
      "Requirement already satisfied: pyproject_hooks in /home/malevolentelk/.local/lib/python3.10/site-packages (from build>=1.0.3->chromadb) (1.0.0)\n",
      "Requirement already satisfied: jinja2>=2.11.2 in /home/malevolentelk/.local/lib/python3.10/site-packages (from fastapi>=0.95.2->chromadb) (3.1.3)\n",
      "Requirement already satisfied: fastapi-cli>=0.0.2 in /home/malevolentelk/.local/lib/python3.10/site-packages (from fastapi>=0.95.2->chromadb) (0.0.4)\n",
      "Requirement already satisfied: python-multipart>=0.0.7 in /home/malevolentelk/.local/lib/python3.10/site-packages (from fastapi>=0.95.2->chromadb) (0.0.9)\n",
      "Requirement already satisfied: email_validator>=2.0.0 in /home/malevolentelk/.local/lib/python3.10/site-packages (from fastapi>=0.95.2->chromadb) (2.2.0)\n",
      "Requirement already satisfied: starlette<0.38.0,>=0.37.2 in /home/malevolentelk/.local/lib/python3.10/site-packages (from fastapi>=0.95.2->chromadb) (0.37.2)\n",
      "Requirement already satisfied: ujson!=4.0.2,!=4.1.0,!=4.2.0,!=4.3.0,!=5.0.0,!=5.1.0,>=4.0.1 in /home/malevolentelk/.local/lib/python3.10/site-packages (from fastapi>=0.95.2->chromadb) (5.10.0)\n",
      "Requirement already satisfied: ctranslate2<5,>=4.0 in /home/malevolentelk/.local/lib/python3.10/site-packages (from faster-whisper<2.0.0,>=1.0.3->scraibe) (4.5.0)\n",
      "Requirement already satisfied: av>=11 in /home/malevolentelk/.local/lib/python3.10/site-packages (from faster-whisper<2.0.0,>=1.0.3->scraibe) (14.2.0)\n",
      "Requirement already satisfied: httpcore==1.* in /home/malevolentelk/.local/lib/python3.10/site-packages (from httpx>=0.27.0->chromadb) (1.0.5)\n",
      "Requirement already satisfied: anyio in /home/malevolentelk/.local/lib/python3.10/site-packages (from httpx>=0.27.0->chromadb) (4.4.0)\n",
      "Requirement already satisfied: sniffio in /home/malevolentelk/.local/lib/python3.10/site-packages (from httpx>=0.27.0->chromadb) (1.3.1)\n",
      "Requirement already satisfied: idna in /usr/lib/python3/dist-packages (from httpx>=0.27.0->chromadb) (3.3)\n",
      "Requirement already satisfied: certifi in /usr/lib/python3/dist-packages (from httpx>=0.27.0->chromadb) (2020.6.20)\n",
      "Requirement already satisfied: h11<0.15,>=0.13 in /home/malevolentelk/.local/lib/python3.10/site-packages (from httpcore==1.*->httpx>=0.27.0->chromadb) (0.14.0)\n",
      "Requirement already satisfied: filelock in /usr/lib/python3/dist-packages (from huggingface-hub>=0.20.0->sentence_transformers) (3.6.0)\n",
      "Requirement already satisfied: fsspec>=2023.5.0 in /home/malevolentelk/.local/lib/python3.10/site-packages (from huggingface-hub>=0.20.0->sentence_transformers) (2024.12.0)\n",
      "Requirement already satisfied: requests in /home/malevolentelk/.local/lib/python3.10/site-packages (from huggingface-hub>=0.20.0->sentence_transformers) (2.32.3)\n",
      "Requirement already satisfied: oauthlib>=3.2.2 in /home/malevolentelk/.local/lib/python3.10/site-packages (from kubernetes>=28.1.0->chromadb) (3.2.2)\n",
      "Requirement already satisfied: durationpy>=0.7 in /home/malevolentelk/.local/lib/python3.10/site-packages (from kubernetes>=28.1.0->chromadb) (0.9)\n",
      "Requirement already satisfied: python-dateutil>=2.5.3 in /home/malevolentelk/.local/lib/python3.10/site-packages (from kubernetes>=28.1.0->chromadb) (2.9.0.post0)\n",
      "Requirement already satisfied: urllib3>=1.24.2 in /usr/lib/python3/dist-packages (from kubernetes>=28.1.0->chromadb) (1.26.5)\n",
      "Requirement already satisfied: google-auth>=1.0.1 in /home/malevolentelk/.local/lib/python3.10/site-packages (from kubernetes>=28.1.0->chromadb) (2.30.0)\n",
      "Requirement already satisfied: websocket-client!=0.40.0,!=0.41.*,!=0.42.*,>=0.32.0 in /home/malevolentelk/.local/lib/python3.10/site-packages (from kubernetes>=28.1.0->chromadb) (1.8.0)\n",
      "Requirement already satisfied: requests-oauthlib in /home/malevolentelk/.local/lib/python3.10/site-packages (from kubernetes>=28.1.0->chromadb) (2.0.0)\n",
      "Requirement already satisfied: six>=1.9.0 in /usr/lib/python3/dist-packages (from kubernetes>=28.1.0->chromadb) (1.16.0)\n",
      "Requirement already satisfied: flatbuffers in /home/malevolentelk/.local/lib/python3.10/site-packages (from onnxruntime>=1.14.1->chromadb) (25.2.10)\n",
      "Requirement already satisfied: coloredlogs in /home/malevolentelk/.local/lib/python3.10/site-packages (from onnxruntime>=1.14.1->chromadb) (15.0.1)\n",
      "Requirement already satisfied: sympy in /home/malevolentelk/.local/lib/python3.10/site-packages (from onnxruntime>=1.14.1->chromadb) (1.13.1)\n",
      "Requirement already satisfied: protobuf in /home/malevolentelk/.local/lib/python3.10/site-packages (from onnxruntime>=1.14.1->chromadb) (5.29.4)\n",
      "Requirement already satisfied: numba in /home/malevolentelk/.local/lib/python3.10/site-packages (from openai-whisper<20240931,>=20231117->scraibe) (0.61.0)\n",
      "Requirement already satisfied: triton<3,>=2.0.0 in /home/malevolentelk/.local/lib/python3.10/site-packages (from openai-whisper<20240931,>=20231117->scraibe) (2.3.1)\n",
      "Requirement already satisfied: tiktoken in /home/malevolentelk/.local/lib/python3.10/site-packages (from openai-whisper<20240931,>=20231117->scraibe) (0.9.0)\n",
      "Requirement already satisfied: more-itertools in /home/malevolentelk/.local/lib/python3.10/site-packages (from openai-whisper<20240931,>=20231117->scraibe) (10.1.0)\n",
      "Requirement already satisfied: importlib-metadata<8.7.0,>=6.0 in /home/malevolentelk/.local/lib/python3.10/site-packages (from opentelemetry-api>=1.2.0->chromadb) (6.8.0)\n",
      "Requirement already satisfied: deprecated>=1.2.6 in /home/malevolentelk/.local/lib/python3.10/site-packages (from opentelemetry-api>=1.2.0->chromadb) (1.2.18)\n",
      "Requirement already satisfied: googleapis-common-protos~=1.52 in /home/malevolentelk/.local/lib/python3.10/site-packages (from opentelemetry-exporter-otlp-proto-grpc>=1.2.0->chromadb) (1.63.2)\n",
      "Requirement already satisfied: opentelemetry-exporter-otlp-proto-common==1.31.1 in /home/malevolentelk/.local/lib/python3.10/site-packages (from opentelemetry-exporter-otlp-proto-grpc>=1.2.0->chromadb) (1.31.1)\n",
      "Requirement already satisfied: opentelemetry-proto==1.31.1 in /home/malevolentelk/.local/lib/python3.10/site-packages (from opentelemetry-exporter-otlp-proto-grpc>=1.2.0->chromadb) (1.31.1)\n",
      "Requirement already satisfied: opentelemetry-instrumentation==0.52b1 in /home/malevolentelk/.local/lib/python3.10/site-packages (from opentelemetry-instrumentation-fastapi>=0.41b0->chromadb) (0.52b1)\n",
      "Requirement already satisfied: opentelemetry-util-http==0.52b1 in /home/malevolentelk/.local/lib/python3.10/site-packages (from opentelemetry-instrumentation-fastapi>=0.41b0->chromadb) (0.52b1)\n",
      "Requirement already satisfied: opentelemetry-instrumentation-asgi==0.52b1 in /home/malevolentelk/.local/lib/python3.10/site-packages (from opentelemetry-instrumentation-fastapi>=0.41b0->chromadb) (0.52b1)\n",
      "Requirement already satisfied: opentelemetry-semantic-conventions==0.52b1 in /home/malevolentelk/.local/lib/python3.10/site-packages (from opentelemetry-instrumentation-fastapi>=0.41b0->chromadb) (0.52b1)\n",
      "Requirement already satisfied: wrapt<2.0.0,>=1.0.0 in /home/malevolentelk/.local/lib/python3.10/site-packages (from opentelemetry-instrumentation==0.52b1->opentelemetry-instrumentation-fastapi>=0.41b0->chromadb) (1.17.2)\n",
      "Requirement already satisfied: asgiref~=3.0 in /home/malevolentelk/.local/lib/python3.10/site-packages (from opentelemetry-instrumentation-asgi==0.52b1->opentelemetry-instrumentation-fastapi>=0.41b0->chromadb) (3.8.1)\n",
      "Requirement already satisfied: distro>=1.5.0 in /usr/lib/python3/dist-packages (from posthog>=2.4.0->chromadb) (1.7.0)\n",
      "Requirement already satisfied: monotonic>=1.5 in /usr/lib/python3/dist-packages (from posthog>=2.4.0->chromadb) (1.6)\n",
      "Requirement already satisfied: backoff>=1.10.0 in /home/malevolentelk/.local/lib/python3.10/site-packages (from posthog>=2.4.0->chromadb) (2.2.1)\n",
      "Requirement already satisfied: soundfile>=0.12.1 in /home/malevolentelk/.local/lib/python3.10/site-packages (from pyannote.audio<4.0.0,>=3.3.1->scraibe) (0.12.1)\n",
      "Requirement already satisfied: einops>=0.6.0 in /home/malevolentelk/.local/lib/python3.10/site-packages (from pyannote.audio<4.0.0,>=3.3.1->scraibe) (0.8.1)\n",
      "Requirement already satisfied: pyannote.core>=5.0.0 in /home/malevolentelk/.local/lib/python3.10/site-packages (from pyannote.audio<4.0.0,>=3.3.1->scraibe) (5.0.0)\n",
      "Requirement already satisfied: pyannote.database>=5.0.1 in /home/malevolentelk/.local/lib/python3.10/site-packages (from pyannote.audio<4.0.0,>=3.3.1->scraibe) (5.1.3)\n",
      "Requirement already satisfied: torchaudio>=2.2.0 in /home/malevolentelk/.local/lib/python3.10/site-packages (from pyannote.audio<4.0.0,>=3.3.1->scraibe) (2.3.1)\n",
      "Requirement already satisfied: torchmetrics>=0.11.0 in /home/malevolentelk/.local/lib/python3.10/site-packages (from pyannote.audio<4.0.0,>=3.3.1->scraibe) (1.7.0)\n",
      "Requirement already satisfied: torch-audiomentations>=0.11.0 in /home/malevolentelk/.local/lib/python3.10/site-packages (from pyannote.audio<4.0.0,>=3.3.1->scraibe) (0.12.0)\n",
      "Requirement already satisfied: semver>=3.0.0 in /home/malevolentelk/.local/lib/python3.10/site-packages (from pyannote.audio<4.0.0,>=3.3.1->scraibe) (3.0.4)\n",
      "Requirement already satisfied: tensorboardX>=2.6 in /home/malevolentelk/.local/lib/python3.10/site-packages (from pyannote.audio<4.0.0,>=3.3.1->scraibe) (2.6.2.2)\n",
      "Requirement already satisfied: pyannote.pipeline>=3.0.1 in /home/malevolentelk/.local/lib/python3.10/site-packages (from pyannote.audio<4.0.0,>=3.3.1->scraibe) (3.0.1)\n",
      "Requirement already satisfied: speechbrain>=1.0.0 in /home/malevolentelk/.local/lib/python3.10/site-packages (from pyannote.audio<4.0.0,>=3.3.1->scraibe) (1.0.2)\n",
      "Requirement already satisfied: lightning>=2.0.1 in /home/malevolentelk/.local/lib/python3.10/site-packages (from pyannote.audio<4.0.0,>=3.3.1->scraibe) (2.5.1)\n",
      "Requirement already satisfied: asteroid-filterbanks>=0.4 in /home/malevolentelk/.local/lib/python3.10/site-packages (from pyannote.audio<4.0.0,>=3.3.1->scraibe) (0.4.0)\n",
      "Requirement already satisfied: omegaconf<3.0,>=2.1 in /home/malevolentelk/.local/lib/python3.10/site-packages (from pyannote.audio<4.0.0,>=3.3.1->scraibe) (2.3.0)\n",
      "Requirement already satisfied: pyannote.metrics>=3.2 in /home/malevolentelk/.local/lib/python3.10/site-packages (from pyannote.audio<4.0.0,>=3.3.1->scraibe) (3.2.1)\n",
      "Requirement already satisfied: pytorch-metric-learning>=2.1.0 in /home/malevolentelk/.local/lib/python3.10/site-packages (from pyannote.audio<4.0.0,>=3.3.1->scraibe) (2.8.1)\n",
      "Requirement already satisfied: annotated-types>=0.6.0 in /home/malevolentelk/.local/lib/python3.10/site-packages (from pydantic>=1.9->chromadb) (0.7.0)\n",
      "Requirement already satisfied: pydantic-core==2.27.2 in /home/malevolentelk/.local/lib/python3.10/site-packages (from pydantic>=1.9->chromadb) (2.27.2)\n",
      "Requirement already satisfied: pygments<3.0.0,>=2.13.0 in /home/malevolentelk/.local/lib/python3.10/site-packages (from rich>=10.11.0->chromadb) (2.18.0)\n",
      "Requirement already satisfied: markdown-it-py>=2.2.0 in /home/malevolentelk/.local/lib/python3.10/site-packages (from rich>=10.11.0->chromadb) (3.0.0)\n",
      "Requirement already satisfied: nvidia-cuda-cupti-cu12==12.1.105 in /home/malevolentelk/.local/lib/python3.10/site-packages (from torch<3.0.0,>=2.1.2->scraibe) (12.1.105)\n",
      "Requirement already satisfied: nvidia-cusparse-cu12==12.1.0.106 in /home/malevolentelk/.local/lib/python3.10/site-packages (from torch<3.0.0,>=2.1.2->scraibe) (12.1.0.106)\n",
      "Requirement already satisfied: nvidia-nvtx-cu12==12.1.105 in /home/malevolentelk/.local/lib/python3.10/site-packages (from torch<3.0.0,>=2.1.2->scraibe) (12.1.105)\n",
      "Requirement already satisfied: nvidia-cuda-runtime-cu12==12.1.105 in /home/malevolentelk/.local/lib/python3.10/site-packages (from torch<3.0.0,>=2.1.2->scraibe) (12.1.105)\n",
      "Requirement already satisfied: nvidia-cusolver-cu12==11.4.5.107 in /home/malevolentelk/.local/lib/python3.10/site-packages (from torch<3.0.0,>=2.1.2->scraibe) (11.4.5.107)\n",
      "Requirement already satisfied: nvidia-cuda-nvrtc-cu12==12.1.105 in /home/malevolentelk/.local/lib/python3.10/site-packages (from torch<3.0.0,>=2.1.2->scraibe) (12.1.105)\n",
      "Requirement already satisfied: nvidia-cublas-cu12==12.1.3.1 in /home/malevolentelk/.local/lib/python3.10/site-packages (from torch<3.0.0,>=2.1.2->scraibe) (12.1.3.1)\n",
      "Requirement already satisfied: nvidia-cudnn-cu12==8.9.2.26 in /home/malevolentelk/.local/lib/python3.10/site-packages (from torch<3.0.0,>=2.1.2->scraibe) (8.9.2.26)\n",
      "Requirement already satisfied: networkx in /home/malevolentelk/.local/lib/python3.10/site-packages (from torch<3.0.0,>=2.1.2->scraibe) (3.4.2)\n",
      "Requirement already satisfied: nvidia-cufft-cu12==11.0.2.54 in /home/malevolentelk/.local/lib/python3.10/site-packages (from torch<3.0.0,>=2.1.2->scraibe) (11.0.2.54)\n",
      "Requirement already satisfied: nvidia-curand-cu12==10.3.2.106 in /home/malevolentelk/.local/lib/python3.10/site-packages (from torch<3.0.0,>=2.1.2->scraibe) (10.3.2.106)\n",
      "Requirement already satisfied: nvidia-nccl-cu12==2.20.5 in /home/malevolentelk/.local/lib/python3.10/site-packages (from torch<3.0.0,>=2.1.2->scraibe) (2.20.5)\n",
      "Requirement already satisfied: nvidia-nvjitlink-cu12 in /home/malevolentelk/.local/lib/python3.10/site-packages (from nvidia-cusolver-cu12==11.4.5.107->torch<3.0.0,>=2.1.2->scraibe) (12.4.127)\n",
      "Requirement already satisfied: safetensors>=0.4.3 in /home/malevolentelk/.local/lib/python3.10/site-packages (from transformers<5.0.0,>=4.41.0->sentence_transformers) (0.5.3)\n",
      "Requirement already satisfied: regex!=2019.12.17 in /home/malevolentelk/.local/lib/python3.10/site-packages (from transformers<5.0.0,>=4.41.0->sentence_transformers) (2024.4.16)\n",
      "Requirement already satisfied: click>=8.0.0 in /home/malevolentelk/.local/lib/python3.10/site-packages (from typer>=0.9.0->chromadb) (8.1.7)\n",
      "Requirement already satisfied: shellingham>=1.3.0 in /home/malevolentelk/.local/lib/python3.10/site-packages (from typer>=0.9.0->chromadb) (1.5.4)\n",
      "Requirement already satisfied: python-dotenv>=0.13 in /home/malevolentelk/.local/lib/python3.10/site-packages (from uvicorn[standard]>=0.18.3->chromadb) (1.0.1)\n",
      "Requirement already satisfied: watchfiles>=0.13 in /home/malevolentelk/.local/lib/python3.10/site-packages (from uvicorn[standard]>=0.18.3->chromadb) (0.22.0)\n",
      "Requirement already satisfied: httptools>=0.5.0 in /home/malevolentelk/.local/lib/python3.10/site-packages (from uvicorn[standard]>=0.18.3->chromadb) (0.6.1)\n",
      "Requirement already satisfied: uvloop!=0.15.0,!=0.15.1,>=0.14.0 in /home/malevolentelk/.local/lib/python3.10/site-packages (from uvicorn[standard]>=0.18.3->chromadb) (0.19.0)\n",
      "Requirement already satisfied: websockets>=10.4 in /home/malevolentelk/.local/lib/python3.10/site-packages (from uvicorn[standard]>=0.18.3->chromadb) (12.0)\n",
      "Requirement already satisfied: joblib>=1.2.0 in /home/malevolentelk/.local/lib/python3.10/site-packages (from scikit-learn->sentence_transformers) (1.4.2)\n",
      "Requirement already satisfied: threadpoolctl>=3.1.0 in /home/malevolentelk/.local/lib/python3.10/site-packages (from scikit-learn->sentence_transformers) (3.6.0)\n",
      "Requirement already satisfied: setuptools in /home/malevolentelk/.local/lib/python3.10/site-packages (from ctranslate2<5,>=4.0->faster-whisper<2.0.0,>=1.0.3->scraibe) (75.8.2)\n",
      "Requirement already satisfied: dnspython>=2.0.0 in /home/malevolentelk/.local/lib/python3.10/site-packages (from email_validator>=2.0.0->fastapi>=0.95.2->chromadb) (2.6.1)\n",
      "Requirement already satisfied: pyasn1-modules>=0.2.1 in /home/malevolentelk/.local/lib/python3.10/site-packages (from google-auth>=1.0.1->kubernetes>=28.1.0->chromadb) (0.4.0)\n",
      "Requirement already satisfied: cachetools<6.0,>=2.0.0 in /home/malevolentelk/.local/lib/python3.10/site-packages (from google-auth>=1.0.1->kubernetes>=28.1.0->chromadb) (5.3.3)\n",
      "Requirement already satisfied: rsa<5,>=3.1.4 in /home/malevolentelk/.local/lib/python3.10/site-packages (from google-auth>=1.0.1->kubernetes>=28.1.0->chromadb) (4.9)\n",
      "Requirement already satisfied: zipp>=0.5 in /home/malevolentelk/.local/lib/python3.10/site-packages (from importlib-metadata<8.7.0,>=6.0->opentelemetry-api>=1.2.0->chromadb) (3.17.0)\n",
      "Requirement already satisfied: MarkupSafe>=2.0 in /home/malevolentelk/.local/lib/python3.10/site-packages (from jinja2>=2.11.2->fastapi>=0.95.2->chromadb) (3.0.2)\n",
      "Requirement already satisfied: pytorch-lightning in /home/malevolentelk/.local/lib/python3.10/site-packages (from lightning>=2.0.1->pyannote.audio<4.0.0,>=3.3.1->scraibe) (2.5.1)\n",
      "Requirement already satisfied: lightning-utilities<2.0,>=0.10.0 in /home/malevolentelk/.local/lib/python3.10/site-packages (from lightning>=2.0.1->pyannote.audio<4.0.0,>=3.3.1->scraibe) (0.14.2)\n",
      "Requirement already satisfied: mdurl~=0.1 in /home/malevolentelk/.local/lib/python3.10/site-packages (from markdown-it-py>=2.2.0->rich>=10.11.0->chromadb) (0.1.2)\n",
      "Requirement already satisfied: antlr4-python3-runtime==4.9.* in /home/malevolentelk/.local/lib/python3.10/site-packages (from omegaconf<3.0,>=2.1->pyannote.audio<4.0.0,>=3.3.1->scraibe) (4.9.3)\n",
      "Requirement already satisfied: sortedcontainers>=2.0.4 in /home/malevolentelk/.local/lib/python3.10/site-packages (from pyannote.core>=5.0.0->pyannote.audio<4.0.0,>=3.3.1->scraibe) (2.4.0)\n",
      "Requirement already satisfied: pandas>=0.19 in /home/malevolentelk/.local/lib/python3.10/site-packages (from pyannote.database>=5.0.1->pyannote.audio<4.0.0,>=3.3.1->scraibe) (2.2.3)\n",
      "Requirement already satisfied: tabulate>=0.7.7 in /home/malevolentelk/.local/lib/python3.10/site-packages (from pyannote.metrics>=3.2->pyannote.audio<4.0.0,>=3.3.1->scraibe) (0.9.0)\n",
      "Requirement already satisfied: docopt>=0.6.2 in /home/malevolentelk/.local/lib/python3.10/site-packages (from pyannote.metrics>=3.2->pyannote.audio<4.0.0,>=3.3.1->scraibe) (0.6.2)\n",
      "Requirement already satisfied: matplotlib>=2.0.0 in /home/malevolentelk/.local/lib/python3.10/site-packages (from pyannote.metrics>=3.2->pyannote.audio<4.0.0,>=3.3.1->scraibe) (3.10.0)\n",
      "Requirement already satisfied: optuna>=3.1 in /home/malevolentelk/.local/lib/python3.10/site-packages (from pyannote.pipeline>=3.0.1->pyannote.audio<4.0.0,>=3.3.1->scraibe) (4.2.1)\n",
      "Requirement already satisfied: charset-normalizer<4,>=2 in /home/malevolentelk/.local/lib/python3.10/site-packages (from requests->huggingface-hub>=0.20.0->sentence_transformers) (3.3.2)\n",
      "Requirement already satisfied: cffi>=1.0 in /home/malevolentelk/.local/lib/python3.10/site-packages (from soundfile>=0.12.1->pyannote.audio<4.0.0,>=3.3.1->scraibe) (1.16.0)\n",
      "Requirement already satisfied: sentencepiece in /home/malevolentelk/.local/lib/python3.10/site-packages (from speechbrain>=1.0.0->pyannote.audio<4.0.0,>=3.3.1->scraibe) (0.2.0)\n",
      "Requirement already satisfied: hyperpyyaml in /home/malevolentelk/.local/lib/python3.10/site-packages (from speechbrain>=1.0.0->pyannote.audio<4.0.0,>=3.3.1->scraibe) (1.2.2)\n",
      "Requirement already satisfied: exceptiongroup>=1.0.2 in /home/malevolentelk/.local/lib/python3.10/site-packages (from anyio->httpx>=0.27.0->chromadb) (1.2.1)\n",
      "Requirement already satisfied: mpmath<1.4,>=1.1.0 in /home/malevolentelk/.local/lib/python3.10/site-packages (from sympy->onnxruntime>=1.14.1->chromadb) (1.3.0)\n",
      "Requirement already satisfied: julius<0.3,>=0.2.3 in /home/malevolentelk/.local/lib/python3.10/site-packages (from torch-audiomentations>=0.11.0->pyannote.audio<4.0.0,>=3.3.1->scraibe) (0.2.7)\n",
      "Requirement already satisfied: torch-pitch-shift>=1.2.2 in /home/malevolentelk/.local/lib/python3.10/site-packages (from torch-audiomentations>=0.11.0->pyannote.audio<4.0.0,>=3.3.1->scraibe) (1.2.5)\n",
      "Requirement already satisfied: humanfriendly>=9.1 in /home/malevolentelk/.local/lib/python3.10/site-packages (from coloredlogs->onnxruntime>=1.14.1->chromadb) (10.0)\n",
      "Requirement already satisfied: llvmlite<0.45,>=0.44.0dev0 in /home/malevolentelk/.local/lib/python3.10/site-packages (from numba->openai-whisper<20240931,>=20231117->scraibe) (0.44.0)\n",
      "Requirement already satisfied: pycparser in /home/malevolentelk/.local/lib/python3.10/site-packages (from cffi>=1.0->soundfile>=0.12.1->pyannote.audio<4.0.0,>=3.3.1->scraibe) (2.21)\n",
      "Requirement already satisfied: aiohttp!=4.0.0a0,!=4.0.0a1 in /home/malevolentelk/.local/lib/python3.10/site-packages (from fsspec>=2023.5.0->huggingface-hub>=0.20.0->sentence_transformers) (3.9.0)\n",
      "Requirement already satisfied: pyparsing>=2.3.1 in /usr/lib/python3/dist-packages (from matplotlib>=2.0.0->pyannote.metrics>=3.2->pyannote.audio<4.0.0,>=3.3.1->scraibe) (2.4.7)\n",
      "Requirement already satisfied: kiwisolver>=1.3.1 in /home/malevolentelk/.local/lib/python3.10/site-packages (from matplotlib>=2.0.0->pyannote.metrics>=3.2->pyannote.audio<4.0.0,>=3.3.1->scraibe) (1.4.8)\n",
      "Requirement already satisfied: fonttools>=4.22.0 in /home/malevolentelk/.local/lib/python3.10/site-packages (from matplotlib>=2.0.0->pyannote.metrics>=3.2->pyannote.audio<4.0.0,>=3.3.1->scraibe) (4.55.8)\n",
      "Requirement already satisfied: cycler>=0.10 in /home/malevolentelk/.local/lib/python3.10/site-packages (from matplotlib>=2.0.0->pyannote.metrics>=3.2->pyannote.audio<4.0.0,>=3.3.1->scraibe) (0.12.1)\n",
      "Requirement already satisfied: contourpy>=1.0.1 in /home/malevolentelk/.local/lib/python3.10/site-packages (from matplotlib>=2.0.0->pyannote.metrics>=3.2->pyannote.audio<4.0.0,>=3.3.1->scraibe) (1.3.1)\n",
      "Requirement already satisfied: alembic>=1.5.0 in /home/malevolentelk/.local/lib/python3.10/site-packages (from optuna>=3.1->pyannote.pipeline>=3.0.1->pyannote.audio<4.0.0,>=3.3.1->scraibe) (1.15.1)\n",
      "Requirement already satisfied: sqlalchemy>=1.4.2 in /home/malevolentelk/.local/lib/python3.10/site-packages (from optuna>=3.1->pyannote.pipeline>=3.0.1->pyannote.audio<4.0.0,>=3.3.1->scraibe) (2.0.23)\n",
      "Requirement already satisfied: colorlog in /home/malevolentelk/.local/lib/python3.10/site-packages (from optuna>=3.1->pyannote.pipeline>=3.0.1->pyannote.audio<4.0.0,>=3.3.1->scraibe) (6.9.0)\n",
      "Requirement already satisfied: pytz>=2020.1 in /usr/lib/python3/dist-packages (from pandas>=0.19->pyannote.database>=5.0.1->pyannote.audio<4.0.0,>=3.3.1->scraibe) (2022.1)\n",
      "Requirement already satisfied: tzdata>=2022.7 in /home/malevolentelk/.local/lib/python3.10/site-packages (from pandas>=0.19->pyannote.database>=5.0.1->pyannote.audio<4.0.0,>=3.3.1->scraibe) (2025.2)\n",
      "Requirement already satisfied: pyasn1<0.7.0,>=0.4.6 in /home/malevolentelk/.local/lib/python3.10/site-packages (from pyasn1-modules>=0.2.1->google-auth>=1.0.1->kubernetes>=28.1.0->chromadb) (0.6.0)\n",
      "Requirement already satisfied: primePy>=1.3 in /home/malevolentelk/.local/lib/python3.10/site-packages (from torch-pitch-shift>=1.2.2->torch-audiomentations>=0.11.0->pyannote.audio<4.0.0,>=3.3.1->scraibe) (1.3)\n",
      "Requirement already satisfied: ruamel.yaml>=0.17.28 in /home/malevolentelk/.local/lib/python3.10/site-packages (from hyperpyyaml->speechbrain>=1.0.0->pyannote.audio<4.0.0,>=3.3.1->scraibe) (0.18.10)\n",
      "Requirement already satisfied: attrs>=17.3.0 in /home/malevolentelk/.local/lib/python3.10/site-packages (from aiohttp!=4.0.0a0,!=4.0.0a1->fsspec>=2023.5.0->huggingface-hub>=0.20.0->sentence_transformers) (23.1.0)\n",
      "Requirement already satisfied: aiosignal>=1.1.2 in /home/malevolentelk/.local/lib/python3.10/site-packages (from aiohttp!=4.0.0a0,!=4.0.0a1->fsspec>=2023.5.0->huggingface-hub>=0.20.0->sentence_transformers) (1.3.1)\n",
      "Requirement already satisfied: frozenlist>=1.1.1 in /home/malevolentelk/.local/lib/python3.10/site-packages (from aiohttp!=4.0.0a0,!=4.0.0a1->fsspec>=2023.5.0->huggingface-hub>=0.20.0->sentence_transformers) (1.4.0)\n",
      "Requirement already satisfied: async-timeout<5.0,>=4.0 in /home/malevolentelk/.local/lib/python3.10/site-packages (from aiohttp!=4.0.0a0,!=4.0.0a1->fsspec>=2023.5.0->huggingface-hub>=0.20.0->sentence_transformers) (4.0.3)\n",
      "Requirement already satisfied: yarl<2.0,>=1.0 in /home/malevolentelk/.local/lib/python3.10/site-packages (from aiohttp!=4.0.0a0,!=4.0.0a1->fsspec>=2023.5.0->huggingface-hub>=0.20.0->sentence_transformers) (1.9.3)\n",
      "Requirement already satisfied: multidict<7.0,>=4.5 in /home/malevolentelk/.local/lib/python3.10/site-packages (from aiohttp!=4.0.0a0,!=4.0.0a1->fsspec>=2023.5.0->huggingface-hub>=0.20.0->sentence_transformers) (6.0.4)\n",
      "Requirement already satisfied: Mako in /usr/lib/python3/dist-packages (from alembic>=1.5.0->optuna>=3.1->pyannote.pipeline>=3.0.1->pyannote.audio<4.0.0,>=3.3.1->scraibe) (1.1.3)\n",
      "Requirement already satisfied: ruamel.yaml.clib>=0.2.7 in /home/malevolentelk/.local/lib/python3.10/site-packages (from ruamel.yaml>=0.17.28->hyperpyyaml->speechbrain>=1.0.0->pyannote.audio<4.0.0,>=3.3.1->scraibe) (0.2.12)\n",
      "Requirement already satisfied: greenlet!=0.4.17 in /home/malevolentelk/.local/lib/python3.10/site-packages (from sqlalchemy>=1.4.2->optuna>=3.1->pyannote.pipeline>=3.0.1->pyannote.audio<4.0.0,>=3.3.1->scraibe) (3.0.1)\n"
     ]
    }
   ],
   "source": [
    "!pip install scraibe chromadb ollama sentence_transformers"
   ]
  },
  {
   "cell_type": "code",
   "execution_count": 2,
   "id": "6d8573a3-64c6-42a2-b7fc-24ac1c72c645",
   "metadata": {},
   "outputs": [],
   "source": [
    "import warnings\n",
    "warnings.filterwarnings('ignore')"
   ]
  },
  {
   "cell_type": "markdown",
   "id": "497cacfb-4b36-4a3f-8d2c-aef3244ddf0b",
   "metadata": {},
   "source": [
    "### Settings"
   ]
  },
  {
   "cell_type": "code",
   "execution_count": 27,
   "id": "66fae30f-440b-4136-b51f-4555053ffbe7",
   "metadata": {},
   "outputs": [],
   "source": [
    "# audio_file = 'deshields_interview-medium.mp3'\n",
    "audio_file = \"deshields_interview.mp3\""
   ]
  },
  {
   "cell_type": "code",
   "execution_count": null,
   "id": "e46b8a4b-9e1c-4501-bcf8-b476977ba285",
   "metadata": {},
   "outputs": [],
   "source": []
  },
  {
   "cell_type": "code",
   "execution_count": null,
   "id": "27f30a5c-71f5-4d47-ad35-6b6d154dfa55",
   "metadata": {},
   "outputs": [],
   "source": []
  },
  {
   "cell_type": "markdown",
   "id": "2180f0fb-4816-45b0-aac1-6e7fed898d8d",
   "metadata": {},
   "source": [
    "## Transcribe and diarize audio from input file"
   ]
  },
  {
   "cell_type": "code",
   "execution_count": 28,
   "id": "011beb4f-2666-4559-86ce-d111b4dd29bf",
   "metadata": {},
   "outputs": [],
   "source": [
    "from scraibe import Scraibe\n",
    "\n",
    "model = Scraibe()\n",
    "text = model.autotranscribe(audio_file)"
   ]
  },
  {
   "cell_type": "code",
   "execution_count": 29,
   "id": "ae97308a-c0bd-4f24-8cca-91159d492b09",
   "metadata": {},
   "outputs": [],
   "source": [
    "text.to_json(\"full_transcription.json\")"
   ]
  },
  {
   "cell_type": "code",
   "execution_count": 5,
   "id": "ad91356a-eeee-4f0b-9b43-2bb7efad9e26",
   "metadata": {},
   "outputs": [
    {
     "data": {
      "text/plain": [
       "{0: {'speakers': 'SPEAKER_00',\n",
       "  'segments': [0.58784375, 22.12034375],\n",
       "  'text': \" Okay, go ahead, Aaliyah. Today is July 26th, Tuesday. It is 10 22 a.m. This is Aaliyah Parsons here with Michael Sharappa, Marcus Smith and Doreen Rogers. We're conducting an interview with Rowena DeShield that will focus on her life history and observations in the village of Bellevue, Maryland.\"},\n",
       " 1: {'speakers': 'SPEAKER_02',\n",
       "  'segments': [23.63909375, 28.39784375],\n",
       "  'text': ' Very good. Would you like to do the first question?'},\n",
       " 2: {'speakers': 'SPEAKER_00',\n",
       "  'segments': [28.296593750000003, 28.836593750000002],\n",
       "  'text': ' Sure.'},\n",
       " 4: {'speakers': 'SPEAKER_00',\n",
       "  'segments': [29.27534375, 34.92846875],\n",
       "  'text': \" Um, let's start. If you could just state who you are and when and where you were born.\"},\n",
       " 5: {'speakers': 'SPEAKER_01',\n",
       "  'segments': [36.05909375, 46.70721875],\n",
       "  'text': \" I am Ruina Shields, a native of Bellevue. I was born on October 15, 1930 in Bellevue near my grandfather's house.\"},\n",
       " 6: {'speakers': 'SPEAKER_02',\n",
       "  'segments': [47.17971875, 49.69409375],\n",
       "  'text': ' What was that date again?'},\n",
       " 7: {'speakers': 'SPEAKER_01',\n",
       "  'segments': [49.15409375, 51.28034375],\n",
       "  'text': ' November 15, 1930.'},\n",
       " 8: {'speakers': 'SPEAKER_02',\n",
       "  'segments': [49.99784375, 52.49534375],\n",
       "  'text': ' November 15, 1930.'},\n",
       " 9: {'speakers': 'SPEAKER_01',\n",
       "  'segments': [52.12409375, 53.25471875],\n",
       "  'text': ' in Bellevue, Maryland.'},\n",
       " 10: {'speakers': 'SPEAKER_00',\n",
       "  'segments': [55.87034375, 60.56159375],\n",
       "  'text': ' Who were your parents, your grandparents, and extended family in Doe View and beyond?'},\n",
       " 11: {'speakers': 'SPEAKER_01',\n",
       "  'segments': [61.18596875, 61.658468750000004],\n",
       "  'text': ' probably.'},\n",
       " 12: {'speakers': 'SPEAKER_00',\n",
       "  'segments': [61.877843750000004, 66.13034375000001],\n",
       "  'text': ' Explore your parents, grandparents and extended family in Bellevue and beyond.'},\n",
       " 13: {'speakers': 'SPEAKER_01',\n",
       "  'segments': [67.00784375, 104.58846875],\n",
       "  'text': \" Oh, wow. Most of them are gone. When I was born, all of my parents were aunts, uncles, cousins, nephews, and we stayed at my grandfather's house. And then when we found out that they were developing this area, I purchased a home here. But beginning, I was mostly with my grandmother and aunt on Gate Street. Then I had relatives across the street by the lane, but we were all related.\"},\n",
       " 14: {'speakers': 'SPEAKER_02',\n",
       "  'segments': [105.28034375, 109.83659375],\n",
       "  'text': ' So who was your grandfather and grandmother?'},\n",
       " 15: {'speakers': 'SPEAKER_01',\n",
       "  'segments': [110.17409375000001, 112.95846875000001],\n",
       "  'text': ' But my father was Golden Beasts Thomas.'},\n",
       " 16: {'speakers': 'SPEAKER_02',\n",
       "  'segments': [113.43096875, 113.73471875000001],\n",
       "  'text': ' stuff.'},\n",
       " 17: {'speakers': 'SPEAKER_01',\n",
       "  'segments': [113.73471875000001, 167.04284375],\n",
       "  'text': \" My grandmother was a Liza Burke who worked on the ferry in Annapolis. She stayed on, uh, what's the famous street in Annapolis, Ray Street in Annapolis. She had a Tuesday home, but she spent most of the time on a ferry for there. The ferry ran from not killing from outside of St. Michael from St. Michael's to the West shore and she worked on one of the boats. We have a picture of that. And then when she was, she wasn't really attending for the women's room, but she knew everyone who took the ferry. So most of the people who traveled the ferry that time went to uh, the homeless beach. They were the wealthy folks from Virginia and Washington area.\"},\n",
       " 18: {'speakers': 'SPEAKER_02',\n",
       "  'segments': [167.11034375, 167.58284375000002],\n",
       "  'text': 'うん'},\n",
       " 19: {'speakers': 'SPEAKER_01',\n",
       "  'segments': [167.58284375000002, 170.67096875000001],\n",
       "  'text': ' and she knew all the women and they caught her in my eyes or birds.'},\n",
       " 20: {'speakers': 'SPEAKER_02',\n",
       "  'segments': [171.34596875, 176.57721875000001],\n",
       "  'text': ' Huh. And your grandfather was Mr. Thomas?'},\n",
       " 21: {'speakers': 'SPEAKER_01',\n",
       "  'segments': [176.22284375, 179.04096875000002],\n",
       "  'text': ' Thomas. Thomas. William Thomas here. At that time...'},\n",
       " 23: {'speakers': 'SPEAKER_01',\n",
       "  'segments': [179.85096875000002, 182.92221875],\n",
       "  'text': ' Very sullen that the men marry the women.'},\n",
       " 24: {'speakers': 'SPEAKER_02',\n",
       "  'segments': [183.29346875000002, 184.55909375000002],\n",
       "  'text': 'ふんふん'},\n",
       " 25: {'speakers': 'SPEAKER_01',\n",
       "  'segments': [185.11596875, 189.57096875000002],\n",
       "  'text': ' But we knew they were all related, because my grandchild had three other daughters.'},\n",
       " 26: {'speakers': 'SPEAKER_02',\n",
       "  'segments': [186.87096875, 190.21221875],\n",
       "  'text': \" I'm glad I thought I had three other daughters.\"},\n",
       " 29: {'speakers': 'SPEAKER_01',\n",
       "  'segments': [191.47784375, 191.96721875],\n",
       "  'text': ' Bye.'},\n",
       " 31: {'speakers': 'SPEAKER_01',\n",
       "  'segments': [192.03471875000002, 192.74346875],\n",
       "  'text': ' near the ball.'},\n",
       " 32: {'speakers': 'SPEAKER_02',\n",
       "  'segments': [194.07659375, 196.55721875],\n",
       "  'text': \" and your grandfather's occupation.\"},\n",
       " 33: {'speakers': 'SPEAKER_01',\n",
       "  'segments': [197.13096875000002, 230.49284375000002],\n",
       "  'text': \" He was a waterman. He did not go to school at all. He was a crabber, worcester man. But yet he knew the weather. That's how I know about the weather, the moon, the clouds. I know how to tell time by the sun. He taught me about the way the river, because after about the river, why do the waves come in sometimes? And then next time the rivers didn't go out, he'd tell me when it would rain. When it would not come, he'd get rained, and when it would not. I learned a lot, but he did a lot of hunting. He was an avid hunter.\"},\n",
       " 34: {'speakers': 'SPEAKER_02',\n",
       "  'segments': [230.49284375000002, 230.83034375000003],\n",
       "  'text': ' Hmm.'},\n",
       " 35: {'speakers': 'SPEAKER_01',\n",
       "  'segments': [230.83034375000003, 258.64034375],\n",
       "  'text': ' all animals, especially rabbits, geese. He made, he roasted a crabber, but he made his own eel pods because he quickly yields himself. He made the pods, he made his own fishing line. He was just self-sufficient, but not to be educated.'},\n",
       " 36: {'speakers': 'SPEAKER_02',\n",
       "  'segments': [258.64034375, 259.02846875],\n",
       "  'text': ' Hmm.'},\n",
       " 37: {'speakers': 'SPEAKER_01',\n",
       "  'segments': [259.02846875, 260.41221875],\n",
       "  'text': ' He was self-sufficient.'},\n",
       " 38: {'speakers': 'SPEAKER_02',\n",
       "  'segments': [260.58096875, 261.64409375],\n",
       "  'text': ' 음'},\n",
       " 39: {'speakers': 'SPEAKER_01',\n",
       "  'segments': [261.64409375, 266.52096875],\n",
       "  'text': ' And we never went hungry. I know that was more due to depression, but we were never hungry here.'},\n",
       " 41: {'speakers': 'SPEAKER_01',\n",
       "  'segments': [267.17909375, 270.99284375],\n",
       "  'text': \" Never, never, never hungry. You can go to anybody's house and get something to eat.\"},\n",
       " 42: {'speakers': 'SPEAKER_02',\n",
       "  'segments': [271.68471875, 272.47784375000003],\n",
       "  'text': ' 음 음'},\n",
       " 43: {'speakers': 'SPEAKER_01',\n",
       "  'segments': [272.64659375, 299.96721875000003],\n",
       "  'text': ' And then in wintertime, we had crabs, we had things from the water. So, and the people were so giving, so giving, and this stranger walked in. They walked into the home, eat, and I was lucky because I went from house to house to eat. But my best friends were not, Nettie on Gay Street. She was top notch.'}}"
      ]
     },
     "execution_count": 5,
     "metadata": {},
     "output_type": "execute_result"
    }
   ],
   "source": [
    "text.get_dict()"
   ]
  },
  {
   "cell_type": "code",
   "execution_count": 34,
   "id": "5445c31c-c4b2-4306-914c-0933b52c55fc",
   "metadata": {},
   "outputs": [
    {
     "name": "stdout",
     "output_type": "stream",
     "text": [
      "SPEAKER_06 (00:00:00 ; 00:00:02):\t Okay, go ahead, go ahead.\n",
      "SPEAKER_02 (00:00:02 ; 00:00:22):\t Today is July 26th, Tuesday. It is 1022 a.m. This is Aliyah Parsons here with Michael Sharappa, Marcus Smith, and Dorian Rogers. We are conducting an interview with Rowena DeShields that will focus on her life history and observations in the village of Bellevue, Maryland.\n",
      "SPEAKER_06 (00:00:23 ; 00:00:28):\t Very good. Would you like to do the first question?\n",
      "SPEAKER_02 (00:00:28 ; 00:00:34):\t Sure. Let's start. If you could just state who you are and when and where you were born.\n",
      "SPEAKER_05 (00:00:36 ; 00:00:46):\t I am Rowena Shields, a native of Bellevue. I was born November 15, 1930 in Bellevue near my grandfather's house.\n",
      "SPEAKER_06 (00:00:47 ; 00:00:49):\t What was that date again?\n",
      "SPEAKER_05 (00:00:49 ; 00:00:51):\t November 15, 1930.\n",
      "SPEAKER_06 (00:00:49 ; 00:00:52):\t November 15, 1930.\n",
      "SPEAKER_05 (00:00:52 ; 00:00:53):\t in Bellevue, Maryland.\n",
      "SPEAKER_02 (00:00:55 ; 00:01:00):\t Who were your parents, your grandparents, and extended family in Doe View and beyond?\n",
      "SPEAKER_03 (00:01:01 ; 00:01:01):\t Probably.\n",
      "SPEAKER_02 (00:01:01 ; 00:01:06):\t Explore your parents, grandparents and extended family in Bellevue and beyond.\n",
      "SPEAKER_05 (00:01:07 ; 00:01:44):\t Oh, wow. Most of them are gone. When I was born, all of my parents were aunts, uncles, cousins, nephews, and we stayed at my grandfather's house. And then when we found out that they were developing this area, I purchased a home here. But beginning, I was mostly with my grandmother and aunt on Gate Street. Then I had relatives across the street in Poplar Lane, but we were all related.\n",
      "SPEAKER_06 (00:01:45 ; 00:01:49):\t So who was your grandfather and grandmother?\n",
      "SPEAKER_05 (00:01:50 ; 00:01:52):\t But my father was Golden Boots Thomas.\n",
      "SPEAKER_05 (00:01:53 ; 00:02:47):\t My grandmother was Eliza Burke who worked on the ferry in Annapolis. She stayed on, what's the name of the street in Annapolis? Race Street in Annapolis. She had a two story home, but she spent most of the time on a ferry. For there, the ferry ran from, I'm not telling you, from outside of St. Michael's, from St. Michael's to the west shore. And she worked on one of the boats. We have a picture of that. And then when she was, she wasn't really attending for the women in the room, but she knew everyone who took the ferry. So most of the people who traveled the ferry that time went to Ruelas Beach. They were the wealthy folks from Virginia and Washington area.\n",
      "SPEAKER_05 (00:02:47 ; 00:02:47):\t Mm.\n",
      "SPEAKER_09 (00:02:47 ; 00:02:47):\t and I'll see you in the next one. Bye.\n",
      "SPEAKER_05 (00:02:47 ; 00:02:47):\t you\n",
      "SPEAKER_05 (00:02:47 ; 00:02:50):\t and she knew all the women and they called her Mizer Berk.\n",
      "SPEAKER_06 (00:02:51 ; 00:02:56):\t And your grandfather was Mr. Thomas?\n",
      "SPEAKER_05 (00:02:56 ; 00:02:59):\t Thomas. Thomas, William Thomas here. At that time...\n",
      "SPEAKER_05 (00:02:59 ; 00:03:02):\t Very sullen to have the men marry the women.\n",
      "SPEAKER_09 (00:03:03 ; 00:03:04):\tふんふん\n",
      "SPEAKER_05 (00:03:05 ; 00:03:09):\t But we knew they were all related, because my grandchild had three other daughters.\n",
      "SPEAKER_09 (00:03:06 ; 00:03:09):\t That's why I thought I had three other daughters.\n",
      "SPEAKER_08 (00:03:09 ; 00:03:10):\t Mm-hmm.\n",
      "SPEAKER_05 (00:03:11 ; 00:03:11):\t Bye.\n",
      "SPEAKER_06 (00:03:11 ; 00:03:12):\t near the ball.\n",
      "SPEAKER_06 (00:03:12 ; 00:03:16):\t and your grandfather's occupation.\n",
      "SPEAKER_05 (00:03:17 ; 00:03:50):\t He was a waterman. He did not go to school at all. He was a clapper, worcester man. But yet he knew the weather. That's how I know about the weather, the moon, the clouds. I know how to tell time by the sun. He taught me about the way the river, because after about the river, why do the waves come in sometimes. And then next time the rivers didn't go out, he'd tell me when it would rain, when it would not come, he'd get rained, and when it would not. I learned a lot, but he did a lot of hunting. He was an avid hunter.\n",
      "SPEAKER_08 (00:03:50 ; 00:03:50):\t Hmm.\n",
      "SPEAKER_05 (00:03:50 ; 00:04:18):\t all animals, especially rabbits, geese. He made, he roasted a crabber, but he made his own eel pods because he quickly yields himself. He made the pods, he made his own fishing line. He was just self-sufficient, but not to be educated.\n",
      "SPEAKER_09 (00:04:18 ; 00:04:19):\t Mm-hmm.\n",
      "SPEAKER_05 (00:04:19 ; 00:04:20):\t He was self-sufficient.\n",
      "SPEAKER_09 (00:04:20 ; 00:04:21):\t 음\n",
      "SPEAKER_05 (00:04:21 ; 00:04:30):\t And we never went hungry. I know that was more due to depression, but we were never hungry here. Never, never, never hungry. You could go to anybody's house and get something to eat.\n",
      "SPEAKER_09 (00:04:31 ; 00:04:32):\t 음 음\n",
      "SPEAKER_05 (00:04:32 ; 00:04:59):\t And then in wintertime, we had crabs, we had things from the water. So, and the people were so giving, so giving, and this stranger walked in. They walked into the home, eat, and I was lucky because I went from house to house to eat. But my best friends were not, Nettie on Gay Street. She was top notch.\n",
      "SPEAKER_05 (00:05:00 ; 00:05:03):\t Nettie. Nettie. Nettie King.\n",
      "SPEAKER_06 (00:05:03 ; 00:05:07):\t Oh, Nettie King. The King. And she was quite the cook.\n",
      "SPEAKER_05 (00:05:04 ; 00:05:21):\t Oh, Nettie King. Nettie King. The King. And she was quite the cook. She was a cook because she and her husband did not work in the factories. They worked on wealthy, not plantation, wealthy homes, wealthy folks. And they went to stay. She was a cook for the people and he was a gardener.\n",
      "SPEAKER_05 (00:05:21 ; 00:05:43):\t And when they would go, they would stay in the guest house. And when they stayed in the guest house, they would take their daughter, adopt their daughter with them. I was with her. She was top notch. But all the relatives, even the ones across the street, to tell you the truth, I did not know the names of these streets, because we used everybody's yard.\n",
      "SPEAKER_09 (00:05:44 ; 00:05:44):\t Mmm.\n",
      "SPEAKER_05 (00:05:44 ; 00:05:50):\t I didn't know the door was such a street. I felt like, uh-uh, Gay Street, I didn't know the name. We just went.\n",
      "SPEAKER_06 (00:05:50 ; 00:06:00):\t Yeah. Right. Right. That's, uh, so he, do you remember him making those eel pots? Did you ever see him do that?\n",
      "SPEAKER_05 (00:06:01 ; 00:06:01):\t Mm-hmm.\n",
      "SPEAKER_04 (00:06:02 ; 00:06:02):\t you\n",
      "SPEAKER_05 (00:06:02 ; 00:06:15):\t And then he'd fish in line. He'd just sit at the back of his house. His eel paws, fish in line. He'd catch his own eels. And he would cut them up, and then he would go down and bait his line.\n",
      "SPEAKER_06 (00:06:17 ; 00:06:20):\t Did he make those eel pots out of oak, split oak?\n",
      "SPEAKER_05 (00:06:20 ; 00:06:23):\t No, your part's a white cloth, some type of cloth.\n",
      "SPEAKER_06 (00:06:24 ; 00:06:25):\t Oh\n",
      "SPEAKER_05 (00:06:25 ; 00:06:26):\t It is a cloth tape.\n",
      "SPEAKER_06 (00:06:27 ; 00:06:28):\t Yes.\n",
      "SPEAKER_05 (00:06:29 ; 00:06:42):\t They have a copy of it in another building we have near Cousin Elmer Yard. We have some things in there. His orster rakes and things in there. My brother forgot, but that's the one that was strewed over there.\n",
      "SPEAKER_06 (00:06:43 ; 00:06:45):\t But if they're stored where?\n",
      "SPEAKER_05 (00:06:46 ; 00:06:52):\t There's a building on Cuttsville, it has a house on Churchall Road.\n",
      "SPEAKER_06 (00:06:52 ; 00:06:52):\t Mm-hmm.\n",
      "SPEAKER_05 (00:06:52 ; 00:06:55):\t the building in the back, Green Street.\n",
      "SPEAKER_07 (00:06:55 ; 00:06:55):\t Oh\n",
      "SPEAKER_06 (00:06:55 ; 00:06:57):\t Oh, behind the Velma Turner house.\n",
      "SPEAKER_05 (00:06:57 ; 00:06:57):\t Yeah.\n",
      "SPEAKER_06 (00:06:57 ; 00:07:00):\t Oh that little shed back there. Yeah.\n",
      "SPEAKER_05 (00:06:59 ; 00:07:09):\t Back there, Green Street, the street that's all grass. Everybody can drive up there if you want. Yeah, so it isn't hay. It's something I like to use all the time, yeah.\n",
      "SPEAKER_06 (00:07:08 ; 00:07:09):\t Yes, yes.\n",
      "SPEAKER_05 (00:07:09 ; 00:07:12):\t but his oyster ranks and everything from his.\n",
      "SPEAKER_05 (00:07:12 ; 00:07:14):\t The boat is stored in there.\n",
      "SPEAKER_06 (00:07:14 ; 00:07:15):\t Oh, okay.\n",
      "SPEAKER_05 (00:07:15 ; 00:07:19):\t We didn't have a store here, but took them to a street.\n",
      "SPEAKER_05 (00:07:20 ; 00:07:22):\t So we had a building built back there.\n",
      "SPEAKER_06 (00:07:24 ; 00:07:25):\t Now who were your parents?\n",
      "SPEAKER_05 (00:07:27 ; 00:07:37):\t My father was John DeShields. His picture's on there with the four generations of it. That little picture on the stand where the lamp is.\n",
      "SPEAKER_09 (00:07:38 ; 00:07:38):\t Oh.\n",
      "SPEAKER_05 (00:07:39 ; 00:07:47):\t He was seated with the baby. No, right here, where the lady is. You were pictured right there. The father's the one holding John.\n",
      "SPEAKER_05 (00:07:48 ; 00:07:56):\t Mike is standing, Dennis is standing, the Colonel is standing, and my father is one holding Johnny.\n",
      "SPEAKER_06 (00:07:58 ; 00:07:59):\t And your mother was who?\n",
      "SPEAKER_05 (00:08:00 ; 00:08:01):\t coming against Bert.\n",
      "SPEAKER_06 (00:08:01 ; 00:08:02):\t Cornelia Burke.\n",
      "SPEAKER_05 (00:08:02 ; 00:08:05):\t Yeah, she took the name of her mother.\n",
      "SPEAKER_06 (00:08:05 ; 00:08:06):\t Oh, okay.\n",
      "SPEAKER_05 (00:08:06 ; 00:08:12):\t Eliza Burke who worked on the fair right right so the other is me name is Burke B. R. K. E.\n",
      "SPEAKER_06 (00:08:06 ; 00:08:22):\t Eliza Burke who worked on the ferry. So my other name is Burke. Oh okay. So what are some of your earliest memories of Bellevue?\n",
      "SPEAKER_05 (00:08:22 ; 00:08:23):\t Everything.\n",
      "SPEAKER_05 (00:08:24 ; 00:09:25):\t instead of rosy and paved sand, crushed oyster shells, no lights. We had lanterns and few people had flashlights, but most people had lanterns. No screens in the window, no screens on the door. And then, I don't know, it's just happy. Because when we lived in Eastern, I didn't like, oh, I tell you one thing I didn't like down here was outdoors toilets. That I had to drink it. Oh, we had memories of those. My grandfather had that, but in Eastern, where we stayed with my father, my mother and father, we stayed in Eastern on Hanson Street. We had it indoors, you know, everything. We'd come down here, we had a ball with those.\n",
      "SPEAKER_06 (00:09:26 ; 00:09:27):\t I didn't catch that one.\n",
      "SPEAKER_05 (00:09:27 ; 00:09:30):\t We have them all going to the toilet.\n",
      "SPEAKER_06 (00:09:27 ; 00:09:30):\t We have a ball going to the... I totally see that. Oh, the outhouse.\n",
      "SPEAKER_05 (00:09:30 ; 00:09:32):\t Oh, sure.\n",
      "SPEAKER_06 (00:09:31 ; 00:09:32):\t Oh, sure.\n",
      "SPEAKER_05 (00:09:32 ; 00:09:32):\t Sure.\n",
      "SPEAKER_06 (00:09:33 ; 00:09:33):\t you\n",
      "SPEAKER_07 (00:09:33 ; 00:09:35):\t Sure. I really like memories here. I could\n",
      "SPEAKER_07 (00:09:36 ; 00:09:36):\t Imagine.\n",
      "SPEAKER_06 (00:09:36 ; 00:09:36):\t Yeah.\n",
      "SPEAKER_06 (00:09:38 ; 00:09:39):\t That's convenient in the middle of the night, right?\n",
      "SPEAKER_05 (00:09:39 ; 00:09:51):\t No, but you know, right? Oh, no, no, no. But you know, I had two puppies. That's why I don't have a dog now, because they lived to be 13, and they became members of the family.\n",
      "SPEAKER_05 (00:09:52 ; 00:09:57):\t I couldn't take it. Because that's what I had done when I was working. I cried all the way to work.\n",
      "SPEAKER_06 (00:09:58 ; 00:09:58):\t Yes.\n",
      "SPEAKER_05 (00:09:59 ; 00:10:02):\t just a member of the family. So I said, no, more dogs.\n",
      "SPEAKER_06 (00:10:02 ; 00:10:06):\t Right. Now, your father wasn't a waterman, was he?\n",
      "SPEAKER_05 (00:10:07 ; 00:10:09):\t No, automobiles.\n",
      "SPEAKER_06 (00:10:09 ; 00:10:10):\t Oh, okay.\n",
      "SPEAKER_05 (00:10:10 ; 00:10:52):\t Oh gosh. My father, George Shields, loved cars. He loved automobiles. So that left my mother really doing like sewing. She was my mother was very creative. I was very close to her. My father dealt with automobiles because it was easy. He worked at the garage. And then when war came, we had to make a decision to go either to the west coast or stay in this area. So we left here and went to Delaware to the shipyard. Chester and Wilmington had a shipyard.\n",
      "SPEAKER_06 (00:10:52 ; 00:10:53):\t Yeah.\n",
      "SPEAKER_05 (00:10:53 ; 00:10:54):\t So he took the wheel into the shipyard.\n",
      "SPEAKER_07 (00:10:55 ; 00:10:58):\t Oh, that's why we got that. Do you remember the shipyard?\n",
      "SPEAKER_05 (00:10:58 ; 00:10:59):\t Mm-hmm, indeed I do.\n",
      "SPEAKER_07 (00:10:59 ; 00:11:01):\t Which one was it? Do you know the name of it?\n",
      "SPEAKER_05 (00:11:01 ; 00:11:16):\t Jago, he worked already, but I knew Chester. Chester was a huser. Chester was a lady that was too far from Wilmington. Now Chester was a town to be.\n",
      "SPEAKER_06 (00:11:17 ; 00:11:22):\t Yeah, yeah, yeah, I know Chester. I know Chester well. I grew up not far from there.\n",
      "SPEAKER_05 (00:11:20 ; 00:11:23):\t I know Chester well. I grew up not far from there. You did? I love Chester.\n",
      "SPEAKER_06 (00:11:22 ; 00:11:24):\t I love Chester.\n",
      "SPEAKER_05 (00:11:24 ; 00:11:27):\t In fact, most of my classmates from...\n",
      "SPEAKER_06 (00:11:24 ; 00:11:24):\t No.\n",
      "SPEAKER_05 (00:11:27 ; 00:11:30):\t At Cheney where I went to school were from Chester.\n",
      "SPEAKER_06 (00:11:30 ; 00:11:32):\t Ah, yes.\n",
      "SPEAKER_05 (00:11:32 ; 00:11:44):\t And then when I graduated, I stayed in contact with them. So most of the men became principals, and they were very active in the Masonic Lodge. They were gorgeous affair.\n",
      "SPEAKER_06 (00:11:45 ; 00:11:51):\t So when you were young, you weren't here all the time. You were back and forth? Back and forth.\n",
      "SPEAKER_05 (00:11:52 ; 00:11:52):\t Commuter.\n",
      "SPEAKER_06 (00:11:52 ; 00:11:54):\t Commuter. Commuter. That's right.\n",
      "SPEAKER_05 (00:11:54 ; 00:11:55):\t weekend\n",
      "SPEAKER_06 (00:11:55 ; 00:11:56):\t Oh really?\n",
      "SPEAKER_05 (00:11:57 ; 00:12:12):\t But if it snowed in Wilmington, we tried to leave Wilmington, and sometimes we hadn't found the roads. Sometimes we wouldn't make it to the end of outside of Wilmington. So we turned around that next day, we hit regular value.\n",
      "SPEAKER_06 (00:12:12 ; 00:12:13):\t Hmm. Hmm.\n",
      "SPEAKER_05 (00:12:14 ; 00:12:15):\t It one million.\n",
      "SPEAKER_06 (00:12:16 ; 00:12:21):\t Yes. So you always enjoyed coming down. It didn't bother you.\n",
      "SPEAKER_05 (00:12:20 ; 00:12:23):\t It didn't bother you? No Andy, no.\n",
      "SPEAKER_06 (00:12:22 ; 00:12:37):\t So who were some, I know you mentioned Edsall Turner, who were some of your contemporaries when you were coming down here as a young girl and as a young woman?\n",
      "SPEAKER_05 (00:12:37 ; 00:12:40):\t Most of the other turners, and some family.\n",
      "SPEAKER_09 (00:12:40 ; 00:12:40):\t Isn't it?\n",
      "SPEAKER_05 (00:12:40 ; 00:12:44):\t We stayed. I went down to my grandfather's house a lot.\n",
      "SPEAKER_05 (00:12:44 ; 00:12:50):\t I knew his sister, I knew his sister, and I liked his younger brother, Sammy, his disease.\n",
      "SPEAKER_06 (00:12:44 ; 00:12:44):\t MBC 뉴스 김수근입니다.\n",
      "SPEAKER_05 (00:12:51 ; 00:12:53):\t Yeah, I knew Hager.\n",
      "SPEAKER_06 (00:12:54 ; 00:12:54):\t Đ79inking\n",
      "SPEAKER_05 (00:12:54 ; 00:12:55):\t You're right. Yeah.\n",
      "SPEAKER_06 (00:12:55 ; 00:13:02):\t together. Was Hayward, was Hayward Turner, was he Edsel's brother?\n",
      "SPEAKER_05 (00:13:01 ; 00:13:03):\t Was he Edsel's brother? Yeah.\n",
      "SPEAKER_06 (00:13:03 ; 00:13:04):\t That's his brother. Okay\n",
      "SPEAKER_05 (00:13:04 ; 00:13:08):\t And now Exxon's daughter is a superintendent of school.\n",
      "SPEAKER_06 (00:13:08 ; 00:13:08):\t Yeter.\n",
      "SPEAKER_05 (00:13:08 ; 00:13:20):\t Sharon, yeah, I knew her. When she graduated, she went to St. Michael's School. Yeah, I knew Sharon. In fact, I knew Sharon, yeah.\n",
      "SPEAKER_06 (00:13:21 ; 00:13:39):\t We've gotten a lot of information understandably about Samuel Turner, about his work and the company that he had. Could you tell us a bit about that?\n",
      "SPEAKER_06 (00:13:40 ; 00:13:44):\t And the father. Yes, the father. What are your memories of Samuel Eddie Turner?\n",
      "SPEAKER_05 (00:13:44 ; 00:13:55):\t I remember the one who ran the crevice, John Turner. He was the whiz of the family for their business when it first started.\n",
      "SPEAKER_06 (00:13:51 ; 00:13:57):\t He was the whiz of the family for their business when it first started. John Turner.\n",
      "SPEAKER_05 (00:13:57 ; 00:13:58):\t Oh my god.\n",
      "SPEAKER_06 (00:13:58 ; 00:14:00):\t People often refer to it.\n",
      "SPEAKER_05 (00:13:59 ; 00:14:00):\t They say it on Gay Street.\n",
      "SPEAKER_06 (00:14:01 ; 00:14:02):\t Mm-hmm.\n",
      "SPEAKER_05 (00:14:02 ; 00:14:06):\t And John was the one who really was the whiz.\n",
      "SPEAKER_08 (00:14:06 ; 00:14:07):\t Hmm.\n",
      "SPEAKER_05 (00:14:07 ; 00:14:29):\t I mean, because he had connections with everyone, and he would travel to Baltimore a lot. He had the latest cars. But he was a visit. And his sister, Edith Turner, which is you see now, was in charge of the paperwork in office.\n",
      "SPEAKER_06 (00:14:29 ; 00:14:41):\t So that was Samuel's brother, John Turner. Because you often hear people usually just mention Samuel Turner. They don't mention John. Not as much, no.\n",
      "SPEAKER_05 (00:14:41 ; 00:14:52):\t No, no, no, they do say he was in the boat building. He went around a lot. He dealt with the fishermen and he knew people in Tillman Island, all of those.\n",
      "SPEAKER_05 (00:14:53 ; 00:14:57):\t He was that type of person. But John was strictly business with the crab house business.\n",
      "SPEAKER_06 (00:14:54 ; 00:14:59):\t But John was strictly business with the crab house business. Oh, that's interesting. We didn't know that. Okay.\n",
      "SPEAKER_06 (00:15:00 ; 00:15:02):\t We didn't know that connection that you're making.\n",
      "SPEAKER_05 (00:15:02 ; 00:15:03):\t O que hunting extracting? Sem qual a original foi só se\n",
      "SPEAKER_06 (00:15:03 ; 00:15:13):\t Yeah, yeah, the, uh, the, uh, did you know there's another Turner? Hilbert? Did you know? Mm hmm. Who now?\n",
      "SPEAKER_05 (00:15:13 ; 00:15:14):\t Let's see.\n",
      "SPEAKER_06 (00:15:16 ; 00:15:18):\t He's a cousin or nephew of...\n",
      "SPEAKER_05 (00:15:18 ; 00:15:21):\t Is that... I know about that bill.\n",
      "SPEAKER_06 (00:15:19 ; 00:15:19):\t That's all.\n",
      "SPEAKER_05 (00:15:23 ; 00:15:49):\t There are two sets of tenors. The tenors, we lived next to my aunt on Gay Street, the two-story white house that they just renovated. I think the sheriff bought that. The house next door is the Turner's house. That's where the mother, I remember her, their mother, their father. But the father was a, he piloted the ships to Baltimore.\n",
      "SPEAKER_08 (00:15:50 ; 00:15:50):\t Mmm.\n",
      "SPEAKER_05 (00:15:50 ; 00:15:54):\t The elderly Turner, the family father of all of us.\n",
      "SPEAKER_06 (00:15:52 ; 00:15:53):\t差了\n",
      "SPEAKER_05 (00:15:54 ; 00:15:57):\t Right. I remember him. Except William.\n",
      "SPEAKER_06 (00:15:55 ; 00:15:58):\t Right. I remember him. Is that William Aubrey?\n",
      "SPEAKER_05 (00:15:58 ; 00:16:02):\t Yeah, I remember him. I was small, but I remember him.\n",
      "SPEAKER_06 (00:15:58 ; 00:16:05):\t Yeah, I remember him. I was small, but I remember him. Yeah, I suppose he was a captain of a security team.\n",
      "SPEAKER_05 (00:16:05 ; 00:16:08):\t Yeah, he looked just he wore the hats and everything just like that\n",
      "SPEAKER_06 (00:16:08 ; 00:16:09):\t Oh, he did.\n",
      "SPEAKER_05 (00:16:09 ; 00:16:28):\t Yeah, he looked just like them, yeah. And then Hampton, there was a large family. Now, not too many left in that family. Bill Murray's oldest turner was\n",
      "SPEAKER_06 (00:16:31 ; 00:16:31):\t Who's out?\n",
      "SPEAKER_05 (00:16:33 ; 00:17:12):\t He did it on Gate Street. Otis Turner had another set of children. Now another Otis Turner's children. He was Arby's Turner's, I guess, Eddie. He was Eddie Turner's brother, Otis Turner. They had Twin Maurice and, oh, shoot, because whatever, when he grew up, he spent time in Saudi Arabia. All of them are, what you call them when you go to, not engineers, engineers. They make a drop, plants.\n",
      "SPEAKER_09 (00:17:12 ; 00:17:13):\t Mm-hmm.\n",
      "SPEAKER_05 (00:17:13 ; 00:17:23):\t Because Kenny Turner, the smallest one of the Turner family built the first sailboat around here. He built a go-kart out of a refrigerator loader. They're just natural.\n",
      "SPEAKER_06 (00:17:23 ; 00:17:23):\t 응\n",
      "SPEAKER_05 (00:17:24 ; 00:17:24):\t It's just in there.\n",
      "SPEAKER_06 (00:17:25 ; 00:17:27):\t Hmm hmm all the turners\n",
      "SPEAKER_05 (00:17:27 ; 00:17:29):\t I'm not certain. It's just natural.\n",
      "SPEAKER_06 (00:17:30 ; 00:17:32):\t Very mechanically inclined, huh?\n",
      "SPEAKER_05 (00:17:33 ; 00:17:38):\t They are. Because the large houses you see are in Gay Street, but the fly poll, the general built that.\n",
      "SPEAKER_06 (00:17:36 ; 00:17:37):\t Mm-hmm.\n",
      "SPEAKER_05 (00:17:38 ; 00:18:12):\t Gerald Turner. You see she was in the service. And we grew up together and I asked why was the house so large. He built a foundation and it was a long while before he put the house up. I said could I escape now? He kept the bases of the house but I don't know how it is now. But he had the plans just like a regular archipelago. And he built it himself and just started to howl.\n",
      "SPEAKER_06 (00:18:12 ; 00:18:13):\t Mmm.\n",
      "SPEAKER_06 (00:18:13 ; 00:18:21):\t Was John Turner a partner with Samuel Turner? Were they partners in the same business, the Bellevue Seafood Company?\n",
      "SPEAKER_05 (00:18:23 ; 00:18:27):\t In a way, but John was the boss. I'm sorry.\n",
      "SPEAKER_09 (00:18:27 ; 00:18:27):\t 음\n",
      "SPEAKER_05 (00:18:27 ; 00:18:39):\t He was a business, he was a business man, John. Cuz you saw the crab pickers coming cuz he had a, we crab, my brother and I cracked claws, we were supposed to be in the air.\n",
      "SPEAKER_09 (00:18:39 ; 00:18:39):\t Mm.\n",
      "SPEAKER_05 (00:18:39 ; 00:18:43):\t But we cracked claws to her body, but mother did another part of the craft.\n",
      "SPEAKER_06 (00:18:45 ; 00:18:46):\t I'm your mother.\n",
      "SPEAKER_05 (00:18:46 ; 00:18:51):\t Oh yeah, she cried, she'd speak crabs, and she went to get some, and she did some made us act really.\n",
      "SPEAKER_06 (00:18:52 ; 00:18:57):\t Oh, well tell us a little bit about that. Your mother's work, which she did.\n",
      "SPEAKER_05 (00:18:58 ; 00:19:42):\t Down here, she was in the crab business. She picked the crabs, because that's how we made our money for school. Summertime, we all would go to the crab house. The children did the claws, and the adults did the other part of the crab. We weren't supposed to be there, but it was expected we had to scatter, not to have to leave. But, my mother was amazing. She was everything. By being down here, she learned how to be a seamstress. She did hook rocks, she did crochet, and she did everything. Natural, just came naturally.\n",
      "SPEAKER_08 (00:19:40 ; 00:19:43):\t Natural, just getting natural.\n",
      "SPEAKER_05 (00:19:44 ; 00:19:46):\t We all get a lot of reading here.\n",
      "SPEAKER_08 (00:19:46 ; 00:19:46):\t Hmm.\n",
      "SPEAKER_05 (00:19:46 ; 00:19:48):\t He just had the radio.\n",
      "SPEAKER_08 (00:19:49 ; 00:19:49):\t Mm-hmm.\n",
      "SPEAKER_05 (00:19:49 ; 00:19:50):\t We all did a lot of reading.\n",
      "SPEAKER_08 (00:19:51 ; 00:19:51):\t Hmm.\n",
      "SPEAKER_05 (00:19:52 ; 00:20:01):\t because we would get the Marvel comic books, and then my cousin would read the two stories, two perfection stories.\n",
      "SPEAKER_06 (00:20:01 ; 00:20:01):\t No.\n",
      "SPEAKER_05 (00:20:01 ; 00:20:03):\t So we all ready.\n",
      "SPEAKER_06 (00:20:03 ; 00:20:04):\t Right, right.\n",
      "SPEAKER_05 (00:20:05 ; 00:20:14):\t I'm so sorry that when we moved from Eastern, we left all our comic books, all of those, because they would have been worth money now.\n",
      "SPEAKER_05 (00:20:15 ; 00:20:22):\t We read every comic book you could have. Those Marvel comic books. But we left a bit in the house and my father...\n",
      "SPEAKER_05 (00:20:22 ; 00:20:29):\t did not go back to take the, I think they were stored in the attic. But they were worth a lot of money.\n",
      "SPEAKER_06 (00:20:30 ; 00:20:36):\t So Cornelia, Cornelia Burke worked in the, was it the Turner Company?\n",
      "SPEAKER_05 (00:20:36 ; 00:20:49):\t Yeah, she worked down here. She worked at the tomato factory in the Claiborne. That's where the ferry came. Claiborne going towards... Claiborne and... I saw the St. Michael's. Yes. Well, that's where the ferry came in.\n",
      "SPEAKER_06 (00:20:49 ; 00:20:56):\t Yes, yes. Uh-huh. Was that an African American owned company, Clayburn? Geez.\n",
      "SPEAKER_05 (00:20:57 ; 00:21:02):\t Yeah, the one in St. Michael's was. He went to St. Michael's. He had a huge, yeah, Jewish, African name.\n",
      "SPEAKER_06 (00:20:59 ; 00:21:03):\t I can have it. He was Jewish. I forget his name.\n",
      "SPEAKER_05 (00:21:03 ; 00:21:19):\t Yeah. They worked there. Tomatoes, grass, tomatoes, where else did they go? Wherever they worked, they had a truck to pick them up, a bus to pick them up.\n",
      "SPEAKER_08 (00:21:19 ; 00:21:20):\t Mmm.\n",
      "SPEAKER_05 (00:21:20 ; 00:21:21):\t Use your chocolate to come out.\n",
      "SPEAKER_08 (00:21:21 ; 00:21:24):\t Hmm. Yeah.\n",
      "SPEAKER_05 (00:21:25 ; 00:21:41):\t But he never was out of work. But when my mother went to the city, she was away from all of this, just missed everything. When I came back here, because where I am, where I've been living now, in this day, this was where he kept the cattle, the Valiants.\n",
      "SPEAKER_05 (00:21:41 ; 00:21:42):\t I'll get this paddle and wear my...\n",
      "SPEAKER_09 (00:21:41 ; 00:21:41):\t you\n",
      "SPEAKER_05 (00:21:43 ; 00:21:53):\t where my brother lives, in front of him were the cornfield. Then all the other was woods. We didn't go any further.\n",
      "SPEAKER_06 (00:21:54 ; 00:21:56):\t So this was a pasture for...\n",
      "SPEAKER_05 (00:21:57 ; 00:21:57):\t for cattle.\n",
      "SPEAKER_06 (00:21:57 ; 00:21:59):\t For cattle. For cattle. For cattle.\n",
      "SPEAKER_05 (00:21:58 ; 00:22:02):\t This half and then the other part past the church.\n",
      "SPEAKER_06 (00:22:02 ; 00:22:02):\t Mm-hmm.\n",
      "SPEAKER_05 (00:22:02 ; 00:22:04):\t was a corpia.\n",
      "SPEAKER_06 (00:22:04 ; 00:22:07):\t the area where they're developing it right now that\n",
      "SPEAKER_05 (00:22:07 ; 00:22:08):\t I want to make it that yet cornfield.\n",
      "SPEAKER_06 (00:22:08 ; 00:22:12):\t Right across the street from the church, that was the cornfield. Wow.\n",
      "SPEAKER_05 (00:22:13 ; 00:22:16):\t And then for the day I went, woods, we didn't go.\n",
      "SPEAKER_06 (00:22:16 ; 00:22:17):\t Yeah.\n",
      "SPEAKER_05 (00:22:17 ; 00:22:18):\t No one lived here.\n",
      "SPEAKER_06 (00:22:19 ; 00:22:20):\t The best.\n",
      "SPEAKER_05 (00:22:19 ; 00:22:21):\t Except the mail carrier.\n",
      "SPEAKER_06 (00:22:22 ; 00:22:27):\t The Valiant factory that was here, that was no longer in operation when you were young, was it?\n",
      "SPEAKER_05 (00:22:29 ; 00:22:56):\t I remember just a little bit, yeah. Yeah, but most of the people came from Oxford and they used the ferry a lot to come over here to work. I remember, no, I remember Vagant store, post office, being on the corner. And then the Vagant house was, as you go around to the ferry, they had a large house there, where the mother and father lived.\n",
      "SPEAKER_09 (00:22:57 ; 00:22:57):\t Mm.\n",
      "SPEAKER_05 (00:22:57 ; 00:23:06):\t than going down with the factory. I don't know too much about that, because I stayed up. I liked the river, I liked the water. I went for the river.\n",
      "SPEAKER_06 (00:23:06 ; 00:23:07):\t Uh...\n",
      "SPEAKER_05 (00:23:07 ; 00:23:07):\t Yeah.\n",
      "SPEAKER_06 (00:23:07 ; 00:23:30):\t Yes, yeah that's the, you referred, you know, we've been doing a lot of work in the field school on the buildings of course. And you mentioned some of the phrase that we used, up and down house. Oh yeah, I can draw that. What did you call it, what was the term you used? A one up, did you call it?\n",
      "SPEAKER_09 (00:23:24 ; 00:23:25):\t Thank you.\n",
      "SPEAKER_05 (00:23:25 ; 00:23:30):\t Yeah, I think so. What did you call it? What was the term you used? A 1-up, did you call it? 1-up.\n",
      "SPEAKER_06 (00:23:30 ; 00:23:31):\tIZ great\n",
      "SPEAKER_05 (00:23:31 ; 00:23:31):\t One room up.\n",
      "SPEAKER_06 (00:23:32 ; 00:23:32):\t No, no, no.\n",
      "SPEAKER_05 (00:23:32 ; 00:23:33):\t No, no, no.\n",
      "SPEAKER_05 (00:23:33 ; 00:23:43):\t But they did most of the cooking outside. They built a little, I don't call it a shack, but a little one-story building outside where they cooked.\n",
      "SPEAKER_06 (00:23:44 ; 00:23:45):\t Huh. Huh.\n",
      "SPEAKER_05 (00:23:45 ; 00:23:56):\t Yeah, very seldom. You know, my grandfather says she cooked this. I had a kerosene stove. Yeah, and a pot belly stove. In the living room.\n",
      "SPEAKER_06 (00:23:58 ; 00:23:59):\t That was true.\n",
      "SPEAKER_05 (00:23:58 ; 00:24:00):\t upstairs had two rooms.\n",
      "SPEAKER_06 (00:24:00 ; 00:24:04):\t Yeah. That was your grandparents, did you say? Or your parents?\n",
      "SPEAKER_05 (00:24:04 ; 00:24:04):\tเจ้าคุณพุทธ ขอบคุณครับ\n",
      "SPEAKER_06 (00:24:04 ; 00:24:05):\t You're great.\n",
      "SPEAKER_05 (00:24:04 ; 00:24:07):\t Where my brother's living, the house where he's living.\n",
      "SPEAKER_06 (00:24:07 ; 00:24:08):\t The Thomas House, yeah.\n",
      "SPEAKER_05 (00:24:07 ; 00:24:09):\t See you. Bye.\n",
      "SPEAKER_06 (00:24:09 ; 00:24:09):\t Yes.\n",
      "SPEAKER_05 (00:24:11 ; 00:24:13):\t He's my great-grandfather, yeah. My brother's house.\n",
      "SPEAKER_06 (00:24:12 ; 00:24:14):\t My brother's house.\n",
      "SPEAKER_05 (00:24:14 ; 00:24:19):\t That's my grandfather's house. That's our great- used to be my grandfather's house. Your grandfather's house. Yes, he took over that.\n",
      "SPEAKER_06 (00:24:18 ; 00:24:20):\t Yes, he took over that.\n",
      "SPEAKER_05 (00:24:20 ; 00:24:23):\t and renovated it. Right, right. That's where we stayed.\n",
      "SPEAKER_06 (00:24:20 ; 00:24:26):\t and renovated it. That's where we stayed.\n",
      "SPEAKER_05 (00:24:26 ; 00:24:29):\t We came from Eastern, we came down here to stay down there.\n",
      "SPEAKER_06 (00:24:29 ; 00:24:33):\t Yeah, right. Well that's interesting about the cooking.\n",
      "SPEAKER_05 (00:24:33 ; 00:24:36):\t Most of them are especially on Dawson Street.\n",
      "SPEAKER_05 (00:24:37 ; 00:24:39):\t They didn't have the kitchen.\n",
      "SPEAKER_05 (00:24:40 ; 00:24:45):\t Oh, they're just too close, so they have a little extra building right aside.\n",
      "SPEAKER_06 (00:24:45 ; 00:24:46):\t Hmm\n",
      "SPEAKER_05 (00:24:45 ; 00:24:46):\t where they cook.\n",
      "SPEAKER_06 (00:24:46 ; 00:24:48):\t Yeah, like a summer kitchen they call it.\n",
      "SPEAKER_05 (00:24:48 ; 00:24:50):\t Yeah, it's a good sign, yeah.\n",
      "SPEAKER_06 (00:24:50 ; 00:24:56):\t Separate. Yeah, separate little kitchens, separate from the main house.\n",
      "SPEAKER_05 (00:24:50 ; 00:24:57):\t Yeah, separate little kitchens, separate from the main house. Oh, yeah, okay, that's something.\n",
      "SPEAKER_06 (00:24:58 ; 00:24:59):\t Yeah, right.\n",
      "SPEAKER_05 (00:25:00 ; 00:25:02):\t Yeah. And then they'll take the food in the house.\n",
      "SPEAKER_02 (00:25:02 ; 00:25:04):\t What foods did they cook?\n",
      "SPEAKER_05 (00:25:04 ; 00:25:19):\t They had their own garden, had their own potatoes, sea potatoes, corn, everything. And they had their own hog pig. They raised their own little pig and at a certain time they would kill the hogs.\n",
      "SPEAKER_06 (00:25:21 ; 00:25:23):\t So hog killings were a tradition around here.\n",
      "SPEAKER_05 (00:25:23 ; 00:26:15):\t Yeah. Certain people did it. They did it on Dawson Street. I saw one, I didn't want to see any other. Now my aunt went on Gay Street. She had everything. She had everything. She had her own hog. And then, by her working out with other people, with the wealthy people, that's what she had in her house. Her wooden stove was double size, beautiful. This kind of stove that had legs on it. And she had a little part where she made her rolls. People wore a warm warmer up the top of the stove. Her house was just a deluxe.\n",
      "SPEAKER_08 (00:26:15 ; 00:26:15):\t Mm.\n",
      "SPEAKER_05 (00:26:16 ; 00:26:18):\t but being out working with the others.\n",
      "SPEAKER_08 (00:26:18 ; 00:26:18):\t 응\n",
      "SPEAKER_05 (00:26:20 ; 00:26:23):\t You better work with the wealthy folks as we call.\n",
      "SPEAKER_06 (00:26:23 ; 00:26:34):\t Right. Yeah. But it's interesting, the food traditions, were there particular foods that were prepared that were particularly?\n",
      "SPEAKER_05 (00:26:34 ; 00:26:36):\t Oh yeah, everyone was known for their own bread.\n",
      "SPEAKER_06 (00:26:36 ; 00:26:37):\t No. They're on bread.\n",
      "SPEAKER_05 (00:26:37 ; 00:27:07):\t My grandfather's wife was known for her lemon meringue pie, which she made with a fork. She did not have a beater. She did not have, she made the meringue with a fork. And my aunt, what was her name's worth? Her bread, and she canned her meats. Whenever they killed the hogs, sometimes they'd kill the meat, and she can't put them in a jar.\n",
      "SPEAKER_08 (00:27:08 ; 00:27:09):\t Mm-hmm.\n",
      "SPEAKER_05 (00:27:10 ; 00:27:20):\t she can't ameat, they're all on the shelf. Everyone had a vegetable garden. And if they didn't have enough, then you could have some. Everyone shared.\n",
      "SPEAKER_09 (00:27:20 ; 00:27:20):\t Mm.\n",
      "SPEAKER_05 (00:27:20 ; 00:27:28):\t Potatoes, onions, tomatoes, whatever they had in the garden, you're welcome to it.\n",
      "SPEAKER_06 (00:27:28 ; 00:27:35):\t But did most of the houses in the community have a garden and their own animal as well?\n",
      "SPEAKER_05 (00:27:35 ; 00:27:40):\t Most of them had gardens. The only one who had an animal was my grandfather.\n",
      "SPEAKER_06 (00:27:40 ; 00:27:41):\t Your grandfather. Yeah.\n",
      "SPEAKER_05 (00:27:43 ; 00:27:49):\t hound dogs, four dogs, you know the G-6 you see flying around?\n",
      "SPEAKER_09 (00:27:49 ; 00:27:49):\t Yeah.\n",
      "SPEAKER_05 (00:27:49 ; 00:27:58):\t He had two of his yard. He took out away. The way he shot it, he clipped their wing and they stay on the ground.\n",
      "SPEAKER_08 (00:27:58 ; 00:27:59):\t Mm-hmm.\n",
      "SPEAKER_05 (00:27:59 ; 00:28:16):\t He had regular ducks, he had pigeons, homing pigeons, he had cows, he had chickens because the eggs he supposed to sell when he gave him the raw cane he didn't need eggs, he just gave eggs to people.\n",
      "SPEAKER_06 (00:28:16 ; 00:28:17):\t Right.\n",
      "SPEAKER_05 (00:28:17 ; 00:28:26):\t Everybody had something. If you didn't have it, then your neighbor would share. That's the way it was when I was growing up here. It's different now, different generation.\n",
      "SPEAKER_06 (00:28:24 ; 00:28:33):\t It's different now, different generation. We see that he was a trapper. Oh, yes.\n",
      "SPEAKER_05 (00:28:33 ; 00:28:39):\t Oh, he would catch the animals if he had the... I guess he had a picture of him where he stretches his skin.\n",
      "SPEAKER_06 (00:28:39 ; 00:28:39):\t Right.\n",
      "SPEAKER_05 (00:28:39 ; 00:28:41):\t Oh yeah, he would do that himself.\n",
      "SPEAKER_06 (00:28:41 ; 00:28:45):\t And do you know where he sold those pelts?\n",
      "SPEAKER_05 (00:28:46 ; 00:28:57):\t There were a lot of wealthy people still living around like in deep neck.\n",
      "SPEAKER_06 (00:28:57 ; 00:28:57):\t Yeah.\n",
      "SPEAKER_08 (00:28:57 ; 00:28:57):\t you\n",
      "SPEAKER_05 (00:28:58 ; 00:29:02):\t Fairnett, St. Michael's, they knew him.\n",
      "SPEAKER_06 (00:29:02 ; 00:29:03):\t Mmm\n",
      "SPEAKER_05 (00:29:04 ; 00:29:06):\t Everyone knew Booth started Booth.\n",
      "SPEAKER_06 (00:29:06 ; 00:29:07):\t Boots.\n",
      "SPEAKER_05 (00:29:07 ; 00:29:08):\t They're calling boots. Boots.\n",
      "SPEAKER_06 (00:29:08 ; 00:29:09):\t Boots. Boots Thomas?\n",
      "SPEAKER_05 (00:29:09 ; 00:29:10):\t the dramas.\n",
      "SPEAKER_05 (00:29:10 ; 00:29:33):\t Well, William Thomas, they call him Boots. But everyone knew him. And he was very close to the one who owned the farm. He was a weatherman. He's on the last curve as you come around. He knew. I forget. But he'd only hunt in certain woods. He didn't go to every wood.\n",
      "SPEAKER_05 (00:29:33 ; 00:29:35):\t Only where he had permission.\n",
      "SPEAKER_09 (00:29:36 ; 00:29:36):\t Right.\n",
      "SPEAKER_05 (00:29:37 ; 00:29:47):\t If he trapped, he'd beat all of that. Without any knowledge, he'd not go to school.\n",
      "SPEAKER_09 (00:29:44 ; 00:29:50):\t He would not go to school.\n",
      "SPEAKER_05 (00:29:50 ; 00:30:07):\t It was just knowledge. It was always so funny when you asked him at the time, he would have a watch, you know, change. Then he'd look at the sky, well, I think it's so and so and so and so. He never would tell his exact time with his watch.\n",
      "SPEAKER_02 (00:30:08 ; 00:30:12):\t right. Do you think these skills were passed down? Do you think they were family traditions that\n",
      "SPEAKER_05 (00:30:08 ; 00:30:08):\t right\n",
      "SPEAKER_02 (00:30:13 ; 00:30:18):\t each like mother father just passed down to their kids and that's how everyone\n",
      "SPEAKER_05 (00:30:18 ; 00:31:26):\t And you know what, probably, but see they came up, I think they came up from Georgia. I don't understand, there were four brothers. There were four brothers, and most of them came up from Crisfield. See, like, when they came up from the South, they ended up in Crisfield, then they found out, found the endowment, Dr. Crisfield, to his plant in Bellevue. It happened itself because the other brothers, if you thought well, William Thomas, Johnny Thomas, Brown Thomas, now one of the brothers, all of them married around here except one, one of the brothers went to Baltimore, because he could pass, he passed, he just went on to pass. He didn't have, all of them had, three brothers had curly, curly hair, but he had straight hair. So he just went to Baltimore and worked there. But yet, his sister took care of all of them buried in Eastern.\n",
      "SPEAKER_05 (00:31:27 ; 00:31:29):\t I need to have a sandwich lot.\n",
      "SPEAKER_05 (00:31:31 ; 00:31:37):\t All of them buried right in Eastern, right on our plots where I close together.\n",
      "SPEAKER_08 (00:31:34 ; 00:31:38):\t I don't know, our plots were close together.\n",
      "SPEAKER_05 (00:31:39 ; 00:32:01):\t Yeah, he went. He went there. Yeah, he went to Baltimore, Lafayette. Now my mother's side, Burke's side, I don't know too much about them, but they do not work in the factories. I don't know what type of work they do, but they always dress nicely.\n",
      "SPEAKER_09 (00:32:02 ; 00:32:02):\t Hmm.\n",
      "SPEAKER_05 (00:32:03 ; 00:32:14):\t the Berks side. But to me, I think they all worked in private families. They worked out with wealthy families.\n",
      "SPEAKER_06 (00:32:14 ; 00:32:16):\t Right.\n",
      "SPEAKER_05 (00:32:15 ; 00:32:41):\t Because every time they... I would see them when we had homecoming here. Homecoming they would come from Baltimore, you know, Philadelphia and everything. And they'd come, they were dressed. They were dressed. But the Burks probably from other side... I don't know. They were not... not into crabbing, not into fishing. They were mostly for... they were mostly in private families.\n",
      "SPEAKER_05 (00:32:45 ; 00:32:53):\t Yeah, they were very nice looking, handsome, nice looking people. You know, a mix of Indian, they had that Indian blood.\n",
      "SPEAKER_08 (00:32:53 ; 00:32:53):\t Oh\n",
      "SPEAKER_06 (00:32:53 ; 00:32:54):\t Oh.\n",
      "SPEAKER_05 (00:32:55 ; 00:32:56):\t Yeah, nice of her.\n",
      "SPEAKER_06 (00:32:56 ; 00:33:05):\t Your brother likes to talk about the social hall that was right near your house. He calls it the juke joint sometimes.\n",
      "SPEAKER_05 (00:33:04 ; 00:33:13):\t That's the only place we could go because we'd go to Perry Melton's place. Perry Melton's place is on Gate Street.\n",
      "SPEAKER_05 (00:33:13 ; 00:33:13):\t 아, 아, 아, 아, 아, 아, 아, 아, 아, 아, 아, 아, 아, 아, 아, 아, 아, 아, 아, 아, 아, 아, 아, 아, 아, 아, 아, 아, 아, 아, 아, 아, 아, 아, 아, 아, 아, 아, 아, 아, 아, 아, 아, 아, 아, 아, 아, 아, 아, 아, 아, 아, 아, 아, 아, 아, 아, 아, 아, 아, 아, 아, 아, 아, 아, 아, 아, 아, 아, 아, 아, 아, 아, 아, 아, 아, 아, 아, 아, 아, 아, 아, 아, 아, 아, 아, 아, 아, 아, 아, 아, 아, 아, 아, 아, 아, 아, 아, 아, 아, 아, 아, 아, 아, 아, 아, 아, 아, 아, 아, 아, 아\n",
      "SPEAKER_06 (00:33:13 ; 00:33:17):\t I heard there was a hole right there. Harold Adams was telling us.\n",
      "SPEAKER_05 (00:33:17 ; 00:33:20):\t Yes, because I think that's where all the famous musicians came down here.\n",
      "SPEAKER_06 (00:33:20 ; 00:33:22):\t at the end of Yates Street.\n",
      "SPEAKER_05 (00:33:22 ; 00:33:26):\t Yeah, all the things on Saturday, all the all over Baltimore.\n",
      "SPEAKER_06 (00:33:26 ; 00:33:26):\t Huh.\n",
      "SPEAKER_05 (00:33:27 ; 00:33:30):\t Oh, cars are parked all over the place.\n",
      "SPEAKER_06 (00:33:30 ; 00:33:38):\t So the one on Gage Street, was that more prominent than the one that was on Poplar near your brother's house?\n",
      "SPEAKER_05 (00:33:38 ; 00:33:39):\t等會,我再拍東西\n",
      "SPEAKER_06 (00:33:39 ; 00:33:40):\t Nicey\n",
      "SPEAKER_06 (00:33:40 ; 00:33:42):\t Thanks. Thanks.\n",
      "SPEAKER_05 (00:33:42 ; 00:33:43):\t You're allowed to go there.\n",
      "SPEAKER_05 (00:33:44 ; 00:33:45):\t I don't know what I'm doing to you.\n",
      "SPEAKER_05 (00:33:46 ; 00:34:12):\t Uh-oh. You could only look in the window. Oh, good. Oh, my gosh. Oh, no, because that was like upstairs. Upstairs was like a dance hall. We had parties, birthday parties, little plays upstairs. Yeah. Now the store and the restaurant was down. Mr. Nick was, yeah, Mr. Nick was the store owner.\n",
      "SPEAKER_06 (00:34:13 ; 00:34:14):\t Mr. Nick?\n",
      "SPEAKER_05 (00:34:14 ; 00:34:15):\t Nick Garner.\n",
      "SPEAKER_06 (00:34:16 ; 00:34:18):\t Mm-hmm. He owned the store.\n",
      "SPEAKER_05 (00:34:18 ; 00:34:23):\t How am I not hearing a story? You have a little pump outside. I think it was kerosene.\n",
      "SPEAKER_06 (00:34:20 ; 00:34:20):\t I'm sorry.\n",
      "SPEAKER_05 (00:34:24 ; 00:34:26):\t He didn't take no, I had a car.\n",
      "SPEAKER_06 (00:34:24 ; 00:34:31):\t The store was on the first floor. Did the store have a name?\n",
      "SPEAKER_05 (00:34:28 ; 00:34:34):\t Uh huh. Did the store have a name or was it... Um... It's the next door, that's all.\n",
      "SPEAKER_06 (00:34:34 ; 00:34:34):\t It's the story.\n",
      "SPEAKER_05 (00:34:34 ; 00:34:36):\t down here was Dragon's store.\n",
      "SPEAKER_06 (00:34:36 ; 00:34:37):\t Valiant store, yes.\n",
      "SPEAKER_05 (00:34:37 ; 00:34:40):\t Yes, we go down there.\n",
      "SPEAKER_06 (00:34:38 ; 00:34:38):\t Yes.\n",
      "SPEAKER_05 (00:34:40 ; 00:34:45):\t He sold most of the things that the people purchased from the value store here.\n",
      "SPEAKER_06 (00:34:45 ; 00:34:46):\t Oh, okay.\n",
      "SPEAKER_05 (00:34:46 ; 00:34:48):\t Everyone had a book, had a page.\n",
      "SPEAKER_06 (00:34:48 ; 00:34:49):\t Right.\n",
      "SPEAKER_05 (00:34:49 ; 00:34:52):\t No one paid. He paid at the end of the week.\n",
      "SPEAKER_06 (00:34:49 ; 00:34:53):\t No one paid. He paid at the end of the week.\n",
      "SPEAKER_07 (00:34:53 ; 00:34:54):\t I see.\n",
      "SPEAKER_05 (00:34:54 ; 00:35:05):\t Yeah, down here was post office, but Mr. Gardner, the gardener's door had, he had a nice little, he could cook too. So the rest were up.\n",
      "SPEAKER_07 (00:35:03 ; 00:35:06):\t What was his first name?\n",
      "SPEAKER_05 (00:35:06 ; 00:35:13):\t Nick Nick Nick yeah, Nick, Nicholas Scott Nicholas. Of course genius or father Donnie's Donald's garden father\n",
      "SPEAKER_07 (00:35:06 ; 00:35:06):\t next\n",
      "SPEAKER_09 (00:35:13 ; 00:35:14):\t Вruce.\n",
      "SPEAKER_05 (00:35:15 ; 00:35:20):\t and his brother was Saber Turner. She was a Turner.\n",
      "SPEAKER_06 (00:35:19 ; 00:35:20):\t Hmm.\n",
      "SPEAKER_05 (00:35:20 ; 00:35:21):\t Tää on iso idea.\n",
      "SPEAKER_06 (00:35:22 ; 00:35:28):\t Who operated the juke joint on Gate Street?\n",
      "SPEAKER_05 (00:35:28 ; 00:35:41):\t the sound these little crosses. Oh he was handsome. Your cousins? Perry Milton. What was his name? Perry Milton.\n",
      "SPEAKER_06 (00:35:39 ; 00:35:42):\t What was his name? Perry Milton.\n",
      "SPEAKER_05 (00:35:42 ; 00:35:43):\t Milton family.\n",
      "SPEAKER_06 (00:35:43 ; 00:35:44):\t Harry Milton.\n",
      "SPEAKER_05 (00:35:44 ; 00:35:46):\t Yes. Yes.\n",
      "SPEAKER_06 (00:35:46 ; 00:35:48):\t And he operated the...\n",
      "SPEAKER_05 (00:35:48 ; 00:35:52):\t And Dee Dee, he was handsome too. His son was handsome.\n",
      "SPEAKER_06 (00:35:53 ; 00:35:54):\t Yeah, oh god.\n",
      "SPEAKER_05 (00:35:54 ; 00:36:01):\t He was very close to the one in Eastern, Jesse Webb. Oh. Oh, boy, yeah.\n",
      "SPEAKER_08 (00:36:01 ; 00:36:01):\t Yeah.\n",
      "SPEAKER_05 (00:36:02 ; 00:36:20):\t We had a cousin right across. Because when I moved in here, all of us were related. But next to me was Alice, who taught in Baltimore. The next house was a cousin. Then across the street was cousin Maisie. Next house was a cousin. Then across the street was a cousin.\n",
      "SPEAKER_08 (00:36:20 ; 00:36:21):\t Mmm.\n",
      "SPEAKER_05 (00:36:21 ; 00:36:26):\t I was first to move in and then all the others moved in.\n",
      "SPEAKER_06 (00:36:26 ; 00:36:26):\t Hmm.\n",
      "SPEAKER_06 (00:36:28 ; 00:36:35):\t What type of bands used to come into this?\n",
      "SPEAKER_05 (00:36:35 ; 00:36:37):\t And I think the famous one.\n",
      "SPEAKER_05 (00:36:39 ; 00:36:49):\t like uh look they went to the royal theater in Baltimore whoever played there and sometimes sometimes the cantaloupe and all the other big old bands this was\n",
      "SPEAKER_08 (00:36:49 ; 00:36:50):\t Hmm\n",
      "SPEAKER_05 (00:36:51 ; 00:36:52):\t They weren't famous then.\n",
      "SPEAKER_08 (00:36:52 ; 00:36:53):\t Hmm\n",
      "SPEAKER_05 (00:36:54 ; 00:37:06):\t But they'd get down here and then easted and then it rolled out. This place is called Banjo Daddy with another club.\n",
      "SPEAKER_06 (00:37:06 ; 00:37:07):\t What was it called?\n",
      "SPEAKER_05 (00:37:08 ; 00:37:13):\t Banjo Dennis. Dennis. You know what the church, the church's thing called Church Pernil has.\n",
      "SPEAKER_06 (00:37:09 ; 00:37:13):\t Spanish. You know what the church, the church this thing called church Colonel has.\n",
      "SPEAKER_05 (00:37:13 ; 00:37:13):\t you\n",
      "SPEAKER_06 (00:37:13 ; 00:37:13):\t Yes.\n",
      "SPEAKER_05 (00:37:13 ; 00:37:25):\t Okay, gentlemen, as you go out, that land, I think one house is there now. I think that the son or somebody has the house now. That land was a little casino, too.\n",
      "SPEAKER_06 (00:37:25 ; 00:37:26):\t Look, banjo Danny.\n",
      "SPEAKER_05 (00:37:25 ; 00:37:28):\t Banjo Denny's. Yeah, they call him Banjo Denny's. That was his place.\n",
      "SPEAKER_06 (00:37:29 ; 00:37:30):\t Danny or Danny?\n",
      "SPEAKER_05 (00:37:30 ; 00:37:30):\t Dennis!\n",
      "SPEAKER_06 (00:37:30 ; 00:37:31):\t Danny.\n",
      "SPEAKER_05 (00:37:31 ; 00:37:31):\t Daddy.\n",
      "SPEAKER_06 (00:37:33 ; 00:37:33):\t Gotcha.\n",
      "SPEAKER_05 (00:37:33 ; 00:37:34):\t Yeah.\n",
      "SPEAKER_06 (00:37:35 ; 00:37:36):\t Well, the uh...\n",
      "SPEAKER_05 (00:37:36 ; 00:37:37):\t Oh yeah, there's a nice one right here.\n",
      "SPEAKER_06 (00:37:38 ; 00:37:43):\t Yeah, that's funny that as you say the two...\n",
      "SPEAKER_05 (00:37:44 ; 00:37:48):\t But see, we were not incorporated. We didn't have streetlights. Nobody wanted streetlights.\n",
      "SPEAKER_06 (00:37:50 ; 00:37:51):\t Right. Right.\n",
      "SPEAKER_05 (00:37:50 ; 00:37:55):\t I had to get security lights because we were not here.\n",
      "SPEAKER_06 (00:37:57 ; 00:37:57):\t Yeah.\n",
      "SPEAKER_05 (00:37:57 ; 00:38:06):\t Yeah, that's why you don't see a street. Let me find an exit. They came in, they wanted to incorporate Bellevue. We said no. No.\n",
      "SPEAKER_06 (00:38:07 ; 00:38:08):\t Yes.\n",
      "SPEAKER_05 (00:38:08 ; 00:38:11):\t Like, I was certainly, we didn't want it, no, we were just like the way we were.\n",
      "SPEAKER_06 (00:38:13 ; 00:38:14):\t Yes.\n",
      "SPEAKER_02 (00:38:14 ; 00:38:20):\t What were you guys preserving and keeping Bellevue the way it was? What were you guys trying to preserve?\n",
      "SPEAKER_05 (00:38:14 ; 00:38:20):\t What would you guys preserve in keeping Bellevue the way it was? What were you guys trying to preserve? Would you say? What?\n",
      "SPEAKER_02 (00:38:21 ; 00:38:25):\t and like keeping um belly unincorporated what were you trying to preserve?\n",
      "SPEAKER_05 (00:38:24 ; 00:38:25):\tอ่า...\n",
      "SPEAKER_02 (00:38:25 ; 00:38:25):\t Oh\n",
      "SPEAKER_05 (00:38:25 ; 00:38:50):\t Because most of us were in the city working. The young, my generation. See, we left Bellevue. We went away, but we still came back to Bellevue. Some of us go and leave and do not come back. But we came back. We came back here. And enough of us at the meeting to vote no. We said no. We didn't even want the sewer. I'm sorry.\n",
      "SPEAKER_05 (00:38:50 ; 00:38:52):\t We fought the sword!\n",
      "SPEAKER_09 (00:38:50 ; 00:38:50):\t Hmm.\n",
      "SPEAKER_05 (00:38:53 ; 00:39:11):\t But we had to because you had to hire the sanitation people in St. Michael's to clean and some people were not following directions. So you had to. So when the sewer came in, that's why you see those little round things in the yard.\n",
      "SPEAKER_09 (00:39:11 ; 00:39:11):\t Hmm.\n",
      "SPEAKER_05 (00:39:12 ; 00:39:43):\t They dug so deep that I went to look at it. I said, they passed the clay, then they passed the next level, then they passed the next level. And I said, have you hit the water yet? Nope. These sewer things that we have here where you see the round, see concrete covered, it is so deep they will not have to empty it for years. But yet, the new houses, the sewer are smaller. You see the little pipe in front of you.\n",
      "SPEAKER_09 (00:39:43 ; 00:39:44):\t Mm-hmm.\n",
      "SPEAKER_05 (00:39:45 ; 00:41:35):\t But we got it. But then they decided to charge us. And everyone could not pay on picking crabs' salary. So what we did, we got the colonel. He was earning an office. He was earning an Arnold then. I think we just got out the service. We got the colonel. And he saw some people in Washington or Douglas. And we got a grant. And that reduced the payment. All of us had to pay for the sewer system. And now we're connected. That's why we're against this man. We didn't want him to connect to our sewer system. But he did. He had to. I see a little coloring around. One of those sewer pipes. Because we don't want the sewer bills. We had to pay for that. But enough of my generation. My generation has died up now. So this generation down here down, the young folks. The ones left around here down here, it just sucks. It sucks. But what we try to do, those who have the ability, we say leave. And one, Mara's son. I love him. We call him Little Bill. He went to, she tried to put him in, I think Morgan or Boyle or Morgan. He went into Navy doing fine. But they paid for the rest of their education. So we still call him Little Bill, but his tall.\n",
      "SPEAKER_09 (00:41:36 ; 00:41:36):\t Mmm.\n",
      "SPEAKER_05 (00:41:36 ; 00:41:41):\t But you have to leave and then come back. But just have something here, have land.\n",
      "SPEAKER_09 (00:41:42 ; 00:41:42):\t Hmm.\n",
      "SPEAKER_05 (00:41:42 ; 00:41:47):\t The most valuable thing now is land. The most valuable thing we can have now is the land.\n",
      "SPEAKER_09 (00:41:44 ; 00:41:48):\t So, they need to have that as the land.\n",
      "SPEAKER_05 (00:41:48 ; 00:41:51):\t Get yourself some land. Get it land.\n",
      "SPEAKER_05 (00:41:53 ; 00:41:58):\t That's why we try to keep values. If not, they just leave.\n",
      "SPEAKER_09 (00:41:59 ; 00:41:59):\t Hmm.\n",
      "SPEAKER_05 (00:41:59 ; 00:42:07):\t We did less. So, we're about done with last year. If there's a little something, Peg, oh, and I know you interviewed her and more Peggy.\n",
      "SPEAKER_06 (00:42:08 ; 00:42:10):\t We're going to interview her later in the week.\n",
      "SPEAKER_05 (00:42:09 ; 00:42:10):\t Yeah.\n",
      "SPEAKER_06 (00:42:11 ; 00:42:12):\t Yes.\n",
      "SPEAKER_05 (00:42:11 ; 00:42:23):\t Yeah, she's younger. She's in her 80s. We grew up together, but she was up there. I didn't bother to kickstart. I was just concerned about foster lady.\n",
      "SPEAKER_09 (00:42:23 ; 00:42:24):\t Hmm.\n",
      "SPEAKER_05 (00:42:24 ; 00:42:26):\t all the turtledes, I played with the turtledes.\n",
      "SPEAKER_09 (00:42:26 ; 00:42:26):\t Mm.\n",
      "SPEAKER_05 (00:42:26 ; 00:42:41):\t like Gay Street. Now she did, she had what, four sisters, four girls, you know. Now they did not work in the crack husband here. They worked in Philadelphia. When they left here during the summer, they went to Philadelphia.\n",
      "SPEAKER_06 (00:42:41 ; 00:42:42):\t Oh really?\n",
      "SPEAKER_05 (00:42:42 ; 00:42:42):\t Mm-hmm.\n",
      "SPEAKER_05 (00:42:44 ; 00:42:46):\t Never relative, see ya. Take a job, see ya.\n",
      "SPEAKER_06 (00:42:47 ; 00:42:55):\t Oh really? Huh. Yep. Interesting. Yeah. So. Yeah, we're looking forward to interviewing Peggy more.\n",
      "SPEAKER_05 (00:42:55 ; 00:42:58):\t Oh, that's going to be interesting. Oh, very interesting.\n",
      "SPEAKER_06 (00:42:58 ; 00:42:59):\t Seja bem-vindo.\n",
      "SPEAKER_05 (00:42:59 ; 00:43:02):\t And you know, so the war women's prison in Philadelphia\n",
      "SPEAKER_06 (00:43:02 ; 00:43:03):\t She was a warden.\n",
      "SPEAKER_05 (00:43:04 ; 00:43:04):\t Yeah!\n",
      "SPEAKER_07 (00:43:04 ; 00:43:06):\t Oh really? Oh yeah.\n",
      "SPEAKER_05 (00:43:06 ; 00:43:07):\t Bom...\n",
      "SPEAKER_06 (00:43:08 ; 00:43:09):\t Yeah.\n",
      "SPEAKER_06 (00:43:09 ; 00:43:10):\t Yeah.\n",
      "SPEAKER_07 (00:43:10 ; 00:43:10):\t It's going to be in.\n",
      "SPEAKER_06 (00:43:10 ; 00:43:11):\t interesting.\n",
      "SPEAKER_06 (00:43:12 ; 00:43:24):\t Yeah, we got a little taste of her at a meeting that she stood up and spoke. And yeah, she was pretty eloquent, but very forceful.\n",
      "SPEAKER_05 (00:43:25 ; 00:43:29):\t Go on, go and tell yourself that you can't stand my brother.\n",
      "SPEAKER_06 (00:43:30 ; 00:43:33):\t Oh, really? She doesn't like the Colonel? No.\n",
      "SPEAKER_05 (00:43:34 ; 00:43:36):\t Words!\n",
      "SPEAKER_07 (00:43:38 ; 00:43:38):\t That's right.\n",
      "SPEAKER_05 (00:43:38 ; 00:43:39):\t It's gonna be interesting.\n",
      "SPEAKER_06 (00:43:40 ; 00:43:40):\t So.\n",
      "SPEAKER_07 (00:43:40 ; 00:43:40):\t No\n",
      "SPEAKER_06 (00:43:40 ; 00:43:43):\t I know.\n",
      "SPEAKER_05 (00:43:43 ; 00:43:44):\t Tell her how fishy it is.\n",
      "SPEAKER_06 (00:43:44 ; 00:43:49):\t Let's fight, let's fight.\n",
      "SPEAKER_05 (00:43:49 ; 00:43:51):\t Yeah, I heard her speaking at the meeting.\n",
      "SPEAKER_06 (00:43:51 ; 00:43:53):\t Oh, were you at that meeting when she stood up? Remember that?\n",
      "SPEAKER_05 (00:43:52 ; 00:44:00):\t Remember that? That's the first time I heard, I saw what that thing had. I said, what is this? I said, this is Rebellion.\n",
      "SPEAKER_04 (00:44:01 ; 00:44:01):\t you\n",
      "SPEAKER_05 (00:44:02 ; 00:44:09):\t And then she got upset, you know. And then he got the red belly and then I said, oh, okay.\n",
      "SPEAKER_06 (00:44:11 ; 00:44:19):\t You were talking about the like. There were separate neighborhoods here. There was the Jade Street crowd and there's a crowd over here.\n",
      "SPEAKER_05 (00:44:18 ; 00:44:20):\t Look for me.\n",
      "SPEAKER_06 (00:44:20 ; 00:44:21):\t Yeah, for you.\n",
      "SPEAKER_05 (00:44:21 ; 00:44:24):\t me. The others would have a problem with certain people.\n",
      "SPEAKER_06 (00:44:22 ; 00:44:29):\t I think it's the way to run around, but I don't think with certain people. That's right. I'm not going over Gate Street, no way.\n",
      "SPEAKER_05 (00:44:29 ; 00:44:33):\t Thank you. Oh, you still have an interview for me yet?\n",
      "SPEAKER_06 (00:44:33 ; 00:44:34):\t Yeah\n",
      "SPEAKER_05 (00:44:33 ; 00:44:35):\t We haven't interviewed her yet.\n",
      "SPEAKER_06 (00:44:35 ; 00:44:36):\t This is\n",
      "SPEAKER_05 (00:44:36 ; 00:44:38):\t This is Peggy Eleanor's last name.\n",
      "SPEAKER_06 (00:44:38 ; 00:44:42):\t Peggy Moore. Yeah. We're interviewing her on Thursday.\n",
      "SPEAKER_05 (00:44:43 ; 00:44:44):\t學了一點 這些\n",
      "SPEAKER_06 (00:44:44 ; 00:44:56):\t I know. She told me she's been thinking a lot about this. So I like that she's...apparently she's going to come prepared. I know. I'll send a letter. I'll send a letter.\n",
      "SPEAKER_05 (00:44:54 ; 00:44:57):\t I'll send a letter. I'll send a letter. She's heard of it.\n",
      "SPEAKER_06 (00:44:56 ; 00:44:57):\t She's burning up.\n",
      "SPEAKER_05 (00:44:57 ; 00:44:59):\t It's all good, but it will be interesting.\n",
      "SPEAKER_06 (00:44:59 ; 00:45:00):\t Yeah.\n",
      "SPEAKER_05 (00:45:00 ; 00:45:02):\t I don't know her married name.\n",
      "SPEAKER_06 (00:45:03 ; 00:45:06):\t She lives where... I'm staying at Dennis' house.\n",
      "SPEAKER_04 (00:45:05 ; 00:45:10):\t I know, yeah, she lives in the house while I live in the area. Right across the street. Of course. She sees everything.\n",
      "SPEAKER_06 (00:45:06 ; 00:45:11):\t Right across the street. Of course. She sees everything. Yeah.\n",
      "SPEAKER_04 (00:45:11 ; 00:45:12):\t She says what you do.\n",
      "SPEAKER_06 (00:45:13 ; 00:45:15):\t Yeah, the, uh...\n",
      "SPEAKER_05 (00:45:15 ; 00:45:18):\t It's gonna be interesting.\n",
      "SPEAKER_05 (00:45:19 ; 00:45:20):\t You will enjoy that interview.\n",
      "SPEAKER_06 (00:45:20 ; 00:45:21):\t Ouais.\n",
      "SPEAKER_05 (00:45:22 ; 00:45:22):\t I actually got it right.\n",
      "SPEAKER_05 (00:45:24 ; 00:45:31):\t This is going to be the best part, hey. I shouldn't say that by the time.\n",
      "SPEAKER_06 (00:45:31 ; 00:45:33):\t No, it's okay, I've had some.\n",
      "SPEAKER_05 (00:45:32 ; 00:45:35):\t Alright, be neutral now, be neutral.\n",
      "SPEAKER_05 (00:45:35 ; 00:45:36):\t It's going to be interesting.\n",
      "SPEAKER_06 (00:45:36 ; 00:45:40):\t Yeah. But again, she grew up here, right?\n",
      "SPEAKER_05 (00:45:40 ; 00:45:40):\t Cool.\n",
      "SPEAKER_04 (00:45:40 ; 00:45:41):\t She did.\n",
      "SPEAKER_06 (00:45:41 ; 00:45:43):\t And she... What do you mean, they said...\n",
      "SPEAKER_06 (00:45:44 ; 00:45:52):\t You wouldn't think so? Oh, I get it. Oh, okay. Oh, I got you. I got you. Oh, yeah, they stayed up there. That's right.\n",
      "SPEAKER_05 (00:45:52 ; 00:45:56):\t It will be an interesting interview.\n",
      "SPEAKER_06 (00:45:55 ; 00:45:58):\t I would say, okay. We'll go up, we'll... yeah, okay.\n",
      "SPEAKER_05 (00:45:58 ; 00:46:00):\t Yes, we will. OK.\n",
      "SPEAKER_06 (00:46:02 ; 00:46:06):\t Dorian, you have any questions?\n",
      "SPEAKER_04 (00:46:06 ; 00:46:08):\t Keep it.\n",
      "SPEAKER_00 (00:46:12 ; 00:46:26):\t I think a lot of, especially in the dialogue we've been having so far, you know, a lot of... You were talking about your mother and the fact that she learned a lot of skills hands on, came naturally.\n",
      "SPEAKER_01 (00:46:25 ; 00:46:25):\t Naturally.\n",
      "SPEAKER_00 (00:46:26 ; 00:46:43):\t So with that, how did that feel? Because that's a great sense of pride, because a lot of the people that we've been talking to so far, they would talk about how it would be easy for people, especially white people, with money to go buy stuff. But then it had a different feeling when you made it yourself.\n",
      "SPEAKER_00 (00:46:43 ; 00:46:53):\t And so how do you think, like if you were to listen to what your mother would say, how do you think she would feel when she would do those things hands on? And what feeling do you think would come from that?\n",
      "SPEAKER_05 (00:46:54 ; 00:46:56):\t My mother owned it just like this.\n",
      "SPEAKER_09 (00:46:56 ; 00:46:56):\t you\n",
      "SPEAKER_05 (00:46:57 ; 00:47:50):\t I'm sorry, she used just like this. Because she did all my clothes. And that was a size 12 through college. She did all my clothes. And she just put herself out by not working. And then my father working, and she had nothing to do. So she knew how to crochet. I found two of the rugs that she did. She did all kinds of sewing, seamstress, all kinds of sewing. And the big lace dollars, you see, went back an old day. She did all of that. She took hankies and made little lace borders around it. She just did everything. So to reward her, when I retired, she traveled with me. I didn't think she wanted to travel. But she did. She loved the gifts.\n",
      "SPEAKER_07 (00:47:50 ; 00:47:52):\t Oh, yeah\n",
      "SPEAKER_05 (00:47:52 ; 00:47:55):\t I didn't think so.\n",
      "SPEAKER_05 (00:47:56 ; 00:48:10):\t I ran out of companions to travel with. They were all working, so I had to find someone who wasn't working. And I said, ask another, you want to go? All right, get your passport. Show me the number, Mexico, Mexico City, Acapulco.\n",
      "SPEAKER_05 (00:48:12 ; 00:48:15):\t And the last trip I took with her was in Senegal, Africa.\n",
      "SPEAKER_05 (00:48:16 ; 00:49:46):\t Oh nice. And we had a ball. Yeah. She laid it in me. The health did like it because all the health was men. And she laid it back. Why don't you help with it? Why don't you help with any work? She laid it for help out all the time. She loved it. And she couldn't make up her mind to go at first, so I got my niece, I got Dr. Dennis's sister to go with me. So then I called the child agent and I said I had to add one more person to the cake. She joined it. But we had to take all these shots. Oh man, I had to get the medical passport like it was filled up. We had to take all the shots we had to get. And I took everything except malaria. I said I'm not taking a malaria shot. I'm sorry, the mosquitoes just had to bite me. That's all. We'd just not go out at night. So it was a childish fight from African Americans all over. From Baltimore, Washington, 300 of us in one flight. We did fine going over. And she fit in. So they put a cot in the room. Of course, I gave them the beds. They did not have stuff on the cot, but it was large. And it was fine. Nice hotel. We stayed in the annex part. We rent the hotel. It wasn't too far from us. That's where we ate.\n",
      "SPEAKER_02 (00:49:46 ; 00:49:51):\t How did your mom's work ethic inspire you in what you became?\n",
      "SPEAKER_05 (00:49:51 ; 00:49:52):\t She always told me to be independent.\n",
      "SPEAKER_02 (00:49:52 ; 00:49:53):\t 아, 그런데 이 분은 지금 이 분이 지금 이 분이 지금 이 분이 지금 이 분이 지금 이 분이 지금 이 분이 지금 이 분이 지금 이 분이 지금 이 분이 지금 이 분이 지금 이 분이 지금 이 분이 지금 이 분이 지금 이\n",
      "SPEAKER_05 (00:49:53 ; 00:50:13):\t Because when I was working and you did not share your things with me, I'm sorry, I got my own. I got my own duplicating machine, my own record player, my own everything because everyone was always busy. You know how you're going to buy or something? No, I'm using it. I got my own and she said, and that's what I am.\n",
      "SPEAKER_05 (00:50:14 ; 00:50:44):\t And I don't take... I need two chances, okay? I just come home. Because if I want to get something, I go to the store. I don't go to the line, I go shopping at the line. I want to go to the store. And my best trip was to Hong Kong. I shopped until I dropped. I did! I saved enough money to pay duty when I got back. I mean, I shopped until I dropped.\n",
      "SPEAKER_02 (00:50:46 ; 00:50:48):\t How about your father? What did he do?\n",
      "SPEAKER_05 (00:50:48 ; 00:51:28):\t Oh, no. Cars, automobiles. That's why I took my mother with me all the time. No, he was just nice with cars. He just wanted to stay home. He stayed home. He picked us up at the airport. He took us to the airport. That's it. Yeah, my mother was up here. The longest cruise we took, we flew to San Juan, Puerto Rico, and we did four or five islands. Some days we took one day at one island, and next just a couple of hours at another. Because we went to Haiti, and we got out of Haiti, too. There was a baby dog was there. Baby dog. I'm going to talk about baby dog.\n",
      "SPEAKER_08 (00:51:28 ; 00:51:29):\t Mmm.\n",
      "SPEAKER_05 (00:51:30 ; 00:51:55):\t We couldn't take it, so we left Haiti. And wherever she went, she was just like them. She looked just like them. They were all new here, too. They took to her. So it was so intense. I couldn't take tours from the ship. I had to hire a taxi, a local taxi, to take us around.\n",
      "SPEAKER_05 (00:51:56 ; 00:52:04):\t That's what we did. And they just loved her. Because she paid, she paid dollar bills. And I don't know where she stored her money.\n",
      "SPEAKER_04 (00:52:05 ; 00:52:05):\t Hey!\n",
      "SPEAKER_05 (00:52:05 ; 00:52:05):\t So\n",
      "SPEAKER_04 (00:52:06 ; 00:52:08):\t Thank you, Dave. I don't know where she's throwing her money.\n",
      "SPEAKER_05 (00:52:09 ; 00:52:17):\t She paid them, they know when you have dollar bills, American dollars, it means a lot of their money. That's how she paid them.\n",
      "SPEAKER_02 (00:52:19 ; 00:52:21):\t Why do you think your mom was so excited about traveling?\n",
      "SPEAKER_04 (00:52:22 ; 00:52:27):\t I don't know how I got into her like that, because I thought she was insane. No, but she...\n",
      "SPEAKER_05 (00:52:27 ; 00:52:56):\t She didn't. She did not. And she liked Africa. You're in Africa. We go to the Senate on the west side of the French, you know, yeah, the French are there. But Africa, I do not wish to go back again. I'm sorry. You can take it all you want to. But the one trip, you took it out. So I'll tell you what happened then was experience. We went to Gory Island where the slaves left.\n",
      "SPEAKER_09 (00:52:56 ; 00:52:56):\t Mm.\n",
      "SPEAKER_05 (00:52:57 ; 00:54:41):\t And on the bars on the way, my mother was standing. And I found a little ledge on the side of the bar to sit. And I was so busy watching some ladies in front of me because she had gold all over her arm. Oh, gold necklaces. Then her mother said, look at the road. I said, what? Oh, you don't see a road on the Atlantic Ocean? Look at the road. It was a school of dolphins. I mean, I don't know how you could create a dolphin. Not four or five, hundreds of dolphins in a straight path. And they stopped right next to our side of the boat. And I looked at one eyeball to eyeball. He just looked at me, I looked at him. And I couldn't be so in touch with him, but I was scared. I mean, a whole school of dolphins. By the time the people on the other side of the bar found out what was happening, they disappeared. So we went through the Seamus door of no return. And Denise and I said, we can't take anymore. So we went on up the hill, down the seat until they returned. But it just got to us. But the dolphins didn't meet us like this with our relatives. Cause I've never seen, I've seen dolphins in the Z's but we don't put that. And I thought fish would float. But when they came to the boat, they were still. You know, I thought fish would, they were still. They looked at me. I was like, no. That's it. So when we left. Rita, I was wondering, did you come over to that chair? I was wondering.\n",
      "SPEAKER_06 (00:54:40 ; 00:54:46):\t I was wondering if you could identify, we've got some identification here, but we were wondering if you could identify some of the photographs.\n",
      "SPEAKER_06 (00:54:49 ; 00:54:52):\t Okay, that, this photograph here, this large...\n",
      "SPEAKER_03 (00:54:52 ; 00:54:53):\t Yeah, that's a good question.\n",
      "SPEAKER_06 (00:54:53 ; 00:54:57):\t It's your grandfather. And who is this?\n",
      "SPEAKER_05 (00:55:04 ; 00:55:11):\t Oh, this doesn't look like one, though. This is a slave. That's, that's... Naomi Thomas.\n",
      "SPEAKER_03 (00:55:10 ; 00:55:10):\t Yeah, I'm a\n",
      "SPEAKER_05 (00:55:11 ; 00:55:13):\t Now with his wife.\n",
      "SPEAKER_06 (00:55:13 ; 00:55:14):\t Naomi Towers.\n",
      "SPEAKER_03 (00:55:16 ; 00:55:17):\t You better look like this.\n",
      "SPEAKER_06 (00:55:18 ; 00:55:22):\t This looks like the Colonel right here. There's a boy.\n",
      "SPEAKER_09 (00:55:23 ; 00:55:24):\t Oh\n",
      "SPEAKER_06 (00:55:30 ; 00:55:31):\t You're not in this photograph?\n",
      "SPEAKER_05 (00:55:32 ; 00:55:33):\t I'm not seeing anything.\n",
      "SPEAKER_05 (00:55:34 ; 00:55:34):\t you\n",
      "SPEAKER_03 (00:55:34 ; 00:55:47):\t Donnie, come home. Your mother did the writing. Grandchildren. I know here, I am here. Let me see.\n",
      "SPEAKER_04 (00:55:56 ; 00:55:56):\t不舒服\n",
      "SPEAKER_06 (00:55:57 ; 00:56:00):\t That looks like the Colonel is a little boy.\n",
      "SPEAKER_03 (00:56:06 ; 00:56:08):\t Look at that little smile. I think you look different.\n",
      "SPEAKER_05 (00:56:09 ; 00:56:09):\t I'm not sure. I'm not sure. I'm not sure. I'm not sure. I'm not sure. I'm not sure. I'm not sure. I'm not sure. I'm not sure. I'm not sure. I'm not sure. I'm not sure. I'm not sure. I'm not sure. I'm not sure. I'm not sure. I'm not sure. I'm not sure. I'm not sure. I'm not sure. I'm not sure. I'm not sure. I'm not sure. I'm not sure. I'm not sure. I'm not sure. I'm not sure. I'm not sure. I'm not sure.\n",
      "SPEAKER_05 (00:56:09 ; 00:56:13):\t That's you, right? Here I am and this is my brother. Right. And this is my grandfather. And this is my grandfather.\n",
      "SPEAKER_06 (00:56:13 ; 00:56:14):\t Yes.\n",
      "SPEAKER_05 (00:56:14 ; 00:56:20):\t Here I am with my dog, my grandfather, and he's a rabbit.\n",
      "SPEAKER_03 (00:56:22 ; 00:56:33):\t Your dad is here.\n",
      "SPEAKER_07 (00:56:33 ; 00:56:47):\t I'm wondering if I know some of these. I'm not sure if I've seen this one. Let's take a look at some of these other ones. These I know. Let's take a look at this here. Let's put this back in here.\n",
      "SPEAKER_03 (00:56:43 ; 00:56:52):\t Yeah. Let's stick it with this here. Yeah. Let's put this back in here. Yeah. Oh, yeah. I think we've got a bad vision now.\n",
      "SPEAKER_07 (00:56:52 ; 00:56:58):\t How about some of these folks? Any memories here? Oh yeah, this is the sample.\n",
      "SPEAKER_07 (00:56:58 ; 00:57:05):\t That's... that's uh... That's all Adams has? Related to Harold. That's related to Harold?\n",
      "SPEAKER_05 (00:57:05 ; 00:57:07):\t Oh, atoms.\n",
      "SPEAKER_06 (00:57:08 ; 00:57:13):\t Did you know her growing up?\n",
      "SPEAKER_05 (00:57:14 ; 00:57:14):\t And we'll be back.\n",
      "SPEAKER_06 (00:57:15 ; 00:57:16):\t Where did she live?\n",
      "SPEAKER_05 (00:57:16 ; 00:57:17):\t Where are we?\n",
      "SPEAKER_06 (00:57:18 ; 00:57:18):\t She did.\n",
      "SPEAKER_05 (00:57:18 ; 00:57:19):\t 왜?\n",
      "SPEAKER_06 (00:57:19 ; 00:57:20):\t She lived in that house.\n",
      "SPEAKER_02 (00:57:21 ; 00:57:25):\t It's the Philip Harris house. Mm-hmm. Was she?\n",
      "SPEAKER_02 (00:57:26 ; 00:57:27):\t Who was she to Philip Harris, do you know?\n",
      "SPEAKER_05 (00:57:28 ; 00:57:29):\t The other thing I've been teaching a lot is the\n",
      "SPEAKER_02 (00:57:29 ; 00:57:30):\t Yeah.\n",
      "SPEAKER_05 (00:57:31 ; 00:57:32):\t you\n",
      "SPEAKER_06 (00:57:32 ; 00:57:40):\t I don't know. Well, they call it the Philip Harris House as well? No. Uh-uh.\n",
      "SPEAKER_05 (00:57:50 ; 00:57:58):\t My cousin in Philadelphia went through an accessory register and I've sent us his stuff. Let me see if I can get some on here by the hat.\n",
      "SPEAKER_06 (00:57:59 ; 00:58:03):\t So you don't know the exact connection between her and Harold, is that his grandmother?\n",
      "SPEAKER_05 (00:58:03 ; 00:58:04):\t I'm over here.\n",
      "SPEAKER_06 (00:58:04 ; 00:58:05):\t There's\n",
      "SPEAKER_05 (00:58:05 ; 00:58:18):\t Great, it's no great, his father's mother and his mother and his father. Grand, she's a grand or grand. His grandmother.\n",
      "SPEAKER_06 (00:58:18 ; 00:58:22):\t But we know that the house is also referred to as the Philip Harris House.\n",
      "SPEAKER_05 (00:58:22 ; 00:58:24):\t prioritize\n",
      "SPEAKER_06 (00:58:24 ; 00:58:31):\t Yeah, where Harold lives today, the house that Harold Adams lives in is also referred to in certain literature as the Philip Harris House.\n",
      "SPEAKER_05 (00:58:31 ; 00:58:32):\t She belongs in there.\n",
      "SPEAKER_06 (00:58:33 ; 00:58:34):\t 정국이 형이 형이 형이 형이 형이 형이 형이 형이 형이 형이 형이 형이 형이 형이 형이 형이 형이 형이 형이 형이 형이 형이 형이 형이 형이 형이 형이 형이 형이 형이 형이 형이 형이 형이 형이 형이 형이 형이 형이 형이 형이 형이 형이 형이 형이 형이 형이 형이 형이 형이 형이 형이 형이 형이 형이 형이 형이 형이 형이 형이 형이 형이 형이 형이 형이 형이 형이 형이 형이 형이 형이 형이 형이 형이 형이 형이 형이 형이 형이 형이 형이 형이 형이 형이 형이 형이 형이 형이 형이 형이 형이 형이 형이 형이 형이 형이 형이 형이 형이 형이 형이 형이 형이 형이 형이 형이 형이 형이 형이 형이\n",
      "SPEAKER_05 (00:58:35 ; 00:58:36):\t She loves it.\n",
      "SPEAKER_06 (00:58:38 ; 00:58:39):\t Okay, that's good to know.\n",
      "SPEAKER_05 (00:58:39 ; 00:58:40):\t Yeah, she went all the way.\n",
      "SPEAKER_06 (00:58:40 ; 00:58:44):\t Maybe we should show that photograph to a friend.\n",
      "SPEAKER_02 (00:58:44 ; 00:58:46):\t Yeah, it's a Harold. It's a Harold, yeah. Can't even.\n",
      "SPEAKER_06 (00:58:45 ; 00:58:47):\t Yeah\n",
      "SPEAKER_07 (00:58:47 ; 00:58:50):\t Yeah. Do you know who these two are by any chance? Yeah.\n",
      "SPEAKER_03 (00:58:51 ; 00:58:52):\t No\n",
      "SPEAKER_07 (00:58:51 ; 00:58:52):\t Да.\n",
      "SPEAKER_03 (00:58:55 ; 00:58:55):\t No.\n",
      "SPEAKER_03 (00:58:56 ; 00:58:56):\t I'm not writing on that.\n",
      "SPEAKER_06 (00:58:56 ; 00:58:58):\t Now, if you do this...\n",
      "SPEAKER_03 (00:59:00 ; 00:59:24):\t Let me see. This is my mother's room. Either...either this, or this. It's much better friend. I remember it being about here.\n",
      "SPEAKER_04 (00:59:28 ; 00:59:31):\t Dad paid all the money on the verdict. You stole all mine. I'dcuior, real expensive. Your dad's blade is very sharp. You don't have any\n",
      "SPEAKER_05 (00:59:34 ; 00:59:39):\t You didn't send people to my mother's house. I don't know that. I don't even have the names down here.\n",
      "SPEAKER_07 (00:59:39 ; 00:59:47):\t Yeah. Okay. Let's take a look and see if there's something.\n",
      "SPEAKER_05 (00:59:59 ; 01:00:01):\t Okay, sorry. Okay. Yeah, we're good.\n",
      "SPEAKER_03 (01:00:01 ; 01:00:10):\t I need to movies\n",
      "SPEAKER_05 (01:00:14 ; 01:00:33):\t Oh, this is like Gregory. Mara's side of the family. That was... This like... You met Mara, didn't you? The one who lives next to the church. Mara, yes. This looked like her side of the family.\n",
      "SPEAKER_06 (01:00:33 ; 01:00:33):\t Bye!\n",
      "SPEAKER_05 (01:00:34 ; 01:00:34):\t This was like...\n",
      "SPEAKER_06 (01:00:35 ; 01:00:37):\t My arm is okay, hold that too.\n",
      "SPEAKER_05 (01:00:36 ; 01:00:51):\t Hold that too. Ask my wife. Ask my wife. Yeah, ask my wife. Yeah, right there. Okay, we'll do that.\n",
      "SPEAKER_07 (01:00:49 ; 01:00:50):\t Okay.\n",
      "SPEAKER_05 (01:00:52 ; 01:00:54):\t We'll see that, let's see.\n",
      "SPEAKER_07 (01:00:53 ; 01:00:53):\t Yeah.\n",
      "SPEAKER_05 (01:00:56 ; 01:01:04):\t That's amazing. And that's her mother, Lucy Thomas. She's married to Poppilus, uh, Luce Thomas' brother, Johnny Thomas.\n",
      "SPEAKER_06 (01:01:04 ; 01:01:05):\t This is Lucy Thomas.\n",
      "SPEAKER_05 (01:01:05 ; 01:01:10):\t That's her mother. I mean, this is her daughter.\n",
      "SPEAKER_06 (01:01:08 ; 01:01:12):\t I mean, this is her daughter. That's your daughter. Where did Lucy Thomas live?\n",
      "SPEAKER_05 (01:01:10 ; 01:01:29):\t Where did Lucy Thomas live? House where I was born. She's married to Boots Thomas' brother. And they lived where Rowland had his house. And back to my brother's house down in the Hill House. There was a house up...\n",
      "SPEAKER_09 (01:01:26 ; 01:01:26):\t Mm-hmm.\n",
      "SPEAKER_05 (01:01:30 ; 01:01:32):\t Or steer down to your house.\n",
      "SPEAKER_08 (01:01:34 ; 01:01:34):\t That's a good way to...\n",
      "SPEAKER_05 (01:01:36 ; 01:01:45):\t Oh yeah, here she is. This is Lucy Thomas married to John Thomas. This is her daughter, Lacy.\n",
      "SPEAKER_03 (01:01:48 ; 01:02:04):\t You're fine. Yeah. I'm just gonna like... I don't know. Yeah.\n",
      "SPEAKER_07 (01:02:07 ; 01:02:10):\t See you in school photographs.\n",
      "SPEAKER_05 (01:02:09 ; 01:02:23):\t Now, I had to write names of everybody. I don't see that in here. You had to stay right here and hold it. Oh yeah, but I had a long list. I did a number there, then I ran out of space.\n",
      "SPEAKER_06 (01:02:20 ; 01:02:23):\t You get a number there, then I ran out of space.\n",
      "SPEAKER_05 (01:02:23 ; 01:02:27):\t My mother identified everyone on that photo instead of my mother's name sitting there.\n",
      "SPEAKER_06 (01:02:26 ; 01:02:32):\t It's like my mother's name is in there. We have Norman Gumby, which is, we have his house.\n",
      "SPEAKER_05 (01:02:29 ; 01:02:30):\t Yep.\n",
      "SPEAKER_06 (01:02:33 ; 01:02:36):\t Yeah, Eddie Turner's in here.\n",
      "SPEAKER_07 (01:02:34 ; 01:02:36):\t Yeah. Eddie Turner's in here.\n",
      "SPEAKER_07 (01:02:36 ; 01:02:38):\t Yes.\n",
      "SPEAKER_05 (01:02:38 ; 01:02:42):\t Take his father's in here. He's on the front, that one, the little tiny one.\n",
      "SPEAKER_06 (01:02:43 ; 01:02:44):\t Let's see, Peggy.\n",
      "SPEAKER_05 (01:02:44 ; 01:02:44):\t I think\n",
      "SPEAKER_06 (01:02:45 ; 01:02:50):\t What is his name? It doesn't really say.\n",
      "SPEAKER_05 (01:02:51 ; 01:02:52):\t I'll have a take of that.\n",
      "SPEAKER_05 (01:02:52 ; 01:02:54):\t Oh, man.\n",
      "SPEAKER_06 (01:02:53 ; 01:02:54):\t They're not on there.\n",
      "SPEAKER_05 (01:02:55 ; 01:03:06):\t See, I had all these in that building here. Let me see. What did he do with that paper? The fact that all of the mother was... Yeah, see, all of these... I had done all of these.\n",
      "SPEAKER_08 (01:03:06 ; 01:03:07):\t Mmm.\n",
      "SPEAKER_05 (01:03:08 ; 01:03:18):\t It was in that museum there. Where's my mother? My mother's on here. The high school people, all the children in Bellevue are on here.\n",
      "SPEAKER_08 (01:03:19 ; 01:03:20):\t Mm-hmm.\n",
      "SPEAKER_05 (01:03:19 ; 01:03:29):\t The teacher is Mrs. Thomas. You see a teacher? Right here. The hair is still on St. Michael's Road.\n",
      "SPEAKER_05 (01:03:30 ; 01:03:33):\t It's all covered in weeds now. Oh really?\n",
      "SPEAKER_02 (01:03:33 ; 01:03:35):\t How old is this picture?\n",
      "SPEAKER_02 (01:03:36 ; 01:03:37):\t謝謝…\n",
      "SPEAKER_06 (01:03:38 ; 01:03:44):\t It's probably, my guess is it's probably 1920s probably. Yeah, this is one of the\n",
      "SPEAKER_05 (01:03:43 ; 01:03:52):\t 20s probably. This is one of those, who's the man who built the homes in the Blacks though? He's well known. Longwood Kessler School.\n",
      "SPEAKER_06 (01:03:54 ; 01:03:55):\t The Rosenwald School?\n",
      "SPEAKER_05 (01:03:55 ; 01:04:06):\t Yeah, yes. This is a two-story one. Yeah, that is one of the rosy walls. Let's see if they tore it down real good. Right. How about that hose here? Right.\n",
      "SPEAKER_06 (01:04:01 ; 01:04:06):\t Yeah, that is one of the rosy walls. It seems to cool it down, build it good. Perfect high-hoes.\n",
      "SPEAKER_06 (01:04:06 ; 01:04:09):\t Yeah, we heard this was a Rosenbolt.\n",
      "SPEAKER_05 (01:04:07 ; 01:04:10):\t We heard this is a Rosenwald school.\n",
      "SPEAKER_05 (01:04:11 ; 01:04:11):\t Mm-hmm.\n",
      "SPEAKER_06 (01:04:11 ; 01:04:15):\t Did you go to school here? Oh, no, I went to school in Eastern. That's right. That's right. Okay.\n",
      "SPEAKER_07 (01:04:15 ; 01:04:16):\t Of course we.\n",
      "SPEAKER_06 (01:04:16 ; 01:04:19):\t Okay.\n",
      "SPEAKER_03 (01:04:20 ; 01:04:23):\t Wow.\n",
      "SPEAKER_02 (01:04:21 ; 01:04:24):\t Hold, hold my indecent, salted eyes.\n",
      "SPEAKER_03 (01:04:24 ; 01:04:32):\t Yeah. That's what I'm gonna do. Yeah, that had all the...\n",
      "SPEAKER_05 (01:04:32 ; 01:04:49):\t All the mothers on here somewhere. And her sister. And Peggy's uh... Peggy's uh... father. And the lady who owns this place, Pick's place here. She's on here somewhere too.\n",
      "SPEAKER_02 (01:04:49 ; 01:04:50):\t Which place?\n",
      "SPEAKER_05 (01:04:51 ; 01:04:54):\t That little building here. The historic and military. Okay. Yes, this is over here.\n",
      "SPEAKER_07 (01:04:56 ; 01:04:57):\t Oh, the green.\n",
      "SPEAKER_07 (01:04:57 ; 01:05:02):\t The green. The house, the little house that they wanted to move. Right, the green store.\n",
      "SPEAKER_06 (01:05:03 ; 01:05:03):\t Yes.\n",
      "SPEAKER_05 (01:05:03 ; 01:05:03):\t Yeah.\n",
      "SPEAKER_06 (01:05:04 ; 01:05:05):\t Thank you.\n",
      "SPEAKER_05 (01:05:05 ; 01:05:06):\t Meillä on lajia.\n",
      "SPEAKER_06 (01:05:05 ; 01:05:06):\t I'm gonna put you on my life.\n",
      "SPEAKER_06 (01:05:06 ; 01:05:08):\t Oh yeah, that used to be the store.\n",
      "SPEAKER_05 (01:05:08 ; 01:05:08):\t Yeah.\n",
      "SPEAKER_05 (01:05:09 ; 01:05:11):\t Pigs fight, yeah. Pigs fight. Well, she's on here.\n",
      "SPEAKER_05 (01:05:11 ; 01:05:19):\t I've had all of this written down on the paper. She's short, very short.\n",
      "SPEAKER_08 (01:05:19 ; 01:05:20):\t Hmm.\n",
      "SPEAKER_05 (01:05:20 ; 01:05:26):\t The mother's on the back row somewhere. Yeah, well there's a wall sitting there.\n",
      "SPEAKER_03 (01:05:27 ; 01:05:28):\t Thank you.\n",
      "SPEAKER_05 (01:05:28 ; 01:05:28):\t Yeah.\n",
      "SPEAKER_03 (01:05:31 ; 01:05:32):\t This is right over here.\n",
      "SPEAKER_05 (01:05:33 ; 01:05:45):\t Oh, there's Dr. Lewis. He was a doctor in, I think, in the United States. No, that's there, Miss Lucy's, Jordan. Jordan Neon Siege.\n",
      "SPEAKER_03 (01:05:47 ; 01:05:53):\t Yes. Oh yeah, okay. I guess you're over time.\n",
      "SPEAKER_05 (01:05:53 ; 01:06:04):\t name of this is Kevin Valmar. You run this house over here. That's the Valmar Green? Valmar Turner. Valmar Turner. Yes. Jimmy Turner. Yes.\n",
      "SPEAKER_02 (01:06:04 ; 01:06:08):\t So she's related to those times too, right?\n",
      "SPEAKER_05 (01:06:08 ; 01:06:09):\t Not really.\n",
      "SPEAKER_02 (01:06:08 ; 01:06:10):\t So you guys are the ladies.\n",
      "SPEAKER_05 (01:06:10 ; 01:06:10):\t Sorry.\n",
      "SPEAKER_05 (01:06:10 ; 01:06:24):\t I don't know, we are in LA. Yeah. I think I know the list. Uh huh. Yeah, so I'm gonna tell you, there's a difference that the partner she married to was, uh,\n",
      "SPEAKER_06 (01:06:24 ; 01:06:25):\t Says Johnston.\n",
      "SPEAKER_05 (01:06:27 ; 01:06:28):\t Don't look Johnson, that's our main name.\n",
      "SPEAKER_09 (01:06:29 ; 01:06:30):\t Hmm.\n",
      "SPEAKER_05 (01:06:30 ; 01:06:41):\t and she married Jimmy Turner, James Turner, whose people were from McDaniels. And he was a public senator, Navy Yard in Philadelphia.\n",
      "SPEAKER_09 (01:06:40 ; 01:06:41):\t 고맙습니다.\n",
      "SPEAKER_05 (01:06:41 ; 01:06:50):\t I was staying with some time in Philadelphia when I just feel like a lady over here. I was staying with him.\n",
      "SPEAKER_09 (01:06:43 ; 01:06:43):\t Hmm.\n",
      "SPEAKER_05 (01:06:51 ; 01:06:54):\t Now, this is his baby daughter.\n",
      "SPEAKER_06 (01:06:55 ; 01:06:56):\t That's her daughter from your aunt?\n",
      "SPEAKER_05 (01:06:58 ; 01:07:09):\t He had a daughter very, very young. Had a terrible time. She was 16 when she had it. Here she is, yeah.\n",
      "SPEAKER_07 (01:07:09 ; 01:07:11):\t That's her.\n",
      "SPEAKER_05 (01:07:11 ; 01:07:27):\t And I found out who he was. He was in the service. This is Bill Turn's wife's father. He was in the service of Goldie. Goldie was the turn of this up in Thornton. This was him.\n",
      "SPEAKER_09 (01:07:28 ; 01:07:28):\t Hmm.\n",
      "SPEAKER_05 (01:07:28 ; 01:07:38):\t We found out 10 years ago that he was her father. And he was buried over in Itura, I think. And she didn't get to go to visit his grave.\n",
      "SPEAKER_09 (01:07:35 ; 01:07:38):\t She didn't get to go to visit his grave.\n",
      "SPEAKER_05 (01:07:38 ; 01:07:58):\t This is Clemson's office. This is Don't Return Us. This is us. Oh, here we are. Here's our brother. Where's Donnie? Donnie's got it. We played with Donnie's garden. Donnie and he. And Junior.\n",
      "SPEAKER_05 (01:07:59 ; 01:08:07):\t Look at this, Corinna. This is Perry Milton's mother. The one who ran this business, uh...\n",
      "SPEAKER_06 (01:08:08 ; 01:08:09):\t the uh...\n",
      "SPEAKER_06 (01:08:10 ; 01:08:11):\t Did you enjoy?\n",
      "SPEAKER_05 (01:08:11 ; 01:08:16):\t This is his mother.\n",
      "SPEAKER_06 (01:08:14 ; 01:08:16):\t That's his mother. Yes. What's her name?\n",
      "SPEAKER_05 (01:08:16 ; 01:08:17):\t밖거리네\n",
      "SPEAKER_06 (01:08:17 ; 01:08:18):\t Korean.\n",
      "SPEAKER_05 (01:08:18 ; 01:08:19):\t C-O-R-R-I-A.\n",
      "SPEAKER_07 (01:08:19 ; 01:08:25):\t Coruna. Is that his name? Uh...\n",
      "SPEAKER_05 (01:08:25 ; 01:08:26):\t Yeah, okay. Here I am, see you later.\n",
      "SPEAKER_07 (01:08:25 ; 01:08:25):\t you\n",
      "SPEAKER_07 (01:08:29 ; 01:08:31):\t Okay.\n",
      "SPEAKER_07 (01:08:31 ; 01:08:33):\t Okay.\n",
      "SPEAKER_06 (01:08:37 ; 01:08:37):\t 컷.\n",
      "SPEAKER_06 (01:08:37 ; 01:08:42):\t Really? Yeah. Who was, uh, you mentioned Aunt Nettie before.\n",
      "SPEAKER_06 (01:08:44 ; 01:08:47):\t Yeah, it says Ant, Nettie and...\n",
      "SPEAKER_06 (01:08:47 ; 01:08:49):\t And something came.\n",
      "SPEAKER_05 (01:08:50 ; 01:09:04):\t Yeah, that's another idea. Mary Ann Harrison King. That's Potwell's sister. This little duck. She was tough too.\n",
      "SPEAKER_06 (01:09:04 ; 01:09:05):\t What was her?\n",
      "SPEAKER_07 (01:09:05 ; 01:09:06):\t What you mentioned here before, what was heard?\n",
      "SPEAKER_05 (01:09:07 ; 01:09:08):\t She worked with the private family.\n",
      "SPEAKER_07 (01:09:09 ; 01:09:09):\t Did she work for her own?\n",
      "SPEAKER_05 (01:09:09 ; 01:09:12):\t Private families.\n",
      "SPEAKER_07 (01:09:12 ; 01:09:12):\t He's the famous cook.\n",
      "SPEAKER_05 (01:09:12 ; 01:09:13):\t Yeah.\n",
      "SPEAKER_05 (01:09:13 ; 01:09:16):\t great praise.\n",
      "SPEAKER_07 (01:09:13 ; 01:09:14):\t We're gonna get it.\n",
      "SPEAKER_07 (01:09:18 ; 01:09:21):\t They're on Gate Street. Gate Street crowd, right?\n",
      "SPEAKER_05 (01:09:21 ; 01:09:27):\t This will... Good. Yes, yes.\n",
      "SPEAKER_07 (01:09:27 ; 01:09:28):\t Okay.\n",
      "SPEAKER_05 (01:09:28 ; 01:09:41):\t Oh, this is Carl and Lucy. This is... Look at that. Uh... Aunt Nettie. Aunt Mary.\n",
      "SPEAKER_06 (01:09:41 ; 01:09:41):\t Yeah, daddy, that's the cook.\n",
      "SPEAKER_03 (01:09:43 ; 01:09:50):\t This is what she raised when she was small.\n",
      "SPEAKER_06 (01:09:54 ; 01:10:02):\t see what she had there. This might be a pearl. Where did Nettie King live? Victory. Do you know where?\n",
      "SPEAKER_05 (01:10:02 ; 01:10:17):\t Brown Street or? In two-story homes that the The sheriff owns it now. They're renovating it. Oh! Next to the Turner's house. You know where Jackie Green live? Yeah. The big house is going this way.\n",
      "SPEAKER_06 (01:10:18 ; 01:10:21):\t The one that the sheriffs...\n",
      "SPEAKER_05 (01:10:19 ; 01:10:21):\t The one that the sheriffs...\n",
      "SPEAKER_05 (01:10:22 ; 01:10:23):\t That one has where I stay most of the time.\n",
      "SPEAKER_07 (01:10:23 ; 01:10:28):\t His son, his son owns an Aero now.\n",
      "SPEAKER_05 (01:10:27 ; 01:10:28):\t Yeah, they're really, really good.\n",
      "SPEAKER_05 (01:10:28 ; 01:10:31):\t So that's what tincture has, that's what medication is.\n",
      "SPEAKER_07 (01:10:28 ; 01:10:33):\t That's what the history has. That's where Nettie King used to be. That's where Nettie King used to be. Oh, yes.\n",
      "SPEAKER_07 (01:10:33 ; 01:10:33):\t Bye.\n",
      "SPEAKER_07 (01:10:34 ; 01:10:35):\t Good.\n",
      "SPEAKER_07 (01:10:35 ; 01:10:35):\t you need to turn\n",
      "SPEAKER_05 (01:10:35 ; 01:10:36):\t I can't even hear you.\n",
      "SPEAKER_06 (01:10:36 ; 01:10:41):\t You need to take a pair. You need to take... There's a fence around the house now.\n",
      "SPEAKER_05 (01:10:41 ; 01:10:43):\t It was good, it was really good.\n",
      "SPEAKER_06 (01:10:43 ; 01:10:47):\t Yeah, yeah, it's brick on one side and frame on the other side.\n",
      "SPEAKER_05 (01:10:47 ; 01:11:00):\t But it wasn't the Verizon. See when she It was just a porch and The porch had a swing and that's where and I was staying looking to shooting stars and everything on the porch\n",
      "SPEAKER_09 (01:10:59 ; 01:11:00):\t on the court.\n",
      "SPEAKER_05 (01:11:00 ; 01:11:24):\t Then when they passed, Laura Turner, let me see, the one who's a teacher, Laura Turner purchased the house and renovated it and built it and put the garage in it. I got that rather quickly advice this feature.\n",
      "SPEAKER_03 (01:11:37 ; 01:11:42):\t Hello? Hello?\n",
      "SPEAKER_06 (01:11:48 ; 01:11:52):\t That's a solicitor.\n",
      "SPEAKER_05 (01:11:52 ; 01:12:00):\t Sorry, I forgot what time it is. Mm-hmm. Oh, look. Worrying too. Sipping on those people. I'm sorry.\n",
      "SPEAKER_07 (01:12:04 ; 01:12:04):\t Oh, there's that.\n",
      "SPEAKER_07 (01:12:05 ; 01:12:07):\t So there it is, yes. That's good. That's good.\n",
      "SPEAKER_05 (01:12:05 ; 01:12:05):\t you\n",
      "SPEAKER_06 (01:12:05 ; 01:12:17):\t It is, yes. That's the type of thing the kernel is. The kernel, is that, and that is, yeah, that's that photograph right there. That's so grea, it says, that's so greeting, Romina, that's you.\n",
      "SPEAKER_05 (01:12:12 ; 01:12:16):\t It's so great. It's this pencil greeting Rueena. That's you\n",
      "SPEAKER_06 (01:12:17 ; 01:12:17):\t Okay.\n",
      "SPEAKER_05 (01:12:17 ; 01:12:20):\t See how what the world is saying.\n",
      "SPEAKER_06 (01:12:19 ; 01:12:19):\t Yeah.\n",
      "SPEAKER_05 (01:12:20 ; 01:12:20):\t Oh\n",
      "SPEAKER_05 (01:12:22 ; 01:12:24):\t You don't know how to do nothing.\n",
      "SPEAKER_03 (01:12:24 ; 01:12:24):\t Yeah.\n",
      "SPEAKER_05 (01:12:24 ; 01:12:49):\t This little one must be uh, here I am. This must be Don Donnell. Yep, he's always with us. My father's here. That's my father. And this little brother. And this little one is Don Donnell.\n",
      "SPEAKER_06 (01:12:49 ; 01:12:52):\t What do you know about these houses right here?\n",
      "SPEAKER_06 (01:12:58 ; 01:12:58):\t What's the other?\n",
      "SPEAKER_06 (01:12:59 ; 01:13:00):\t We don't know I don't know\n",
      "SPEAKER_03 (01:13:00 ; 01:13:00):\t We're gonna\n",
      "SPEAKER_05 (01:13:00 ; 01:13:15):\t I see a familiar tree. Let me see. Oh, here it is. Tell me. Oh, I'm sorry. Let me see what you see here.\n",
      "SPEAKER_07 (01:13:15 ; 01:13:16):\t Hey, Lieutenant.\n",
      "SPEAKER_07 (01:13:17 ; 01:13:29):\t Eddie Turner's Is that the famous Hazel Turner? Oh, my name is Hazel Turner. She was eloquent. Yeah, she was... Was she an author? Yes.\n",
      "SPEAKER_07 (01:13:30 ; 01:13:32):\t Your speech was... impeccable.\n",
      "SPEAKER_08 (01:13:32 ; 01:13:33):\t Mmm.\n",
      "SPEAKER_07 (01:13:33 ; 01:13:38):\t I'm kind of... Yeah, she was written up in a newspaper on the project. I know, but I don't know how she...\n",
      "SPEAKER_05 (01:13:38 ; 01:13:40):\t Okay, I'm here, but...\n",
      "SPEAKER_06 (01:13:40 ; 01:13:41):\t That's hazel.\n",
      "SPEAKER_05 (01:13:40 ; 01:13:55):\t he was the one…\n",
      "SPEAKER_05 (01:13:55 ; 01:13:58):\t I probably just saw her writing. She did a lot of writing.\n",
      "SPEAKER_06 (01:13:57 ; 01:14:07):\t She was written up in a... I know she's being acknowledged and... Yes. Well, that's your brother's house, right?\n",
      "SPEAKER_05 (01:14:07 ; 01:14:08):\t Yeah, that's right.\n",
      "SPEAKER_06 (01:14:08 ; 01:14:09):\t uncommon within your computer. So that's the minute.\n",
      "SPEAKER_05 (01:14:08 ; 01:14:08):\t And.\n",
      "SPEAKER_06 (01:14:09 ; 01:14:12):\t This is a great photograph.\n",
      "SPEAKER_05 (01:14:11 ; 01:14:15):\t I told you, there he is, I told you. That's awesome, that's the awesome street.\n",
      "SPEAKER_06 (01:14:13 ; 01:14:16):\t That's awesome stream. That's awesome stream.\n",
      "SPEAKER_05 (01:14:16 ; 01:14:16):\t . . . . . . . . . . . . her\n",
      "SPEAKER_06 (01:14:16 ; 01:14:19):\t That's Dawson's, right? Look at the Dawson houses.\n",
      "SPEAKER_05 (01:14:17 ; 01:14:21):\t Look at the Dawson houses. They all look alike. Yeah, sure.\n",
      "SPEAKER_06 (01:14:19 ; 01:14:24):\t They all look alike. Yeah, sure. That's what I saw this photograph before when Dennis showed me.\n",
      "SPEAKER_05 (01:14:23 ; 01:14:24):\t Cross the street.\n",
      "SPEAKER_06 (01:14:24 ; 01:14:25):\t Yeah.\n",
      "SPEAKER_05 (01:14:25 ; 01:14:34):\t And my grandfather, before he moved to... You know where the churchyard is.\n",
      "SPEAKER_06 (01:14:34 ; 01:14:34):\t Right.\n",
      "SPEAKER_05 (01:14:34 ; 01:14:50):\t Okay, you couldn't go through there to churchyard. He was at the end of a church hall road. You had to go through Another style you had to go through a little opening no cars We go through it all and he lived at the end of church hall ready the church is on this side\n",
      "SPEAKER_06 (01:14:50 ; 01:14:54):\t The church is here and now the road makes a turn.\n",
      "SPEAKER_05 (01:14:51 ; 01:15:03):\t and now the road makes a turn. Yeah, and his property went back to where Harle was. Harle was, there's a street next to Harle called Green Street. Well, his property went back to there.\n",
      "SPEAKER_06 (01:15:03 ; 01:15:04):\t Mm-hmm.\n",
      "SPEAKER_05 (01:15:03 ; 01:15:06):\t But these are the disadulterated, you see the hounds?\n",
      "SPEAKER_06 (01:15:06 ; 01:15:06):\t Yeah.\n",
      "SPEAKER_06 (01:15:07 ; 01:15:18):\t Maybe you can clear something up. We know there's a William S. Dawson. Why do they call him Dawson Houses? Do you know anything about him?\n",
      "SPEAKER_03 (01:15:13 ; 01:15:20):\t Why do they call them Dawson houses? Do you know anything about him? He was one of the builders.\n",
      "SPEAKER_06 (01:15:20 ; 01:15:22):\t Yeah, we're trying to...\n",
      "SPEAKER_03 (01:15:21 ; 01:15:23):\t I check...\n",
      "SPEAKER_06 (01:15:23 ; 01:15:28):\t Okay, we were just wondering about that. Right there on the left, you'll see it.\n",
      "SPEAKER_03 (01:15:28 ; 01:15:37):\t I'm going to take the towel. Oh, you have a look at your doctor's street. Oh, yeah, here, here. Yeah. Okay.\n",
      "SPEAKER_03 (01:15:37 ; 01:15:39):\t Do it out there. Yeah, do it.\n",
      "SPEAKER_06 (01:15:37 ; 01:15:38):\t Definitely.\n",
      "SPEAKER_06 (01:15:39 ; 01:15:39):\t Look at that lady.\n",
      "SPEAKER_03 (01:15:39 ; 01:15:41):\t Yeah, I'm gonna let y'all win.\n",
      "SPEAKER_06 (01:15:41 ; 01:15:44):\t Who's that lady?\n",
      "SPEAKER_07 (01:15:44 ; 01:15:45):\t I think we know her.\n",
      "SPEAKER_09 (01:15:46 ; 01:15:46):\t you\n",
      "SPEAKER_07 (01:15:46 ; 01:15:48):\t Oh, yeah.\n",
      "SPEAKER_07 (01:15:49 ; 01:15:53):\t What's your dog's history? We suspect these are both.\n",
      "SPEAKER_05 (01:15:52 ; 01:15:53):\t Oh.\n",
      "SPEAKER_05 (01:15:53 ; 01:15:54):\t I don't know where this is.\n",
      "SPEAKER_06 (01:15:58 ; 01:16:03):\t That's tar creep, right? That's back when the Turner's had their plant, right?\n",
      "SPEAKER_03 (01:16:06 ; 01:16:12):\t I'm coming with you. You got someone to pick? Yeah, I think so.\n",
      "SPEAKER_05 (01:16:12 ; 01:16:19):\t Yeah, this is just tar creek. You can walk across it to the other side.\n",
      "SPEAKER_05 (01:16:19 ; 01:16:24):\tご覧いただきありがとうございます。良い1日を!\n",
      "SPEAKER_03 (01:16:24 ; 01:16:26):\t And then in the room my grandpa was sipping fruit milk.\n",
      "SPEAKER_08 (01:16:26 ; 01:16:27):\t Mm-hmm.\n",
      "SPEAKER_03 (01:16:31 ; 01:16:31):\t Thank you.\n",
      "SPEAKER_06 (01:16:34 ; 01:16:36):\t This is the earth.\n",
      "SPEAKER_05 (01:16:36 ; 01:16:45):\t ....거든요\n",
      "SPEAKER_03 (01:16:45 ; 01:16:47):\t Thank you.\n",
      "SPEAKER_05 (01:16:47 ; 01:16:52):\t That's the way to go in a hat. That's what you wear by the way.\n",
      "SPEAKER_03 (01:16:53 ; 01:16:55):\t of Optressiger.\n",
      "SPEAKER_07 (01:16:55 ; 01:16:56):\t You know, some of these people are...\n",
      "SPEAKER_03 (01:17:03 ; 01:17:22):\t You can look at fields. I would probably know some of these people. My grandfather had a box camera. He took some too.\n",
      "SPEAKER_06 (01:17:32 ; 01:17:36):\t Is this an early photograph of your house where your brother lives now?\n",
      "SPEAKER_05 (01:17:34 ; 01:17:37):\t of your house where your brother lives now. Yep, that's it.\n",
      "SPEAKER_06 (01:17:37 ; 01:17:38):\t Yeah.\n",
      "SPEAKER_05 (01:17:38 ; 01:17:39):\t This is the same tree.\n",
      "SPEAKER_05 (01:17:41 ; 01:17:43):\t that tree that next to them.\n",
      "SPEAKER_06 (01:17:43 ; 01:17:44):\t Mm-hmm.\n",
      "SPEAKER_05 (01:17:44 ; 01:17:46):\t and see if you'll see this video in the front.\n",
      "SPEAKER_06 (01:17:46 ; 01:17:47):\t Yeah.\n",
      "SPEAKER_05 (01:17:46 ; 01:17:47):\t Yeah.\n",
      "SPEAKER_06 (01:17:47 ; 01:17:49):\t You talked about the cornfield, yeah.\n",
      "SPEAKER_05 (01:17:48 ; 01:17:52):\t Yeah\n",
      "SPEAKER_05 (01:17:52 ; 01:17:57):\t I think we're sitting under the tree, under the wood fence here.\n",
      "SPEAKER_03 (01:17:57 ; 01:18:14):\t Yeah, there's cork here in the dress. Yeah, this is the same house. There it is here. Move, shoot. Cool old bit of boots.\n",
      "SPEAKER_06 (01:18:14 ; 01:18:16):\t Is that your grandfather?\n",
      "SPEAKER_05 (01:18:16 ; 01:18:21):\t Hello. This is like Naomi. We got her name.\n",
      "SPEAKER_06 (01:18:22 ; 01:18:24):\t So that's William Thomas and Naomi Thomas.\n",
      "SPEAKER_05 (01:18:24 ; 01:18:27):\t You had him wear your hat on the side?\n",
      "SPEAKER_06 (01:18:27 ; 01:18:27):\t I'm going to go get some water. I'm going to go get some water. I'm going to go get some water. I'm going to go get some water. I'm going to go get some water. I'm going to go get some water. I'm going to go get some water. I'm going to go get some water. I'm going to go get some water. I'm going to go get some water. I'm going to go get some water. I'm going to go get some water. I'm going to go get some water. I'm going to go get some water. I'm going to go get some water. I'm going to go get some water. I'm going to go get some water. I'm going to go get some water. I'm going to go get some water. I'm going to go get some water.\n",
      "SPEAKER_05 (01:18:30 ; 01:18:41):\t I was so surprised when I graduated from college. She came, I think my father, son, brought her up to my graduation. They came to Cheney? Yeah. Mm-hmm, and they were up here.\n",
      "SPEAKER_09 (01:18:38 ; 01:18:39):\t He came to change. Yeah.\n",
      "SPEAKER_09 (01:18:41 ; 01:18:41):\t Uh-huh.\n",
      "SPEAKER_05 (01:18:42 ; 01:18:43):\t E deu.\n",
      "SPEAKER_05 (01:18:44 ; 01:18:47):\t This is Sarah.\n",
      "SPEAKER_05 (01:18:49 ; 01:18:59):\t Thomas, uh, come and lead the system. And his job, yes, and that job, and the second.\n",
      "SPEAKER_06 (01:18:58 ; 01:19:06):\t Just a brief sort of diversion for a second. Somebody wanted me to ask you, did you know Rusella Thomas?\n",
      "SPEAKER_03 (01:19:06 ; 01:19:06):\t Mm-hmm.\n",
      "SPEAKER_06 (01:19:07 ; 01:19:12):\t She in her house. We measured that house. We did a drawings of it\n",
      "SPEAKER_03 (01:19:08 ; 01:19:09):\t We\n",
      "SPEAKER_04 (01:19:09 ; 01:19:10):\t measured that house.\n",
      "SPEAKER_06 (01:19:12 ; 01:19:14):\t Is there anything about her that...\n",
      "SPEAKER_04 (01:19:14 ; 01:19:15):\t Uhum, chegou a ser.\n",
      "SPEAKER_06 (01:19:15 ; 01:19:18):\t What did she want to say?\n",
      "SPEAKER_05 (01:19:18 ; 01:19:19):\t birthday\n",
      "SPEAKER_04 (01:19:19 ; 01:19:23):\t She did baby. Oh, a midwife. Yeah.\n",
      "SPEAKER_06 (01:19:23 ; 01:19:23):\t Really?\n",
      "SPEAKER_04 (01:19:23 ; 01:19:26):\t Yeah, we didn't go to hospital, either.\n",
      "SPEAKER_06 (01:19:27 ; 01:19:28):\t Ha, so rude.\n",
      "SPEAKER_04 (01:19:28 ; 01:19:32):\t Yeah, the house is here.\n",
      "SPEAKER_06 (01:19:31 ; 01:19:33):\t Yeah. The house is cute. Yeah, it's cute.\n",
      "SPEAKER_04 (01:19:33 ; 01:19:35):\t Mm-hmm. She wasn't even awake.\n",
      "SPEAKER_06 (01:19:38 ; 01:19:40):\t Huh, okay. That's good. Really.\n",
      "SPEAKER_04 (01:19:40 ; 01:19:43):\t Can I have my glasses? Can I talk to my nanny face? Break.\n",
      "SPEAKER_06 (01:19:44 ; 01:19:47):\t Yeah, she's practically right across the street from Jackie Green.\n",
      "SPEAKER_03 (01:19:47 ; 01:19:48):\t Yeah.\n",
      "SPEAKER_06 (01:19:48 ; 01:19:52):\t Yeah, yeah, okay, that's good to know.\n",
      "SPEAKER_06 (01:19:55 ; 01:19:56):\t You didn't know any Johnson, did you?\n",
      "SPEAKER_05 (01:19:58 ; 01:19:58):\t教室\n",
      "SPEAKER_06 (01:19:58 ; 01:19:59):\t Nanny Johnson?\n",
      "SPEAKER_05 (01:20:00 ; 01:20:03):\t And then it's familiar yesterday to see Amy's face.\n",
      "SPEAKER_06 (01:20:05 ; 01:20:11):\t How about Charles Henry Thomas? That's Dorian's man. For his research.\n",
      "SPEAKER_05 (01:20:11 ; 01:20:13):\t The name is familiar.\n",
      "SPEAKER_05 (01:20:20 ; 01:20:21):\t Thank you for letting me in.\n",
      "SPEAKER_05 (01:20:25 ; 01:20:26):\t Yeah, I don't know if this is yummy.\n",
      "SPEAKER_06 (01:20:26 ; 01:20:28):\t That's Naomi.\n",
      "SPEAKER_05 (01:20:27 ; 01:20:30):\t That's Naomi. That's not really our issue, we see you in the face.\n",
      "SPEAKER_06 (01:20:30 ; 01:20:30):\t Mm-hmm.\n",
      "SPEAKER_05 (01:20:31 ; 01:20:34):\t Boy put the new pants up.\n",
      "SPEAKER_03 (01:20:34 ; 01:20:43):\t for the partOS from another looker. Let look out for good friends.\n",
      "SPEAKER_05 (01:20:43 ; 01:20:43):\t Hello.\n",
      "SPEAKER_05 (01:20:44 ; 01:20:49):\t This is, oh I know who this is. This is Ms. Hazel's sister.\n",
      "SPEAKER_06 (01:20:50 ; 01:20:52):\t Hates alternative system.\n",
      "SPEAKER_05 (01:20:52 ; 01:20:53):\t This is the teacher.\n",
      "SPEAKER_06 (01:20:53 ; 01:20:53):\t Hmm\n",
      "SPEAKER_05 (01:20:54 ; 01:21:07):\t Oh, yeah, she's in. She's got, I don't know what she's talking about here. This is her sister, Carrie. Carrie Thomas. This is Bert and her brother. This is Carrie.\n",
      "SPEAKER_05 (01:21:08 ; 01:21:08):\t Yeah.\n",
      "SPEAKER_06 (01:21:09 ; 01:21:18):\t Here's the house where your brother lives. There's the fence around it. Who built these houses?\n",
      "SPEAKER_05 (01:21:18 ; 01:21:19):\t Oh, okay.\n",
      "SPEAKER_05 (01:21:20 ; 01:21:31):\t Oh, that's right. Oh, oh, Bobby Turner, he's, uh, who taught in, in, uh, Sherry Hill, New Jersey.\n",
      "SPEAKER_06 (01:21:31 ; 01:21:31):\t Oh.\n",
      "SPEAKER_06 (01:21:32 ; 01:21:37):\t Really? That's right near Rygraf. That's about four miles from Rygraf.\n",
      "SPEAKER_05 (01:21:37 ; 01:21:50):\t Our returning, no, our, his wife was Betty, and they lived in New Jersey, and he came down and built a house. Summer, his summer home.\n",
      "SPEAKER_06 (01:21:50 ; 01:21:50):\t Really.\n",
      "SPEAKER_05 (01:21:50 ; 01:21:53):\t Yeah, she taught in Philadelphia.\n",
      "SPEAKER_06 (01:21:53 ; 01:21:56):\t Yeah, he taught in Sherry Hill. They lived in Sherry Hill.\n",
      "SPEAKER_05 (01:21:57 ; 01:21:57):\t Yep.\n",
      "SPEAKER_06 (01:21:58 ; 01:22:03):\t So those were those were both Turner houses like\n",
      "SPEAKER_05 (01:22:02 ; 01:22:15):\t Yeah, and one was, uh, and one looked like Hayden's house? No. The Turner's house was here before Hayden built his house. Where Eddie Turner did. He didn't have a house along the Park Creek here.\n",
      "SPEAKER_06 (01:22:16 ; 01:22:19):\t This is Poplar Street right here.\n",
      "SPEAKER_05 (01:22:19 ; 01:22:20):\t Yeah\n",
      "SPEAKER_05 (01:22:22 ; 01:22:24):\t Anything is on Patrick Lane.\n",
      "SPEAKER_06 (01:22:24 ; 01:22:30):\t There's the fields and this is where you walked down the other day to see Edsel.\n",
      "SPEAKER_05 (01:22:29 ; 01:22:33):\t Yeah, that's right. That's further down.\n",
      "SPEAKER_06 (01:22:31 ; 01:22:35):\t That's not a street right there, is it?\n",
      "SPEAKER_05 (01:22:35 ; 01:22:36):\t Yeah, that's saying.\n",
      "SPEAKER_06 (01:22:37 ; 01:22:40):\t Oh, hold it. Isn't there a street there now though, is there?\n",
      "SPEAKER_05 (01:22:40 ; 01:22:40):\t we don't get to eat 100 pounds of 없다\n",
      "SPEAKER_06 (01:22:41 ; 01:22:44):\t Yeah. Huh.\n",
      "SPEAKER_05 (01:22:44 ; 01:22:48):\t It's white because of the sand.\n",
      "SPEAKER_06 (01:22:48 ; 01:22:49):\t Mm-hmm.\n",
      "SPEAKER_05 (01:22:49 ; 01:22:50):\t Ho ho ho.\n",
      "SPEAKER_06 (01:22:52 ; 01:22:57):\t There's this house right there as well in that photograph. Yeah. Those are both Turner houses?\n",
      "SPEAKER_05 (01:22:57 ; 01:22:58):\t Okay.\n",
      "SPEAKER_06 (01:22:59 ; 01:23:03):\t hmm ah boy\n",
      "SPEAKER_06 (01:23:05 ; 01:23:11):\t It's complicated. The plot thickens. The uh...\n",
      "SPEAKER_05 (01:23:11 ; 01:23:12):\t I'm telling you it does.\n",
      "SPEAKER_06 (01:23:12 ; 01:23:12):\t That's it.\n",
      "SPEAKER_05 (01:23:13 ; 01:23:16):\t I was trying to do a family tree. There were so many branches I gave up.\n",
      "SPEAKER_04 (01:23:18 ; 01:23:19):\t I started off\n",
      "SPEAKER_05 (01:23:19 ; 01:23:22):\t I said, uh-uh, all right. I think, oh, no, I'll stop. I can't do it.\n",
      "SPEAKER_06 (01:23:23 ; 01:23:34):\t So this is the yard that your grandfather had, boy, all this, there's a lot of activity here. Oh yeah. Oh, yeah. Lots coming on, right?\n",
      "SPEAKER_05 (01:23:33 ; 01:23:41):\t Oh, poor Ashley and her brother, and all that shit. Chicken, cheese, ducks, rabbits.\n",
      "SPEAKER_06 (01:23:41 ; 01:23:41):\t See you.\n",
      "SPEAKER_05 (01:23:41 ; 01:23:41):\t Yeah.\n",
      "SPEAKER_05 (01:23:42 ; 01:24:01):\t If you wanted those dogs, those were dogs. This is like God, that's the thing. I have a problem finding out some of these people. This is like God.\n",
      "SPEAKER_05 (01:24:01 ; 01:24:02):\t Oh\n",
      "SPEAKER_03 (01:24:02 ; 01:24:21):\t Let me see this. See if you can read it. See if you can read it.\n",
      "SPEAKER_05 (01:24:20 ; 01:24:29):\t I had the same thing for teachers. Oh, here's Dr. Lewis. He was in San Michael.\n",
      "SPEAKER_06 (01:24:29 ; 01:24:29):\t stuff.\n",
      "SPEAKER_05 (01:24:29 ; 01:24:35):\t Dr. Lewis. He lives right there, right here.\n",
      "SPEAKER_06 (01:24:36 ; 01:24:39):\t Who's this?\n",
      "SPEAKER_05 (01:24:39 ; 01:24:42):\t There's only one you had, you had more of a self-miss.\n",
      "SPEAKER_06 (01:24:41 ; 01:24:43):\t Who's the taller person here?\n",
      "SPEAKER_05 (01:24:43 ; 01:24:43):\t Okay.\n",
      "SPEAKER_06 (01:24:44 ; 01:24:48):\t Oh, that's you? Which hole? Oh, my mother.\n",
      "SPEAKER_06 (01:24:49 ; 01:24:49):\t It's just that so\n",
      "SPEAKER_07 (01:24:49 ; 01:24:51):\t All right?\n",
      "SPEAKER_05 (01:24:51 ; 01:24:56):\t So, yeah, that's one of the turners. Or else it's Jews.\n",
      "SPEAKER_06 (01:24:56 ; 01:25:03):\t Oh, you're older than Edsel, right? Yeah. Oh, okay. So does that make sense? Did that be you, the older girl here?\n",
      "SPEAKER_03 (01:25:03 ; 01:25:09):\t That's good. Look, the sisters, the sisters are a genie there.\n",
      "SPEAKER_06 (01:25:09 ; 01:25:20):\t Right. Hmm. Here's those Turner houses.\n",
      "SPEAKER_03 (01:25:21 ; 01:25:25):\t Yeah, they built their own homes. They would build these homes.\n",
      "SPEAKER_03 (01:25:26 ; 01:25:26):\t Y'all got to get\n",
      "SPEAKER_03 (01:25:37 ; 01:25:40):\t a moment.\n",
      "SPEAKER_06 (01:25:42 ; 01:25:46):\t Oh, that's Neri. Neri.\n",
      "SPEAKER_05 (01:25:47 ; 01:25:52):\t Oh yeah, and that is that book that Uncle Hatt said. Yeah, mm-hmm. King, that is King.\n",
      "SPEAKER_08 (01:25:53 ; 01:25:54):\t Okay.\n",
      "SPEAKER_08 (01:25:57 ; 01:25:57):\t And...\n",
      "SPEAKER_03 (01:25:57 ; 01:26:19):\t He's actually no son of mine or should know the others. Okay. Yeah, this is a thing, thing, thing, yeah. He's going to be ahead.\n",
      "SPEAKER_06 (01:26:19 ; 01:26:24):\t Well, this is probably good for now.\n",
      "SPEAKER_05 (01:26:24 ; 01:26:27):\t I'm coming.\n",
      "SPEAKER_06 (01:26:27 ; 01:26:31):\t But this has been really good.\n",
      "SPEAKER_05 (01:26:31 ; 01:26:58):\t But I'm sorry about the school field because I had the mess of everyone and I kept it in the building there. It was on the yellow paper. It was a mother named everyone on that list. I found it. It's right there. Because my brother gets those in the air so he disturbs everything.\n",
      "SPEAKER_06 (01:26:56 ; 01:27:05):\t Everything in order. Everything in order, yes. Well, Runa, thank you.\n",
      "SPEAKER_04 (01:27:05 ; 01:27:07):\t Oh, thank you so much. Glad to see you.\n",
      "SPEAKER_06 (01:27:06 ; 01:27:11):\t We're glad to see you. I know you're confident in what you're doing, but... We're working. We're working at it.\n",
      "SPEAKER_05 (01:27:11 ; 01:27:11):\t I'm sorry.\n",
      "SPEAKER_06 (01:27:11 ; 01:27:17):\t We're just getting started. We're making some progress. And these folks aren't the students.\n",
      "SPEAKER_05 (01:27:11 ; 01:27:29):\t We're just getting started. We're making some progress. And these folks aren't the students. I'll try to do the family tree. I could make it. There were so many branches. And I can't. Somebody, you know what I'm saying? No, and in Easton, Easton is worse.\n",
      "SPEAKER_08 (01:27:29 ; 01:27:30):\t Mm.\n",
      "SPEAKER_05 (01:27:30 ; 01:27:33):\t On the shield families? Yes. Or at worst?\n",
      "SPEAKER_08 (01:27:32 ; 01:27:34):\t Yes. Or as worse. Yes.\n",
      "SPEAKER_05 (01:27:34 ; 01:27:39):\t Relation to the potters. We relate to the potters. The potters. The potters, yeah.\n",
      "SPEAKER_04 (01:27:39 ; 01:27:42):\t You can powder, you can powder.\n",
      "SPEAKER_01 (01:27:40 ; 01:27:45):\t Rick and Potter, you go with me? Rick and President Potter, yes. Yeah. That's what you've been in for, actually.\n",
      "SPEAKER_04 (01:27:45 ; 01:27:46):\t We're up together.\n",
      "SPEAKER_01 (01:27:47 ; 01:27:49):\t Mr. Richard Potter, oh wow.\n",
      "SPEAKER_04 (01:27:49 ; 01:27:52):\t ничегое\n",
      "SPEAKER_05 (01:27:53 ; 01:27:58):\t Oh, look, private street was our place, the places where we were to play.\n",
      "SPEAKER_04 (01:27:59 ; 01:28:00):\twarted\n",
      "SPEAKER_05 (01:28:01 ; 01:28:03):\t What's your name? Henry.\n",
      "SPEAKER_04 (01:28:02 ; 01:28:03):\t This is good.\n",
      "SPEAKER_05 (01:28:04 ; 01:28:15):\t Another family. I just give up. There's one time, like some now, when I see that, because I need to go to Union Baptist Church.\n",
      "SPEAKER_09 (01:28:15 ; 01:28:15):\t 고맙습니다.\n",
      "SPEAKER_05 (01:28:15 ; 01:28:37):\t And that's where they had a few of the parents who are members of the church. And I love their mass choir. So I used to go live 30 seconds in my house. It was my first time, it was my third. The mass choir is beautiful. And I found out that the choir, they're definitely related, and this was the answer, okay, alright.\n",
      "SPEAKER_06 (01:28:38 ; 01:28:43):\t We're going to turn off the machine.\n",
      "\n"
     ]
    }
   ],
   "source": [
    "print(text)"
   ]
  },
  {
   "cell_type": "code",
   "execution_count": 33,
   "id": "e4debf78-4a24-4910-8461-1d267fd10c9e",
   "metadata": {},
   "outputs": [
    {
     "data": {
      "text/plain": [
       "{'speakers': 'SPEAKER_06',\n",
       " 'segments': [0.60471875, 2.25846875],\n",
       " 'text': ' Okay, go ahead, go ahead.'}"
      ]
     },
     "execution_count": 33,
     "metadata": {},
     "output_type": "execute_result"
    }
   ],
   "source": [
    "text.transcript[0]"
   ]
  },
  {
   "cell_type": "code",
   "execution_count": null,
   "id": "2313a98d-bc0b-4e9c-b7e3-8b40be24c24f",
   "metadata": {},
   "outputs": [],
   "source": []
  },
  {
   "cell_type": "code",
   "execution_count": null,
   "id": "7cf8508f-aabb-44c7-a42a-de001ac17cdd",
   "metadata": {},
   "outputs": [],
   "source": []
  },
  {
   "cell_type": "markdown",
   "id": "91c8a2da-7870-4a99-bd43-d9b73755d951",
   "metadata": {},
   "source": [
    "## Extract and save audio of the interviewee"
   ]
  },
  {
   "cell_type": "code",
   "execution_count": 35,
   "id": "2f0f5005-233a-4e99-afb1-9aecf8de522d",
   "metadata": {},
   "outputs": [
    {
     "ename": "KeyboardInterrupt",
     "evalue": "",
     "output_type": "error",
     "traceback": [
      "\u001b[0;31m---------------------------------------------------------------------------\u001b[0m",
      "\u001b[0;31mKeyboardInterrupt\u001b[0m                         Traceback (most recent call last)",
      "Cell \u001b[0;32mIn[35], line 6\u001b[0m\n\u001b[1;32m      3\u001b[0m \u001b[38;5;28;01mfrom\u001b[39;00m \u001b[38;5;21;01mpydub\u001b[39;00m \u001b[38;5;28;01mimport\u001b[39;00m AudioSegment\n\u001b[1;32m      5\u001b[0m SPEAKER \u001b[38;5;241m=\u001b[39m \u001b[38;5;124m\"\u001b[39m\u001b[38;5;124mSPEAKER_05\u001b[39m\u001b[38;5;124m\"\u001b[39m  \u001b[38;5;66;03m# manually selected by Tim, could do programmatically based on length of speech?\u001b[39;00m\n\u001b[0;32m----> 6\u001b[0m audio \u001b[38;5;241m=\u001b[39m \u001b[43mAudioSegment\u001b[49m\u001b[38;5;241;43m.\u001b[39;49m\u001b[43mfrom_mp3\u001b[49m\u001b[43m(\u001b[49m\u001b[43maudio_file\u001b[49m\u001b[43m)\u001b[49m\n\u001b[1;32m      8\u001b[0m \u001b[38;5;66;03m# Retrieve timestamps from when that speaker is talking\u001b[39;00m\n\u001b[1;32m      9\u001b[0m timestamps \u001b[38;5;241m=\u001b[39m []\n",
      "File \u001b[0;32m~/.local/lib/python3.10/site-packages/pydub/audio_segment.py:796\u001b[0m, in \u001b[0;36mAudioSegment.from_mp3\u001b[0;34m(cls, file, parameters)\u001b[0m\n\u001b[1;32m    794\u001b[0m \u001b[38;5;129m@classmethod\u001b[39m\n\u001b[1;32m    795\u001b[0m \u001b[38;5;28;01mdef\u001b[39;00m \u001b[38;5;21mfrom_mp3\u001b[39m(\u001b[38;5;28mcls\u001b[39m, file, parameters\u001b[38;5;241m=\u001b[39m\u001b[38;5;28;01mNone\u001b[39;00m):\n\u001b[0;32m--> 796\u001b[0m     \u001b[38;5;28;01mreturn\u001b[39;00m \u001b[38;5;28;43mcls\u001b[39;49m\u001b[38;5;241;43m.\u001b[39;49m\u001b[43mfrom_file\u001b[49m\u001b[43m(\u001b[49m\u001b[43mfile\u001b[49m\u001b[43m,\u001b[49m\u001b[43m \u001b[49m\u001b[38;5;124;43m'\u001b[39;49m\u001b[38;5;124;43mmp3\u001b[39;49m\u001b[38;5;124;43m'\u001b[39;49m\u001b[43m,\u001b[49m\u001b[43m \u001b[49m\u001b[43mparameters\u001b[49m\u001b[38;5;241;43m=\u001b[39;49m\u001b[43mparameters\u001b[49m\u001b[43m)\u001b[49m\n",
      "File \u001b[0;32m~/.local/lib/python3.10/site-packages/pydub/audio_segment.py:779\u001b[0m, in \u001b[0;36mAudioSegment.from_file\u001b[0;34m(cls, file, format, codec, parameters, start_second, duration, **kwargs)\u001b[0m\n\u001b[1;32m    777\u001b[0m p_out \u001b[38;5;241m=\u001b[39m \u001b[38;5;28mbytearray\u001b[39m(p_out)\n\u001b[1;32m    778\u001b[0m fix_wav_headers(p_out)\n\u001b[0;32m--> 779\u001b[0m p_out \u001b[38;5;241m=\u001b[39m \u001b[38;5;28;43mbytes\u001b[39;49m\u001b[43m(\u001b[49m\u001b[43mp_out\u001b[49m\u001b[43m)\u001b[49m\n\u001b[1;32m    780\u001b[0m obj \u001b[38;5;241m=\u001b[39m \u001b[38;5;28mcls\u001b[39m(p_out)\n\u001b[1;32m    782\u001b[0m \u001b[38;5;28;01mif\u001b[39;00m close_file:\n",
      "\u001b[0;31mKeyboardInterrupt\u001b[0m: "
     ]
    }
   ],
   "source": [
    "import IPython\n",
    "\n",
    "from pydub import AudioSegment\n",
    "\n",
    "SPEAKER = \"SPEAKER_05\"  # manually selected by Tim, could do programmatically based on length of speech?\n",
    "audio = AudioSegment.from_mp3(audio_file)\n",
    "\n",
    "# Retrieve timestamps from when that speaker is talking\n",
    "timestamps = []\n",
    "for index in text.transcript:\n",
    "    entry = text.transcript[index]\n",
    "    if entry['speakers'] == SPEAKER:\n",
    "        start, end = entry['segments'][0]*1000, entry['segments'][1]*1000\n",
    "        timestamps.append((start, end))\n",
    "\n",
    "# Concatenate those timestamps as an audio file\n",
    "extracted_audio = AudioSegment.empty()\n",
    "for start, end in timestamps:\n",
    "    extracted_audio += audio[start:end]\n",
    "\n",
    "output_file = \"deshields_voice.mp3\"\n",
    "extracted_audio.export(output_file, format=\"mp3\")\n",
    "IPython.display.Audio(output_file)  # See Applio for then running training, inference using voice sample"
   ]
  },
  {
   "cell_type": "code",
   "execution_count": null,
   "id": "d51009b1-5329-49a4-acbc-fea76fa65ffe",
   "metadata": {},
   "outputs": [],
   "source": []
  },
  {
   "cell_type": "markdown",
   "id": "d7b7e782-5123-4760-8770-1fd82dcf87e7",
   "metadata": {},
   "source": [
    "### Create LLM Q&A from transcript"
   ]
  },
  {
   "cell_type": "code",
   "execution_count": 36,
   "id": "c9bad199-cc5c-44ca-be1a-4de5a5c639d6",
   "metadata": {},
   "outputs": [],
   "source": [
    "# Retrieve a simplified text copy of the transcript (just speaker, line)\n",
    "\n",
    "SPEAKER = \"SPEAKER_05\"  # manually selected by Tim, could do programmatically based on length of speech?\n",
    "deshields_entries = []\n",
    "all_entries = []\n",
    "\n",
    "for index in text.transcript:\n",
    "    entry = text.transcript[index]\n",
    "    if entry['speakers'] == SPEAKER:\n",
    "        deshields_entries.append(entry['text'])\n",
    "    all_entries.append(entry['text'])"
   ]
  },
  {
   "cell_type": "code",
   "execution_count": 37,
   "id": "497928b0-660d-466f-9257-9757d128a68f",
   "metadata": {},
   "outputs": [
    {
     "data": {
      "text/plain": [
       "[\" I am Rowena Shields, a native of Bellevue. I was born November 15, 1930 in Bellevue near my grandfather's house.\",\n",
       " ' November 15, 1930.',\n",
       " ' in Bellevue, Maryland.',\n",
       " \" Oh, wow. Most of them are gone. When I was born, all of my parents were aunts, uncles, cousins, nephews, and we stayed at my grandfather's house. And then when we found out that they were developing this area, I purchased a home here. But beginning, I was mostly with my grandmother and aunt on Gate Street. Then I had relatives across the street in Poplar Lane, but we were all related.\",\n",
       " ' But my father was Golden Boots Thomas.']"
      ]
     },
     "execution_count": 37,
     "metadata": {},
     "output_type": "execute_result"
    }
   ],
   "source": [
    "deshields_entries[:5]"
   ]
  },
  {
   "cell_type": "code",
   "execution_count": 10,
   "id": "4636d1f9-752f-4771-8995-3aadfa67ec45",
   "metadata": {},
   "outputs": [
    {
     "data": {
      "text/plain": [
       "[\" Okay, go ahead, Aaliyah. Today is July 26th, Tuesday. It is 10 22 a.m. This is Aaliyah Parsons here with Michael Sharappa, Marcus Smith and Doreen Rogers. We're conducting an interview with Rowena DeShield that will focus on her life history and observations in the village of Bellevue, Maryland.\",\n",
       " ' Very good. Would you like to do the first question?',\n",
       " ' Sure.',\n",
       " \" Um, let's start. If you could just state who you are and when and where you were born.\",\n",
       " \" I am Ruina Shields, a native of Bellevue. I was born on October 15, 1930 in Bellevue near my grandfather's house.\"]"
      ]
     },
     "execution_count": 10,
     "metadata": {},
     "output_type": "execute_result"
    }
   ],
   "source": [
    "all_entries[:5]"
   ]
  },
  {
   "cell_type": "code",
   "execution_count": null,
   "id": "b2f83a79-8dd4-47e2-8816-d2e8f40567e4",
   "metadata": {},
   "outputs": [],
   "source": []
  },
  {
   "cell_type": "code",
   "execution_count": 38,
   "id": "b3d84bdf-4b7e-4c73-98b3-36b4816c97e5",
   "metadata": {
    "scrolled": true
   },
   "outputs": [
    {
     "data": {
      "application/vnd.jupyter.widget-view+json": {
       "model_id": "55e0d48cdfdb4360bb9575b5b9123d0c",
       "version_major": 2,
       "version_minor": 0
      },
      "text/plain": [
       "Batches:   0%|          | 0/1 [00:00<?, ?it/s]"
      ]
     },
     "metadata": {},
     "output_type": "display_data"
    },
    {
     "name": "stderr",
     "output_type": "stream",
     "text": [
      "WARNING:chromadb.segment.impl.vector.local_persistent_hnsw:Add of existing embedding ID: 0\n",
      "WARNING:chromadb.segment.impl.metadata.sqlite:Insert of existing embedding ID: 0\n"
     ]
    },
    {
     "data": {
      "application/vnd.jupyter.widget-view+json": {
       "model_id": "c8048efc478b49d5acc3b5b4bbd39190",
       "version_major": 2,
       "version_minor": 0
      },
      "text/plain": [
       "Batches:   0%|          | 0/1 [00:00<?, ?it/s]"
      ]
     },
     "metadata": {},
     "output_type": "display_data"
    },
    {
     "name": "stderr",
     "output_type": "stream",
     "text": [
      "WARNING:chromadb.segment.impl.vector.local_persistent_hnsw:Add of existing embedding ID: 1\n",
      "WARNING:chromadb.segment.impl.metadata.sqlite:Insert of existing embedding ID: 1\n"
     ]
    },
    {
     "data": {
      "application/vnd.jupyter.widget-view+json": {
       "model_id": "ae0b007a1ec74973bf208346d9c131d4",
       "version_major": 2,
       "version_minor": 0
      },
      "text/plain": [
       "Batches:   0%|          | 0/1 [00:00<?, ?it/s]"
      ]
     },
     "metadata": {},
     "output_type": "display_data"
    },
    {
     "name": "stderr",
     "output_type": "stream",
     "text": [
      "WARNING:chromadb.segment.impl.vector.local_persistent_hnsw:Add of existing embedding ID: 2\n",
      "WARNING:chromadb.segment.impl.metadata.sqlite:Insert of existing embedding ID: 2\n"
     ]
    },
    {
     "data": {
      "application/vnd.jupyter.widget-view+json": {
       "model_id": "57abe0caf69d4d25b7c2a29315ad376c",
       "version_major": 2,
       "version_minor": 0
      },
      "text/plain": [
       "Batches:   0%|          | 0/1 [00:00<?, ?it/s]"
      ]
     },
     "metadata": {},
     "output_type": "display_data"
    },
    {
     "name": "stderr",
     "output_type": "stream",
     "text": [
      "WARNING:chromadb.segment.impl.vector.local_persistent_hnsw:Add of existing embedding ID: 3\n",
      "WARNING:chromadb.segment.impl.metadata.sqlite:Insert of existing embedding ID: 3\n"
     ]
    },
    {
     "data": {
      "application/vnd.jupyter.widget-view+json": {
       "model_id": "12cd288d3df14dc5b5b3fd55a9e7f2e0",
       "version_major": 2,
       "version_minor": 0
      },
      "text/plain": [
       "Batches:   0%|          | 0/1 [00:00<?, ?it/s]"
      ]
     },
     "metadata": {},
     "output_type": "display_data"
    },
    {
     "name": "stderr",
     "output_type": "stream",
     "text": [
      "WARNING:chromadb.segment.impl.vector.local_persistent_hnsw:Add of existing embedding ID: 4\n",
      "WARNING:chromadb.segment.impl.metadata.sqlite:Insert of existing embedding ID: 4\n"
     ]
    },
    {
     "data": {
      "application/vnd.jupyter.widget-view+json": {
       "model_id": "d12975f05ef94a1396d129b99782712a",
       "version_major": 2,
       "version_minor": 0
      },
      "text/plain": [
       "Batches:   0%|          | 0/1 [00:00<?, ?it/s]"
      ]
     },
     "metadata": {},
     "output_type": "display_data"
    },
    {
     "name": "stderr",
     "output_type": "stream",
     "text": [
      "WARNING:chromadb.segment.impl.vector.local_persistent_hnsw:Add of existing embedding ID: 5\n",
      "WARNING:chromadb.segment.impl.metadata.sqlite:Insert of existing embedding ID: 5\n"
     ]
    },
    {
     "data": {
      "application/vnd.jupyter.widget-view+json": {
       "model_id": "9e87492ce71e4a3ebe287f8c24d44676",
       "version_major": 2,
       "version_minor": 0
      },
      "text/plain": [
       "Batches:   0%|          | 0/1 [00:00<?, ?it/s]"
      ]
     },
     "metadata": {},
     "output_type": "display_data"
    },
    {
     "name": "stderr",
     "output_type": "stream",
     "text": [
      "WARNING:chromadb.segment.impl.vector.local_persistent_hnsw:Add of existing embedding ID: 6\n",
      "WARNING:chromadb.segment.impl.metadata.sqlite:Insert of existing embedding ID: 6\n"
     ]
    },
    {
     "data": {
      "application/vnd.jupyter.widget-view+json": {
       "model_id": "e042622693524689bb989c9366d9aa84",
       "version_major": 2,
       "version_minor": 0
      },
      "text/plain": [
       "Batches:   0%|          | 0/1 [00:00<?, ?it/s]"
      ]
     },
     "metadata": {},
     "output_type": "display_data"
    },
    {
     "name": "stderr",
     "output_type": "stream",
     "text": [
      "WARNING:chromadb.segment.impl.vector.local_persistent_hnsw:Add of existing embedding ID: 7\n",
      "WARNING:chromadb.segment.impl.metadata.sqlite:Insert of existing embedding ID: 7\n"
     ]
    },
    {
     "data": {
      "application/vnd.jupyter.widget-view+json": {
       "model_id": "ca16286d36b14bda997ff468ff3de63e",
       "version_major": 2,
       "version_minor": 0
      },
      "text/plain": [
       "Batches:   0%|          | 0/1 [00:00<?, ?it/s]"
      ]
     },
     "metadata": {},
     "output_type": "display_data"
    },
    {
     "name": "stderr",
     "output_type": "stream",
     "text": [
      "WARNING:chromadb.segment.impl.vector.local_persistent_hnsw:Add of existing embedding ID: 8\n",
      "WARNING:chromadb.segment.impl.metadata.sqlite:Insert of existing embedding ID: 8\n"
     ]
    },
    {
     "data": {
      "application/vnd.jupyter.widget-view+json": {
       "model_id": "489050fa0bcb45848353a7b72426bb72",
       "version_major": 2,
       "version_minor": 0
      },
      "text/plain": [
       "Batches:   0%|          | 0/1 [00:00<?, ?it/s]"
      ]
     },
     "metadata": {},
     "output_type": "display_data"
    },
    {
     "name": "stderr",
     "output_type": "stream",
     "text": [
      "WARNING:chromadb.segment.impl.vector.local_persistent_hnsw:Add of existing embedding ID: 9\n",
      "WARNING:chromadb.segment.impl.metadata.sqlite:Insert of existing embedding ID: 9\n"
     ]
    },
    {
     "data": {
      "application/vnd.jupyter.widget-view+json": {
       "model_id": "b124d3c5ce5e4d49865c5eb6ad157edd",
       "version_major": 2,
       "version_minor": 0
      },
      "text/plain": [
       "Batches:   0%|          | 0/1 [00:00<?, ?it/s]"
      ]
     },
     "metadata": {},
     "output_type": "display_data"
    },
    {
     "name": "stderr",
     "output_type": "stream",
     "text": [
      "WARNING:chromadb.segment.impl.vector.local_persistent_hnsw:Add of existing embedding ID: 10\n",
      "WARNING:chromadb.segment.impl.metadata.sqlite:Insert of existing embedding ID: 10\n"
     ]
    },
    {
     "data": {
      "application/vnd.jupyter.widget-view+json": {
       "model_id": "2db948add78d4f739541ac8d94309fb0",
       "version_major": 2,
       "version_minor": 0
      },
      "text/plain": [
       "Batches:   0%|          | 0/1 [00:00<?, ?it/s]"
      ]
     },
     "metadata": {},
     "output_type": "display_data"
    },
    {
     "name": "stderr",
     "output_type": "stream",
     "text": [
      "WARNING:chromadb.segment.impl.vector.local_persistent_hnsw:Add of existing embedding ID: 11\n",
      "WARNING:chromadb.segment.impl.metadata.sqlite:Insert of existing embedding ID: 11\n"
     ]
    },
    {
     "data": {
      "application/vnd.jupyter.widget-view+json": {
       "model_id": "dfb18d41c3e344d691c951c7243b8d33",
       "version_major": 2,
       "version_minor": 0
      },
      "text/plain": [
       "Batches:   0%|          | 0/1 [00:00<?, ?it/s]"
      ]
     },
     "metadata": {},
     "output_type": "display_data"
    },
    {
     "name": "stderr",
     "output_type": "stream",
     "text": [
      "WARNING:chromadb.segment.impl.vector.local_persistent_hnsw:Add of existing embedding ID: 12\n",
      "WARNING:chromadb.segment.impl.metadata.sqlite:Insert of existing embedding ID: 12\n"
     ]
    },
    {
     "data": {
      "application/vnd.jupyter.widget-view+json": {
       "model_id": "43825f0b2762423092dd8cd89a782e71",
       "version_major": 2,
       "version_minor": 0
      },
      "text/plain": [
       "Batches:   0%|          | 0/1 [00:00<?, ?it/s]"
      ]
     },
     "metadata": {},
     "output_type": "display_data"
    },
    {
     "name": "stderr",
     "output_type": "stream",
     "text": [
      "WARNING:chromadb.segment.impl.vector.local_persistent_hnsw:Add of existing embedding ID: 13\n",
      "WARNING:chromadb.segment.impl.metadata.sqlite:Insert of existing embedding ID: 13\n"
     ]
    },
    {
     "data": {
      "application/vnd.jupyter.widget-view+json": {
       "model_id": "ea85dadf8e5a4e169b3a7d0b16c3e7d9",
       "version_major": 2,
       "version_minor": 0
      },
      "text/plain": [
       "Batches:   0%|          | 0/1 [00:00<?, ?it/s]"
      ]
     },
     "metadata": {},
     "output_type": "display_data"
    },
    {
     "name": "stderr",
     "output_type": "stream",
     "text": [
      "WARNING:chromadb.segment.impl.vector.local_persistent_hnsw:Add of existing embedding ID: 14\n",
      "WARNING:chromadb.segment.impl.metadata.sqlite:Insert of existing embedding ID: 14\n"
     ]
    },
    {
     "data": {
      "application/vnd.jupyter.widget-view+json": {
       "model_id": "964889158e7141bdb03f021cd52599a1",
       "version_major": 2,
       "version_minor": 0
      },
      "text/plain": [
       "Batches:   0%|          | 0/1 [00:00<?, ?it/s]"
      ]
     },
     "metadata": {},
     "output_type": "display_data"
    },
    {
     "name": "stderr",
     "output_type": "stream",
     "text": [
      "WARNING:chromadb.segment.impl.vector.local_persistent_hnsw:Add of existing embedding ID: 15\n",
      "WARNING:chromadb.segment.impl.metadata.sqlite:Insert of existing embedding ID: 15\n"
     ]
    },
    {
     "data": {
      "application/vnd.jupyter.widget-view+json": {
       "model_id": "6c62e59bfa91462b9824b303d1a8a23e",
       "version_major": 2,
       "version_minor": 0
      },
      "text/plain": [
       "Batches:   0%|          | 0/1 [00:00<?, ?it/s]"
      ]
     },
     "metadata": {},
     "output_type": "display_data"
    },
    {
     "name": "stderr",
     "output_type": "stream",
     "text": [
      "WARNING:chromadb.segment.impl.vector.local_persistent_hnsw:Add of existing embedding ID: 16\n",
      "WARNING:chromadb.segment.impl.metadata.sqlite:Insert of existing embedding ID: 16\n"
     ]
    },
    {
     "data": {
      "application/vnd.jupyter.widget-view+json": {
       "model_id": "93e41d55aacd4c079d4e2023af741703",
       "version_major": 2,
       "version_minor": 0
      },
      "text/plain": [
       "Batches:   0%|          | 0/1 [00:00<?, ?it/s]"
      ]
     },
     "metadata": {},
     "output_type": "display_data"
    },
    {
     "name": "stderr",
     "output_type": "stream",
     "text": [
      "WARNING:chromadb.segment.impl.vector.local_persistent_hnsw:Add of existing embedding ID: 17\n",
      "WARNING:chromadb.segment.impl.metadata.sqlite:Insert of existing embedding ID: 17\n"
     ]
    },
    {
     "data": {
      "application/vnd.jupyter.widget-view+json": {
       "model_id": "cac3933ca2634f4b96feb3b19716d0b8",
       "version_major": 2,
       "version_minor": 0
      },
      "text/plain": [
       "Batches:   0%|          | 0/1 [00:00<?, ?it/s]"
      ]
     },
     "metadata": {},
     "output_type": "display_data"
    },
    {
     "name": "stderr",
     "output_type": "stream",
     "text": [
      "WARNING:chromadb.segment.impl.vector.local_persistent_hnsw:Add of existing embedding ID: 18\n",
      "WARNING:chromadb.segment.impl.metadata.sqlite:Insert of existing embedding ID: 18\n"
     ]
    },
    {
     "data": {
      "application/vnd.jupyter.widget-view+json": {
       "model_id": "77d924a375a14d6482abf525c78673f9",
       "version_major": 2,
       "version_minor": 0
      },
      "text/plain": [
       "Batches:   0%|          | 0/1 [00:00<?, ?it/s]"
      ]
     },
     "metadata": {},
     "output_type": "display_data"
    },
    {
     "data": {
      "application/vnd.jupyter.widget-view+json": {
       "model_id": "27b399fd4a3242c18dd326de9f7c2bb8",
       "version_major": 2,
       "version_minor": 0
      },
      "text/plain": [
       "Batches:   0%|          | 0/1 [00:00<?, ?it/s]"
      ]
     },
     "metadata": {},
     "output_type": "display_data"
    },
    {
     "data": {
      "application/vnd.jupyter.widget-view+json": {
       "model_id": "3798a7089f4c4d51ab1ac0fccb9b675d",
       "version_major": 2,
       "version_minor": 0
      },
      "text/plain": [
       "Batches:   0%|          | 0/1 [00:00<?, ?it/s]"
      ]
     },
     "metadata": {},
     "output_type": "display_data"
    },
    {
     "data": {
      "application/vnd.jupyter.widget-view+json": {
       "model_id": "55c48afbc8644bd8897f27b433d9a826",
       "version_major": 2,
       "version_minor": 0
      },
      "text/plain": [
       "Batches:   0%|          | 0/1 [00:00<?, ?it/s]"
      ]
     },
     "metadata": {},
     "output_type": "display_data"
    },
    {
     "data": {
      "application/vnd.jupyter.widget-view+json": {
       "model_id": "732b1ad75b074192b9f9bd8b054f8d5d",
       "version_major": 2,
       "version_minor": 0
      },
      "text/plain": [
       "Batches:   0%|          | 0/1 [00:00<?, ?it/s]"
      ]
     },
     "metadata": {},
     "output_type": "display_data"
    },
    {
     "data": {
      "application/vnd.jupyter.widget-view+json": {
       "model_id": "2d2d3d28139b464992fbaa222c52c4bd",
       "version_major": 2,
       "version_minor": 0
      },
      "text/plain": [
       "Batches:   0%|          | 0/1 [00:00<?, ?it/s]"
      ]
     },
     "metadata": {},
     "output_type": "display_data"
    },
    {
     "data": {
      "application/vnd.jupyter.widget-view+json": {
       "model_id": "9318710d306040929e85ddc2dfc15cc8",
       "version_major": 2,
       "version_minor": 0
      },
      "text/plain": [
       "Batches:   0%|          | 0/1 [00:00<?, ?it/s]"
      ]
     },
     "metadata": {},
     "output_type": "display_data"
    },
    {
     "data": {
      "application/vnd.jupyter.widget-view+json": {
       "model_id": "b784596ada234dac814f6e015ef73b55",
       "version_major": 2,
       "version_minor": 0
      },
      "text/plain": [
       "Batches:   0%|          | 0/1 [00:00<?, ?it/s]"
      ]
     },
     "metadata": {},
     "output_type": "display_data"
    },
    {
     "data": {
      "application/vnd.jupyter.widget-view+json": {
       "model_id": "23b1d48e6bd643849b99d05f7407e60b",
       "version_major": 2,
       "version_minor": 0
      },
      "text/plain": [
       "Batches:   0%|          | 0/1 [00:00<?, ?it/s]"
      ]
     },
     "metadata": {},
     "output_type": "display_data"
    },
    {
     "data": {
      "application/vnd.jupyter.widget-view+json": {
       "model_id": "8270d083c4ed49489f89c502e06fc6ea",
       "version_major": 2,
       "version_minor": 0
      },
      "text/plain": [
       "Batches:   0%|          | 0/1 [00:00<?, ?it/s]"
      ]
     },
     "metadata": {},
     "output_type": "display_data"
    },
    {
     "data": {
      "application/vnd.jupyter.widget-view+json": {
       "model_id": "b86a941ca53441549998effb09963338",
       "version_major": 2,
       "version_minor": 0
      },
      "text/plain": [
       "Batches:   0%|          | 0/1 [00:00<?, ?it/s]"
      ]
     },
     "metadata": {},
     "output_type": "display_data"
    },
    {
     "data": {
      "application/vnd.jupyter.widget-view+json": {
       "model_id": "b7df00d01656440bb1b31c54ec75e9fc",
       "version_major": 2,
       "version_minor": 0
      },
      "text/plain": [
       "Batches:   0%|          | 0/1 [00:00<?, ?it/s]"
      ]
     },
     "metadata": {},
     "output_type": "display_data"
    },
    {
     "data": {
      "application/vnd.jupyter.widget-view+json": {
       "model_id": "d04784fc4d60473e91be5e38493ffeb7",
       "version_major": 2,
       "version_minor": 0
      },
      "text/plain": [
       "Batches:   0%|          | 0/1 [00:00<?, ?it/s]"
      ]
     },
     "metadata": {},
     "output_type": "display_data"
    },
    {
     "data": {
      "application/vnd.jupyter.widget-view+json": {
       "model_id": "e974b174e04a4ffc91c3d9f6dfa7f1be",
       "version_major": 2,
       "version_minor": 0
      },
      "text/plain": [
       "Batches:   0%|          | 0/1 [00:00<?, ?it/s]"
      ]
     },
     "metadata": {},
     "output_type": "display_data"
    },
    {
     "data": {
      "application/vnd.jupyter.widget-view+json": {
       "model_id": "ebee5337a2d743f99cd87c8a0ec52f2d",
       "version_major": 2,
       "version_minor": 0
      },
      "text/plain": [
       "Batches:   0%|          | 0/1 [00:00<?, ?it/s]"
      ]
     },
     "metadata": {},
     "output_type": "display_data"
    },
    {
     "data": {
      "application/vnd.jupyter.widget-view+json": {
       "model_id": "68e4bfcf00474b5da5427b4f6a9233b1",
       "version_major": 2,
       "version_minor": 0
      },
      "text/plain": [
       "Batches:   0%|          | 0/1 [00:00<?, ?it/s]"
      ]
     },
     "metadata": {},
     "output_type": "display_data"
    },
    {
     "data": {
      "application/vnd.jupyter.widget-view+json": {
       "model_id": "2c608ae41bc7433d87dd74282b0ccfd1",
       "version_major": 2,
       "version_minor": 0
      },
      "text/plain": [
       "Batches:   0%|          | 0/1 [00:00<?, ?it/s]"
      ]
     },
     "metadata": {},
     "output_type": "display_data"
    },
    {
     "data": {
      "application/vnd.jupyter.widget-view+json": {
       "model_id": "1c6a71fc29ed4757a0939264d50fdd58",
       "version_major": 2,
       "version_minor": 0
      },
      "text/plain": [
       "Batches:   0%|          | 0/1 [00:00<?, ?it/s]"
      ]
     },
     "metadata": {},
     "output_type": "display_data"
    },
    {
     "data": {
      "application/vnd.jupyter.widget-view+json": {
       "model_id": "93bdb9f815174eb899d48dfefeacb725",
       "version_major": 2,
       "version_minor": 0
      },
      "text/plain": [
       "Batches:   0%|          | 0/1 [00:00<?, ?it/s]"
      ]
     },
     "metadata": {},
     "output_type": "display_data"
    },
    {
     "data": {
      "application/vnd.jupyter.widget-view+json": {
       "model_id": "95e00107d3c841558ecd005e5edafe01",
       "version_major": 2,
       "version_minor": 0
      },
      "text/plain": [
       "Batches:   0%|          | 0/1 [00:00<?, ?it/s]"
      ]
     },
     "metadata": {},
     "output_type": "display_data"
    },
    {
     "data": {
      "application/vnd.jupyter.widget-view+json": {
       "model_id": "ec5ccb9c70d14affbb6e044b0855494a",
       "version_major": 2,
       "version_minor": 0
      },
      "text/plain": [
       "Batches:   0%|          | 0/1 [00:00<?, ?it/s]"
      ]
     },
     "metadata": {},
     "output_type": "display_data"
    },
    {
     "data": {
      "application/vnd.jupyter.widget-view+json": {
       "model_id": "6872b59aea684c23a479486d3b8422ff",
       "version_major": 2,
       "version_minor": 0
      },
      "text/plain": [
       "Batches:   0%|          | 0/1 [00:00<?, ?it/s]"
      ]
     },
     "metadata": {},
     "output_type": "display_data"
    },
    {
     "data": {
      "application/vnd.jupyter.widget-view+json": {
       "model_id": "d7abe3df3f7645f3a36636b5021450a6",
       "version_major": 2,
       "version_minor": 0
      },
      "text/plain": [
       "Batches:   0%|          | 0/1 [00:00<?, ?it/s]"
      ]
     },
     "metadata": {},
     "output_type": "display_data"
    },
    {
     "data": {
      "application/vnd.jupyter.widget-view+json": {
       "model_id": "72004885ade440fba190e3a551443b65",
       "version_major": 2,
       "version_minor": 0
      },
      "text/plain": [
       "Batches:   0%|          | 0/1 [00:00<?, ?it/s]"
      ]
     },
     "metadata": {},
     "output_type": "display_data"
    },
    {
     "data": {
      "application/vnd.jupyter.widget-view+json": {
       "model_id": "b69c725d8df54e4db8d31adda8f1145d",
       "version_major": 2,
       "version_minor": 0
      },
      "text/plain": [
       "Batches:   0%|          | 0/1 [00:00<?, ?it/s]"
      ]
     },
     "metadata": {},
     "output_type": "display_data"
    },
    {
     "data": {
      "application/vnd.jupyter.widget-view+json": {
       "model_id": "0ad71dc39c1b4e6fbf25db56e4c7dfa1",
       "version_major": 2,
       "version_minor": 0
      },
      "text/plain": [
       "Batches:   0%|          | 0/1 [00:00<?, ?it/s]"
      ]
     },
     "metadata": {},
     "output_type": "display_data"
    },
    {
     "data": {
      "application/vnd.jupyter.widget-view+json": {
       "model_id": "4f4a21e8e26d444b9cf4746a0121e0e8",
       "version_major": 2,
       "version_minor": 0
      },
      "text/plain": [
       "Batches:   0%|          | 0/1 [00:00<?, ?it/s]"
      ]
     },
     "metadata": {},
     "output_type": "display_data"
    },
    {
     "data": {
      "application/vnd.jupyter.widget-view+json": {
       "model_id": "53b53f7549254c8fb295e0b300bb7774",
       "version_major": 2,
       "version_minor": 0
      },
      "text/plain": [
       "Batches:   0%|          | 0/1 [00:00<?, ?it/s]"
      ]
     },
     "metadata": {},
     "output_type": "display_data"
    },
    {
     "data": {
      "application/vnd.jupyter.widget-view+json": {
       "model_id": "b3e9a827e3524a7dbb0b2c0295c6c4da",
       "version_major": 2,
       "version_minor": 0
      },
      "text/plain": [
       "Batches:   0%|          | 0/1 [00:00<?, ?it/s]"
      ]
     },
     "metadata": {},
     "output_type": "display_data"
    },
    {
     "data": {
      "application/vnd.jupyter.widget-view+json": {
       "model_id": "371e5a7fc81b4de68966a3fb950b6dba",
       "version_major": 2,
       "version_minor": 0
      },
      "text/plain": [
       "Batches:   0%|          | 0/1 [00:00<?, ?it/s]"
      ]
     },
     "metadata": {},
     "output_type": "display_data"
    },
    {
     "data": {
      "application/vnd.jupyter.widget-view+json": {
       "model_id": "c188945d00c04c45bd025c3e9e7c543a",
       "version_major": 2,
       "version_minor": 0
      },
      "text/plain": [
       "Batches:   0%|          | 0/1 [00:00<?, ?it/s]"
      ]
     },
     "metadata": {},
     "output_type": "display_data"
    },
    {
     "data": {
      "application/vnd.jupyter.widget-view+json": {
       "model_id": "29ae47204c2644169d45fbf71323cfc5",
       "version_major": 2,
       "version_minor": 0
      },
      "text/plain": [
       "Batches:   0%|          | 0/1 [00:00<?, ?it/s]"
      ]
     },
     "metadata": {},
     "output_type": "display_data"
    },
    {
     "data": {
      "application/vnd.jupyter.widget-view+json": {
       "model_id": "171c65c85a6344f5b095abb443d771fe",
       "version_major": 2,
       "version_minor": 0
      },
      "text/plain": [
       "Batches:   0%|          | 0/1 [00:00<?, ?it/s]"
      ]
     },
     "metadata": {},
     "output_type": "display_data"
    },
    {
     "data": {
      "application/vnd.jupyter.widget-view+json": {
       "model_id": "5b46b2c3349d4c4f89028f8f529bb617",
       "version_major": 2,
       "version_minor": 0
      },
      "text/plain": [
       "Batches:   0%|          | 0/1 [00:00<?, ?it/s]"
      ]
     },
     "metadata": {},
     "output_type": "display_data"
    },
    {
     "data": {
      "application/vnd.jupyter.widget-view+json": {
       "model_id": "f5b778f4f63846cd89f0e8114dd45f12",
       "version_major": 2,
       "version_minor": 0
      },
      "text/plain": [
       "Batches:   0%|          | 0/1 [00:00<?, ?it/s]"
      ]
     },
     "metadata": {},
     "output_type": "display_data"
    },
    {
     "data": {
      "application/vnd.jupyter.widget-view+json": {
       "model_id": "61c3d2fe08ca4eef9e9f12912d6298cd",
       "version_major": 2,
       "version_minor": 0
      },
      "text/plain": [
       "Batches:   0%|          | 0/1 [00:00<?, ?it/s]"
      ]
     },
     "metadata": {},
     "output_type": "display_data"
    },
    {
     "data": {
      "application/vnd.jupyter.widget-view+json": {
       "model_id": "6d0d95bb8a614ed2b07a88a796b9fd04",
       "version_major": 2,
       "version_minor": 0
      },
      "text/plain": [
       "Batches:   0%|          | 0/1 [00:00<?, ?it/s]"
      ]
     },
     "metadata": {},
     "output_type": "display_data"
    },
    {
     "data": {
      "application/vnd.jupyter.widget-view+json": {
       "model_id": "87788c1d478e43ac9f11c7c9aeb96334",
       "version_major": 2,
       "version_minor": 0
      },
      "text/plain": [
       "Batches:   0%|          | 0/1 [00:00<?, ?it/s]"
      ]
     },
     "metadata": {},
     "output_type": "display_data"
    },
    {
     "data": {
      "application/vnd.jupyter.widget-view+json": {
       "model_id": "47b63b75c0834ab3959e8845a4990f0c",
       "version_major": 2,
       "version_minor": 0
      },
      "text/plain": [
       "Batches:   0%|          | 0/1 [00:00<?, ?it/s]"
      ]
     },
     "metadata": {},
     "output_type": "display_data"
    },
    {
     "data": {
      "application/vnd.jupyter.widget-view+json": {
       "model_id": "a437f8fb2b164dd9804d919783a4c60c",
       "version_major": 2,
       "version_minor": 0
      },
      "text/plain": [
       "Batches:   0%|          | 0/1 [00:00<?, ?it/s]"
      ]
     },
     "metadata": {},
     "output_type": "display_data"
    },
    {
     "data": {
      "application/vnd.jupyter.widget-view+json": {
       "model_id": "0a60fe0f0337496e97a68b0e09b14b53",
       "version_major": 2,
       "version_minor": 0
      },
      "text/plain": [
       "Batches:   0%|          | 0/1 [00:00<?, ?it/s]"
      ]
     },
     "metadata": {},
     "output_type": "display_data"
    },
    {
     "data": {
      "application/vnd.jupyter.widget-view+json": {
       "model_id": "68b2e03adf8a4bd5b08d0bd5f7f7289d",
       "version_major": 2,
       "version_minor": 0
      },
      "text/plain": [
       "Batches:   0%|          | 0/1 [00:00<?, ?it/s]"
      ]
     },
     "metadata": {},
     "output_type": "display_data"
    },
    {
     "data": {
      "application/vnd.jupyter.widget-view+json": {
       "model_id": "58fe0dfc141840c0b16f85136c7429e5",
       "version_major": 2,
       "version_minor": 0
      },
      "text/plain": [
       "Batches:   0%|          | 0/1 [00:00<?, ?it/s]"
      ]
     },
     "metadata": {},
     "output_type": "display_data"
    },
    {
     "data": {
      "application/vnd.jupyter.widget-view+json": {
       "model_id": "a153685163b44dbf825d726f008998be",
       "version_major": 2,
       "version_minor": 0
      },
      "text/plain": [
       "Batches:   0%|          | 0/1 [00:00<?, ?it/s]"
      ]
     },
     "metadata": {},
     "output_type": "display_data"
    },
    {
     "data": {
      "application/vnd.jupyter.widget-view+json": {
       "model_id": "fea2aff4af204f45908f94f7a0118f8d",
       "version_major": 2,
       "version_minor": 0
      },
      "text/plain": [
       "Batches:   0%|          | 0/1 [00:00<?, ?it/s]"
      ]
     },
     "metadata": {},
     "output_type": "display_data"
    },
    {
     "data": {
      "application/vnd.jupyter.widget-view+json": {
       "model_id": "a05735e0b0fc48a685378466b73be3c5",
       "version_major": 2,
       "version_minor": 0
      },
      "text/plain": [
       "Batches:   0%|          | 0/1 [00:00<?, ?it/s]"
      ]
     },
     "metadata": {},
     "output_type": "display_data"
    },
    {
     "data": {
      "application/vnd.jupyter.widget-view+json": {
       "model_id": "f779e3ce3d424f4ab88e37dc2882644e",
       "version_major": 2,
       "version_minor": 0
      },
      "text/plain": [
       "Batches:   0%|          | 0/1 [00:00<?, ?it/s]"
      ]
     },
     "metadata": {},
     "output_type": "display_data"
    },
    {
     "data": {
      "application/vnd.jupyter.widget-view+json": {
       "model_id": "82cb27fbf8814e1ea4b85302cb804aa3",
       "version_major": 2,
       "version_minor": 0
      },
      "text/plain": [
       "Batches:   0%|          | 0/1 [00:00<?, ?it/s]"
      ]
     },
     "metadata": {},
     "output_type": "display_data"
    },
    {
     "data": {
      "application/vnd.jupyter.widget-view+json": {
       "model_id": "1a8b95b046cf461383d889be0307f9d1",
       "version_major": 2,
       "version_minor": 0
      },
      "text/plain": [
       "Batches:   0%|          | 0/1 [00:00<?, ?it/s]"
      ]
     },
     "metadata": {},
     "output_type": "display_data"
    },
    {
     "data": {
      "application/vnd.jupyter.widget-view+json": {
       "model_id": "d59850e762904b52b877889b2328fa06",
       "version_major": 2,
       "version_minor": 0
      },
      "text/plain": [
       "Batches:   0%|          | 0/1 [00:00<?, ?it/s]"
      ]
     },
     "metadata": {},
     "output_type": "display_data"
    },
    {
     "data": {
      "application/vnd.jupyter.widget-view+json": {
       "model_id": "1b354f301faa44c08e2843423bebd48d",
       "version_major": 2,
       "version_minor": 0
      },
      "text/plain": [
       "Batches:   0%|          | 0/1 [00:00<?, ?it/s]"
      ]
     },
     "metadata": {},
     "output_type": "display_data"
    },
    {
     "data": {
      "application/vnd.jupyter.widget-view+json": {
       "model_id": "43a2eddcec254c8ba2e5433f284c75b3",
       "version_major": 2,
       "version_minor": 0
      },
      "text/plain": [
       "Batches:   0%|          | 0/1 [00:00<?, ?it/s]"
      ]
     },
     "metadata": {},
     "output_type": "display_data"
    },
    {
     "data": {
      "application/vnd.jupyter.widget-view+json": {
       "model_id": "fb3bcc3814a54c8aaea6b04fe9653eae",
       "version_major": 2,
       "version_minor": 0
      },
      "text/plain": [
       "Batches:   0%|          | 0/1 [00:00<?, ?it/s]"
      ]
     },
     "metadata": {},
     "output_type": "display_data"
    },
    {
     "data": {
      "application/vnd.jupyter.widget-view+json": {
       "model_id": "ee959dfc764f4c6891f8b023a274cd3f",
       "version_major": 2,
       "version_minor": 0
      },
      "text/plain": [
       "Batches:   0%|          | 0/1 [00:00<?, ?it/s]"
      ]
     },
     "metadata": {},
     "output_type": "display_data"
    },
    {
     "data": {
      "application/vnd.jupyter.widget-view+json": {
       "model_id": "21de4f06c85b45baab03b0c2c74d4090",
       "version_major": 2,
       "version_minor": 0
      },
      "text/plain": [
       "Batches:   0%|          | 0/1 [00:00<?, ?it/s]"
      ]
     },
     "metadata": {},
     "output_type": "display_data"
    },
    {
     "data": {
      "application/vnd.jupyter.widget-view+json": {
       "model_id": "6cbdfe6f996b445ca1024fe1ef3d0d1b",
       "version_major": 2,
       "version_minor": 0
      },
      "text/plain": [
       "Batches:   0%|          | 0/1 [00:00<?, ?it/s]"
      ]
     },
     "metadata": {},
     "output_type": "display_data"
    },
    {
     "data": {
      "application/vnd.jupyter.widget-view+json": {
       "model_id": "ec05fdb06b6949818aa7663b0b8ad02e",
       "version_major": 2,
       "version_minor": 0
      },
      "text/plain": [
       "Batches:   0%|          | 0/1 [00:00<?, ?it/s]"
      ]
     },
     "metadata": {},
     "output_type": "display_data"
    },
    {
     "data": {
      "application/vnd.jupyter.widget-view+json": {
       "model_id": "21da12354a594697a22466b1aa7b3fac",
       "version_major": 2,
       "version_minor": 0
      },
      "text/plain": [
       "Batches:   0%|          | 0/1 [00:00<?, ?it/s]"
      ]
     },
     "metadata": {},
     "output_type": "display_data"
    },
    {
     "data": {
      "application/vnd.jupyter.widget-view+json": {
       "model_id": "81cc1ca24b2245d4944e0916a4948c23",
       "version_major": 2,
       "version_minor": 0
      },
      "text/plain": [
       "Batches:   0%|          | 0/1 [00:00<?, ?it/s]"
      ]
     },
     "metadata": {},
     "output_type": "display_data"
    },
    {
     "data": {
      "application/vnd.jupyter.widget-view+json": {
       "model_id": "29bc0d8e3d1241e08a376e29deb2c698",
       "version_major": 2,
       "version_minor": 0
      },
      "text/plain": [
       "Batches:   0%|          | 0/1 [00:00<?, ?it/s]"
      ]
     },
     "metadata": {},
     "output_type": "display_data"
    },
    {
     "data": {
      "application/vnd.jupyter.widget-view+json": {
       "model_id": "fdad7cc760b243bf83b79c256bf88107",
       "version_major": 2,
       "version_minor": 0
      },
      "text/plain": [
       "Batches:   0%|          | 0/1 [00:00<?, ?it/s]"
      ]
     },
     "metadata": {},
     "output_type": "display_data"
    },
    {
     "data": {
      "application/vnd.jupyter.widget-view+json": {
       "model_id": "261689aafe4e4cac99e45d7daab796d6",
       "version_major": 2,
       "version_minor": 0
      },
      "text/plain": [
       "Batches:   0%|          | 0/1 [00:00<?, ?it/s]"
      ]
     },
     "metadata": {},
     "output_type": "display_data"
    },
    {
     "data": {
      "application/vnd.jupyter.widget-view+json": {
       "model_id": "60c1df21e09043b29d09a31a8996090a",
       "version_major": 2,
       "version_minor": 0
      },
      "text/plain": [
       "Batches:   0%|          | 0/1 [00:00<?, ?it/s]"
      ]
     },
     "metadata": {},
     "output_type": "display_data"
    },
    {
     "data": {
      "application/vnd.jupyter.widget-view+json": {
       "model_id": "4cd4fe7ee21349679b853d0d223d4d81",
       "version_major": 2,
       "version_minor": 0
      },
      "text/plain": [
       "Batches:   0%|          | 0/1 [00:00<?, ?it/s]"
      ]
     },
     "metadata": {},
     "output_type": "display_data"
    },
    {
     "data": {
      "application/vnd.jupyter.widget-view+json": {
       "model_id": "fa53f5cadf424936b190bd430735f169",
       "version_major": 2,
       "version_minor": 0
      },
      "text/plain": [
       "Batches:   0%|          | 0/1 [00:00<?, ?it/s]"
      ]
     },
     "metadata": {},
     "output_type": "display_data"
    },
    {
     "data": {
      "application/vnd.jupyter.widget-view+json": {
       "model_id": "7f6e05c76ab341079a146390856a4ba5",
       "version_major": 2,
       "version_minor": 0
      },
      "text/plain": [
       "Batches:   0%|          | 0/1 [00:00<?, ?it/s]"
      ]
     },
     "metadata": {},
     "output_type": "display_data"
    },
    {
     "data": {
      "application/vnd.jupyter.widget-view+json": {
       "model_id": "255e47ec916a43408047eca2d7d3b35b",
       "version_major": 2,
       "version_minor": 0
      },
      "text/plain": [
       "Batches:   0%|          | 0/1 [00:00<?, ?it/s]"
      ]
     },
     "metadata": {},
     "output_type": "display_data"
    },
    {
     "data": {
      "application/vnd.jupyter.widget-view+json": {
       "model_id": "1807dfb2d10949e6abe9302498292b03",
       "version_major": 2,
       "version_minor": 0
      },
      "text/plain": [
       "Batches:   0%|          | 0/1 [00:00<?, ?it/s]"
      ]
     },
     "metadata": {},
     "output_type": "display_data"
    },
    {
     "data": {
      "application/vnd.jupyter.widget-view+json": {
       "model_id": "4b484dc109c54d2d8b135995619edfee",
       "version_major": 2,
       "version_minor": 0
      },
      "text/plain": [
       "Batches:   0%|          | 0/1 [00:00<?, ?it/s]"
      ]
     },
     "metadata": {},
     "output_type": "display_data"
    },
    {
     "data": {
      "application/vnd.jupyter.widget-view+json": {
       "model_id": "891f1ca5f02d40b6b1774561ab3a537c",
       "version_major": 2,
       "version_minor": 0
      },
      "text/plain": [
       "Batches:   0%|          | 0/1 [00:00<?, ?it/s]"
      ]
     },
     "metadata": {},
     "output_type": "display_data"
    },
    {
     "data": {
      "application/vnd.jupyter.widget-view+json": {
       "model_id": "351ef2f825cc46f5aa672795f6b563cc",
       "version_major": 2,
       "version_minor": 0
      },
      "text/plain": [
       "Batches:   0%|          | 0/1 [00:00<?, ?it/s]"
      ]
     },
     "metadata": {},
     "output_type": "display_data"
    },
    {
     "data": {
      "application/vnd.jupyter.widget-view+json": {
       "model_id": "27612c820f384cbf8807031a7bd159bd",
       "version_major": 2,
       "version_minor": 0
      },
      "text/plain": [
       "Batches:   0%|          | 0/1 [00:00<?, ?it/s]"
      ]
     },
     "metadata": {},
     "output_type": "display_data"
    },
    {
     "data": {
      "application/vnd.jupyter.widget-view+json": {
       "model_id": "8aa509032d7f4f15bf0f163b0b8e2304",
       "version_major": 2,
       "version_minor": 0
      },
      "text/plain": [
       "Batches:   0%|          | 0/1 [00:00<?, ?it/s]"
      ]
     },
     "metadata": {},
     "output_type": "display_data"
    },
    {
     "data": {
      "application/vnd.jupyter.widget-view+json": {
       "model_id": "1f97e6d3a6c541888c496d86961c5a01",
       "version_major": 2,
       "version_minor": 0
      },
      "text/plain": [
       "Batches:   0%|          | 0/1 [00:00<?, ?it/s]"
      ]
     },
     "metadata": {},
     "output_type": "display_data"
    },
    {
     "data": {
      "application/vnd.jupyter.widget-view+json": {
       "model_id": "a6a3ee5def1a436982d2eb33e3762986",
       "version_major": 2,
       "version_minor": 0
      },
      "text/plain": [
       "Batches:   0%|          | 0/1 [00:00<?, ?it/s]"
      ]
     },
     "metadata": {},
     "output_type": "display_data"
    },
    {
     "data": {
      "application/vnd.jupyter.widget-view+json": {
       "model_id": "a8fa1423dd49475985ab12887c6875de",
       "version_major": 2,
       "version_minor": 0
      },
      "text/plain": [
       "Batches:   0%|          | 0/1 [00:00<?, ?it/s]"
      ]
     },
     "metadata": {},
     "output_type": "display_data"
    },
    {
     "data": {
      "application/vnd.jupyter.widget-view+json": {
       "model_id": "7e5f97d54c8844188de4ed99fbb5e8ed",
       "version_major": 2,
       "version_minor": 0
      },
      "text/plain": [
       "Batches:   0%|          | 0/1 [00:00<?, ?it/s]"
      ]
     },
     "metadata": {},
     "output_type": "display_data"
    },
    {
     "data": {
      "application/vnd.jupyter.widget-view+json": {
       "model_id": "cec3bb686149441da7d9b56b0e3a101c",
       "version_major": 2,
       "version_minor": 0
      },
      "text/plain": [
       "Batches:   0%|          | 0/1 [00:00<?, ?it/s]"
      ]
     },
     "metadata": {},
     "output_type": "display_data"
    },
    {
     "data": {
      "application/vnd.jupyter.widget-view+json": {
       "model_id": "58c794fac19f45968ed11e32e2ff5e60",
       "version_major": 2,
       "version_minor": 0
      },
      "text/plain": [
       "Batches:   0%|          | 0/1 [00:00<?, ?it/s]"
      ]
     },
     "metadata": {},
     "output_type": "display_data"
    },
    {
     "data": {
      "application/vnd.jupyter.widget-view+json": {
       "model_id": "f726e695590b4f76ab8f853279962ad5",
       "version_major": 2,
       "version_minor": 0
      },
      "text/plain": [
       "Batches:   0%|          | 0/1 [00:00<?, ?it/s]"
      ]
     },
     "metadata": {},
     "output_type": "display_data"
    },
    {
     "data": {
      "application/vnd.jupyter.widget-view+json": {
       "model_id": "3b36492371fb495dafa13ed13347771b",
       "version_major": 2,
       "version_minor": 0
      },
      "text/plain": [
       "Batches:   0%|          | 0/1 [00:00<?, ?it/s]"
      ]
     },
     "metadata": {},
     "output_type": "display_data"
    },
    {
     "data": {
      "application/vnd.jupyter.widget-view+json": {
       "model_id": "6a0946c94f8649e6bd5960f1a58559a0",
       "version_major": 2,
       "version_minor": 0
      },
      "text/plain": [
       "Batches:   0%|          | 0/1 [00:00<?, ?it/s]"
      ]
     },
     "metadata": {},
     "output_type": "display_data"
    },
    {
     "data": {
      "application/vnd.jupyter.widget-view+json": {
       "model_id": "39663d0f377848f18f28380bc1a50a8a",
       "version_major": 2,
       "version_minor": 0
      },
      "text/plain": [
       "Batches:   0%|          | 0/1 [00:00<?, ?it/s]"
      ]
     },
     "metadata": {},
     "output_type": "display_data"
    },
    {
     "data": {
      "application/vnd.jupyter.widget-view+json": {
       "model_id": "06136df73f9b4c6aa3c981537998f0eb",
       "version_major": 2,
       "version_minor": 0
      },
      "text/plain": [
       "Batches:   0%|          | 0/1 [00:00<?, ?it/s]"
      ]
     },
     "metadata": {},
     "output_type": "display_data"
    },
    {
     "data": {
      "application/vnd.jupyter.widget-view+json": {
       "model_id": "d48e859a46f94d408377c65600478009",
       "version_major": 2,
       "version_minor": 0
      },
      "text/plain": [
       "Batches:   0%|          | 0/1 [00:00<?, ?it/s]"
      ]
     },
     "metadata": {},
     "output_type": "display_data"
    },
    {
     "data": {
      "application/vnd.jupyter.widget-view+json": {
       "model_id": "2eee776bc9804d9cacffaad69c8a6a0d",
       "version_major": 2,
       "version_minor": 0
      },
      "text/plain": [
       "Batches:   0%|          | 0/1 [00:00<?, ?it/s]"
      ]
     },
     "metadata": {},
     "output_type": "display_data"
    },
    {
     "data": {
      "application/vnd.jupyter.widget-view+json": {
       "model_id": "698c118b8e414f7c9c57a73640d90292",
       "version_major": 2,
       "version_minor": 0
      },
      "text/plain": [
       "Batches:   0%|          | 0/1 [00:00<?, ?it/s]"
      ]
     },
     "metadata": {},
     "output_type": "display_data"
    },
    {
     "data": {
      "application/vnd.jupyter.widget-view+json": {
       "model_id": "abe6d22152c04c62be2993a33e83b9e9",
       "version_major": 2,
       "version_minor": 0
      },
      "text/plain": [
       "Batches:   0%|          | 0/1 [00:00<?, ?it/s]"
      ]
     },
     "metadata": {},
     "output_type": "display_data"
    },
    {
     "data": {
      "application/vnd.jupyter.widget-view+json": {
       "model_id": "ea529d9010e44796808a2fb765c5e52b",
       "version_major": 2,
       "version_minor": 0
      },
      "text/plain": [
       "Batches:   0%|          | 0/1 [00:00<?, ?it/s]"
      ]
     },
     "metadata": {},
     "output_type": "display_data"
    },
    {
     "data": {
      "application/vnd.jupyter.widget-view+json": {
       "model_id": "731aedb339404de7ae98d838b88c2225",
       "version_major": 2,
       "version_minor": 0
      },
      "text/plain": [
       "Batches:   0%|          | 0/1 [00:00<?, ?it/s]"
      ]
     },
     "metadata": {},
     "output_type": "display_data"
    },
    {
     "data": {
      "application/vnd.jupyter.widget-view+json": {
       "model_id": "ab8a723e7eb6499989ec15e3812cd98f",
       "version_major": 2,
       "version_minor": 0
      },
      "text/plain": [
       "Batches:   0%|          | 0/1 [00:00<?, ?it/s]"
      ]
     },
     "metadata": {},
     "output_type": "display_data"
    },
    {
     "data": {
      "application/vnd.jupyter.widget-view+json": {
       "model_id": "3e4f61f798c9499aa2f001aee1a5b67f",
       "version_major": 2,
       "version_minor": 0
      },
      "text/plain": [
       "Batches:   0%|          | 0/1 [00:00<?, ?it/s]"
      ]
     },
     "metadata": {},
     "output_type": "display_data"
    },
    {
     "data": {
      "application/vnd.jupyter.widget-view+json": {
       "model_id": "35a1553aedeb4a3895ad15dc7483d12a",
       "version_major": 2,
       "version_minor": 0
      },
      "text/plain": [
       "Batches:   0%|          | 0/1 [00:00<?, ?it/s]"
      ]
     },
     "metadata": {},
     "output_type": "display_data"
    },
    {
     "data": {
      "application/vnd.jupyter.widget-view+json": {
       "model_id": "df941ecacfe1481daeb12979d5b357db",
       "version_major": 2,
       "version_minor": 0
      },
      "text/plain": [
       "Batches:   0%|          | 0/1 [00:00<?, ?it/s]"
      ]
     },
     "metadata": {},
     "output_type": "display_data"
    },
    {
     "data": {
      "application/vnd.jupyter.widget-view+json": {
       "model_id": "d3ef5f97e17a47a2bc6948458ff311dc",
       "version_major": 2,
       "version_minor": 0
      },
      "text/plain": [
       "Batches:   0%|          | 0/1 [00:00<?, ?it/s]"
      ]
     },
     "metadata": {},
     "output_type": "display_data"
    },
    {
     "data": {
      "application/vnd.jupyter.widget-view+json": {
       "model_id": "4eca1498f2594e3b9769e9e400ca9e64",
       "version_major": 2,
       "version_minor": 0
      },
      "text/plain": [
       "Batches:   0%|          | 0/1 [00:00<?, ?it/s]"
      ]
     },
     "metadata": {},
     "output_type": "display_data"
    },
    {
     "data": {
      "application/vnd.jupyter.widget-view+json": {
       "model_id": "ea07b11e379c4e148242b58b7d634d94",
       "version_major": 2,
       "version_minor": 0
      },
      "text/plain": [
       "Batches:   0%|          | 0/1 [00:00<?, ?it/s]"
      ]
     },
     "metadata": {},
     "output_type": "display_data"
    },
    {
     "data": {
      "application/vnd.jupyter.widget-view+json": {
       "model_id": "7afc6fa1650b49b38e6a18dc1c80edbf",
       "version_major": 2,
       "version_minor": 0
      },
      "text/plain": [
       "Batches:   0%|          | 0/1 [00:00<?, ?it/s]"
      ]
     },
     "metadata": {},
     "output_type": "display_data"
    },
    {
     "data": {
      "application/vnd.jupyter.widget-view+json": {
       "model_id": "78946d76ae3f47e5ae421cac6d2d7528",
       "version_major": 2,
       "version_minor": 0
      },
      "text/plain": [
       "Batches:   0%|          | 0/1 [00:00<?, ?it/s]"
      ]
     },
     "metadata": {},
     "output_type": "display_data"
    },
    {
     "data": {
      "application/vnd.jupyter.widget-view+json": {
       "model_id": "8e07197775a94d5489a72aefb69dc142",
       "version_major": 2,
       "version_minor": 0
      },
      "text/plain": [
       "Batches:   0%|          | 0/1 [00:00<?, ?it/s]"
      ]
     },
     "metadata": {},
     "output_type": "display_data"
    },
    {
     "data": {
      "application/vnd.jupyter.widget-view+json": {
       "model_id": "08ff44ae058f425b80f259b080461b9d",
       "version_major": 2,
       "version_minor": 0
      },
      "text/plain": [
       "Batches:   0%|          | 0/1 [00:00<?, ?it/s]"
      ]
     },
     "metadata": {},
     "output_type": "display_data"
    },
    {
     "data": {
      "application/vnd.jupyter.widget-view+json": {
       "model_id": "999b5ecdb0fd47999205aa3d9ad7dbbc",
       "version_major": 2,
       "version_minor": 0
      },
      "text/plain": [
       "Batches:   0%|          | 0/1 [00:00<?, ?it/s]"
      ]
     },
     "metadata": {},
     "output_type": "display_data"
    },
    {
     "data": {
      "application/vnd.jupyter.widget-view+json": {
       "model_id": "3077fff0eaf14539947dd054e2e50544",
       "version_major": 2,
       "version_minor": 0
      },
      "text/plain": [
       "Batches:   0%|          | 0/1 [00:00<?, ?it/s]"
      ]
     },
     "metadata": {},
     "output_type": "display_data"
    },
    {
     "data": {
      "application/vnd.jupyter.widget-view+json": {
       "model_id": "64aacad4c5ef46a08f729c940d448bee",
       "version_major": 2,
       "version_minor": 0
      },
      "text/plain": [
       "Batches:   0%|          | 0/1 [00:00<?, ?it/s]"
      ]
     },
     "metadata": {},
     "output_type": "display_data"
    },
    {
     "data": {
      "application/vnd.jupyter.widget-view+json": {
       "model_id": "2aa6929c53304ef4af3c37a0eb1cedd2",
       "version_major": 2,
       "version_minor": 0
      },
      "text/plain": [
       "Batches:   0%|          | 0/1 [00:00<?, ?it/s]"
      ]
     },
     "metadata": {},
     "output_type": "display_data"
    },
    {
     "data": {
      "application/vnd.jupyter.widget-view+json": {
       "model_id": "ba7ce47dc69147eeae1d74acde095da8",
       "version_major": 2,
       "version_minor": 0
      },
      "text/plain": [
       "Batches:   0%|          | 0/1 [00:00<?, ?it/s]"
      ]
     },
     "metadata": {},
     "output_type": "display_data"
    },
    {
     "data": {
      "application/vnd.jupyter.widget-view+json": {
       "model_id": "a4f6751fe1944f9c8c6bbe4e297a04db",
       "version_major": 2,
       "version_minor": 0
      },
      "text/plain": [
       "Batches:   0%|          | 0/1 [00:00<?, ?it/s]"
      ]
     },
     "metadata": {},
     "output_type": "display_data"
    },
    {
     "data": {
      "application/vnd.jupyter.widget-view+json": {
       "model_id": "0f061da0de584f0f8382f7d3d679d9a0",
       "version_major": 2,
       "version_minor": 0
      },
      "text/plain": [
       "Batches:   0%|          | 0/1 [00:00<?, ?it/s]"
      ]
     },
     "metadata": {},
     "output_type": "display_data"
    },
    {
     "data": {
      "application/vnd.jupyter.widget-view+json": {
       "model_id": "ee9dbaddae3a449c8b2a144b13b7c414",
       "version_major": 2,
       "version_minor": 0
      },
      "text/plain": [
       "Batches:   0%|          | 0/1 [00:00<?, ?it/s]"
      ]
     },
     "metadata": {},
     "output_type": "display_data"
    },
    {
     "data": {
      "application/vnd.jupyter.widget-view+json": {
       "model_id": "ab63d23cf51c409f92afacd83dfdcdd7",
       "version_major": 2,
       "version_minor": 0
      },
      "text/plain": [
       "Batches:   0%|          | 0/1 [00:00<?, ?it/s]"
      ]
     },
     "metadata": {},
     "output_type": "display_data"
    },
    {
     "data": {
      "application/vnd.jupyter.widget-view+json": {
       "model_id": "65fdce751f684a01b125a7f3b9ce75ea",
       "version_major": 2,
       "version_minor": 0
      },
      "text/plain": [
       "Batches:   0%|          | 0/1 [00:00<?, ?it/s]"
      ]
     },
     "metadata": {},
     "output_type": "display_data"
    },
    {
     "data": {
      "application/vnd.jupyter.widget-view+json": {
       "model_id": "5f83bb384aa947838584e8b3c71f90e6",
       "version_major": 2,
       "version_minor": 0
      },
      "text/plain": [
       "Batches:   0%|          | 0/1 [00:00<?, ?it/s]"
      ]
     },
     "metadata": {},
     "output_type": "display_data"
    },
    {
     "data": {
      "application/vnd.jupyter.widget-view+json": {
       "model_id": "377004849adf44bf81c639b005d841d9",
       "version_major": 2,
       "version_minor": 0
      },
      "text/plain": [
       "Batches:   0%|          | 0/1 [00:00<?, ?it/s]"
      ]
     },
     "metadata": {},
     "output_type": "display_data"
    },
    {
     "data": {
      "application/vnd.jupyter.widget-view+json": {
       "model_id": "3afd635efab141149e84f81bd2b7c714",
       "version_major": 2,
       "version_minor": 0
      },
      "text/plain": [
       "Batches:   0%|          | 0/1 [00:00<?, ?it/s]"
      ]
     },
     "metadata": {},
     "output_type": "display_data"
    },
    {
     "data": {
      "application/vnd.jupyter.widget-view+json": {
       "model_id": "3f3a7c7901e14c0ab746afdbb4db80d8",
       "version_major": 2,
       "version_minor": 0
      },
      "text/plain": [
       "Batches:   0%|          | 0/1 [00:00<?, ?it/s]"
      ]
     },
     "metadata": {},
     "output_type": "display_data"
    },
    {
     "data": {
      "application/vnd.jupyter.widget-view+json": {
       "model_id": "14b1b889146649de97bc277faf629de8",
       "version_major": 2,
       "version_minor": 0
      },
      "text/plain": [
       "Batches:   0%|          | 0/1 [00:00<?, ?it/s]"
      ]
     },
     "metadata": {},
     "output_type": "display_data"
    },
    {
     "data": {
      "application/vnd.jupyter.widget-view+json": {
       "model_id": "fe07c95d63214c4db8abe77a501736a8",
       "version_major": 2,
       "version_minor": 0
      },
      "text/plain": [
       "Batches:   0%|          | 0/1 [00:00<?, ?it/s]"
      ]
     },
     "metadata": {},
     "output_type": "display_data"
    },
    {
     "data": {
      "application/vnd.jupyter.widget-view+json": {
       "model_id": "71abd0109fae4e0d993b968064ea3fc0",
       "version_major": 2,
       "version_minor": 0
      },
      "text/plain": [
       "Batches:   0%|          | 0/1 [00:00<?, ?it/s]"
      ]
     },
     "metadata": {},
     "output_type": "display_data"
    },
    {
     "data": {
      "application/vnd.jupyter.widget-view+json": {
       "model_id": "71bf1098e194486381f4eb1e1a8b8a24",
       "version_major": 2,
       "version_minor": 0
      },
      "text/plain": [
       "Batches:   0%|          | 0/1 [00:00<?, ?it/s]"
      ]
     },
     "metadata": {},
     "output_type": "display_data"
    },
    {
     "data": {
      "application/vnd.jupyter.widget-view+json": {
       "model_id": "2b72b3865d544742b974275a05d93fbd",
       "version_major": 2,
       "version_minor": 0
      },
      "text/plain": [
       "Batches:   0%|          | 0/1 [00:00<?, ?it/s]"
      ]
     },
     "metadata": {},
     "output_type": "display_data"
    },
    {
     "data": {
      "application/vnd.jupyter.widget-view+json": {
       "model_id": "1c749207e43c4e388b365d2f7ae5de87",
       "version_major": 2,
       "version_minor": 0
      },
      "text/plain": [
       "Batches:   0%|          | 0/1 [00:00<?, ?it/s]"
      ]
     },
     "metadata": {},
     "output_type": "display_data"
    },
    {
     "data": {
      "application/vnd.jupyter.widget-view+json": {
       "model_id": "4fd3d6daf1aa436dbd7d211c073a7ffd",
       "version_major": 2,
       "version_minor": 0
      },
      "text/plain": [
       "Batches:   0%|          | 0/1 [00:00<?, ?it/s]"
      ]
     },
     "metadata": {},
     "output_type": "display_data"
    },
    {
     "data": {
      "application/vnd.jupyter.widget-view+json": {
       "model_id": "a8b7789449c142e18c0ccb820de72a6c",
       "version_major": 2,
       "version_minor": 0
      },
      "text/plain": [
       "Batches:   0%|          | 0/1 [00:00<?, ?it/s]"
      ]
     },
     "metadata": {},
     "output_type": "display_data"
    },
    {
     "data": {
      "application/vnd.jupyter.widget-view+json": {
       "model_id": "5d564420e57d4fd49328239774126055",
       "version_major": 2,
       "version_minor": 0
      },
      "text/plain": [
       "Batches:   0%|          | 0/1 [00:00<?, ?it/s]"
      ]
     },
     "metadata": {},
     "output_type": "display_data"
    },
    {
     "data": {
      "application/vnd.jupyter.widget-view+json": {
       "model_id": "eeae457d69f744339d42454e1041b722",
       "version_major": 2,
       "version_minor": 0
      },
      "text/plain": [
       "Batches:   0%|          | 0/1 [00:00<?, ?it/s]"
      ]
     },
     "metadata": {},
     "output_type": "display_data"
    },
    {
     "data": {
      "application/vnd.jupyter.widget-view+json": {
       "model_id": "ed4bfb2ebf1a4857b3fb79169561b046",
       "version_major": 2,
       "version_minor": 0
      },
      "text/plain": [
       "Batches:   0%|          | 0/1 [00:00<?, ?it/s]"
      ]
     },
     "metadata": {},
     "output_type": "display_data"
    },
    {
     "data": {
      "application/vnd.jupyter.widget-view+json": {
       "model_id": "bede212bdb274ddcbf235a86fa598e1a",
       "version_major": 2,
       "version_minor": 0
      },
      "text/plain": [
       "Batches:   0%|          | 0/1 [00:00<?, ?it/s]"
      ]
     },
     "metadata": {},
     "output_type": "display_data"
    },
    {
     "data": {
      "application/vnd.jupyter.widget-view+json": {
       "model_id": "d7d21df16a6e43128ffb211f04791fd4",
       "version_major": 2,
       "version_minor": 0
      },
      "text/plain": [
       "Batches:   0%|          | 0/1 [00:00<?, ?it/s]"
      ]
     },
     "metadata": {},
     "output_type": "display_data"
    },
    {
     "data": {
      "application/vnd.jupyter.widget-view+json": {
       "model_id": "9fa8d91a84f64820b5e1136d6e43f84e",
       "version_major": 2,
       "version_minor": 0
      },
      "text/plain": [
       "Batches:   0%|          | 0/1 [00:00<?, ?it/s]"
      ]
     },
     "metadata": {},
     "output_type": "display_data"
    },
    {
     "data": {
      "application/vnd.jupyter.widget-view+json": {
       "model_id": "dcea154c43b141b389573b8a38ced15c",
       "version_major": 2,
       "version_minor": 0
      },
      "text/plain": [
       "Batches:   0%|          | 0/1 [00:00<?, ?it/s]"
      ]
     },
     "metadata": {},
     "output_type": "display_data"
    },
    {
     "data": {
      "application/vnd.jupyter.widget-view+json": {
       "model_id": "a8760a3de7a84d168b8b18985db49a99",
       "version_major": 2,
       "version_minor": 0
      },
      "text/plain": [
       "Batches:   0%|          | 0/1 [00:00<?, ?it/s]"
      ]
     },
     "metadata": {},
     "output_type": "display_data"
    },
    {
     "data": {
      "application/vnd.jupyter.widget-view+json": {
       "model_id": "7073108f70d645a1932d4cded9eeb397",
       "version_major": 2,
       "version_minor": 0
      },
      "text/plain": [
       "Batches:   0%|          | 0/1 [00:00<?, ?it/s]"
      ]
     },
     "metadata": {},
     "output_type": "display_data"
    },
    {
     "data": {
      "application/vnd.jupyter.widget-view+json": {
       "model_id": "152d6edf66bb4bc58ad33daf06c02625",
       "version_major": 2,
       "version_minor": 0
      },
      "text/plain": [
       "Batches:   0%|          | 0/1 [00:00<?, ?it/s]"
      ]
     },
     "metadata": {},
     "output_type": "display_data"
    },
    {
     "data": {
      "application/vnd.jupyter.widget-view+json": {
       "model_id": "276c4f42166b43a59aff9fb3d7f980a7",
       "version_major": 2,
       "version_minor": 0
      },
      "text/plain": [
       "Batches:   0%|          | 0/1 [00:00<?, ?it/s]"
      ]
     },
     "metadata": {},
     "output_type": "display_data"
    },
    {
     "data": {
      "application/vnd.jupyter.widget-view+json": {
       "model_id": "37f9d11109f648d1b7614b36ea9dfc69",
       "version_major": 2,
       "version_minor": 0
      },
      "text/plain": [
       "Batches:   0%|          | 0/1 [00:00<?, ?it/s]"
      ]
     },
     "metadata": {},
     "output_type": "display_data"
    },
    {
     "data": {
      "application/vnd.jupyter.widget-view+json": {
       "model_id": "142d2bee7069464888a23531fc76f772",
       "version_major": 2,
       "version_minor": 0
      },
      "text/plain": [
       "Batches:   0%|          | 0/1 [00:00<?, ?it/s]"
      ]
     },
     "metadata": {},
     "output_type": "display_data"
    },
    {
     "data": {
      "application/vnd.jupyter.widget-view+json": {
       "model_id": "e1f2774e04a44ce7995d3082c5aed104",
       "version_major": 2,
       "version_minor": 0
      },
      "text/plain": [
       "Batches:   0%|          | 0/1 [00:00<?, ?it/s]"
      ]
     },
     "metadata": {},
     "output_type": "display_data"
    },
    {
     "data": {
      "application/vnd.jupyter.widget-view+json": {
       "model_id": "80555a9b441447bb9baf14f41a258005",
       "version_major": 2,
       "version_minor": 0
      },
      "text/plain": [
       "Batches:   0%|          | 0/1 [00:00<?, ?it/s]"
      ]
     },
     "metadata": {},
     "output_type": "display_data"
    },
    {
     "data": {
      "application/vnd.jupyter.widget-view+json": {
       "model_id": "9f0df78476f1496da5d4d268ad880e2f",
       "version_major": 2,
       "version_minor": 0
      },
      "text/plain": [
       "Batches:   0%|          | 0/1 [00:00<?, ?it/s]"
      ]
     },
     "metadata": {},
     "output_type": "display_data"
    },
    {
     "data": {
      "application/vnd.jupyter.widget-view+json": {
       "model_id": "f78f4dd2fd344247ae4a321f80a5aaad",
       "version_major": 2,
       "version_minor": 0
      },
      "text/plain": [
       "Batches:   0%|          | 0/1 [00:00<?, ?it/s]"
      ]
     },
     "metadata": {},
     "output_type": "display_data"
    },
    {
     "data": {
      "application/vnd.jupyter.widget-view+json": {
       "model_id": "e098759debf64254aa9681d40fbfd36e",
       "version_major": 2,
       "version_minor": 0
      },
      "text/plain": [
       "Batches:   0%|          | 0/1 [00:00<?, ?it/s]"
      ]
     },
     "metadata": {},
     "output_type": "display_data"
    },
    {
     "data": {
      "application/vnd.jupyter.widget-view+json": {
       "model_id": "cc591b41243848739de3594e0338e796",
       "version_major": 2,
       "version_minor": 0
      },
      "text/plain": [
       "Batches:   0%|          | 0/1 [00:00<?, ?it/s]"
      ]
     },
     "metadata": {},
     "output_type": "display_data"
    },
    {
     "data": {
      "application/vnd.jupyter.widget-view+json": {
       "model_id": "0833233cf3b642a787398a6ad7c65b20",
       "version_major": 2,
       "version_minor": 0
      },
      "text/plain": [
       "Batches:   0%|          | 0/1 [00:00<?, ?it/s]"
      ]
     },
     "metadata": {},
     "output_type": "display_data"
    },
    {
     "data": {
      "application/vnd.jupyter.widget-view+json": {
       "model_id": "6dc70a72ba3e4af486558421b3693375",
       "version_major": 2,
       "version_minor": 0
      },
      "text/plain": [
       "Batches:   0%|          | 0/1 [00:00<?, ?it/s]"
      ]
     },
     "metadata": {},
     "output_type": "display_data"
    },
    {
     "data": {
      "application/vnd.jupyter.widget-view+json": {
       "model_id": "1df03178d31f477fa8f4f4d093ea6f93",
       "version_major": 2,
       "version_minor": 0
      },
      "text/plain": [
       "Batches:   0%|          | 0/1 [00:00<?, ?it/s]"
      ]
     },
     "metadata": {},
     "output_type": "display_data"
    },
    {
     "data": {
      "application/vnd.jupyter.widget-view+json": {
       "model_id": "09d9002a87d14517ad7671a618f1dbae",
       "version_major": 2,
       "version_minor": 0
      },
      "text/plain": [
       "Batches:   0%|          | 0/1 [00:00<?, ?it/s]"
      ]
     },
     "metadata": {},
     "output_type": "display_data"
    },
    {
     "data": {
      "application/vnd.jupyter.widget-view+json": {
       "model_id": "6dbf54424da04d0e889331534e6b2e09",
       "version_major": 2,
       "version_minor": 0
      },
      "text/plain": [
       "Batches:   0%|          | 0/1 [00:00<?, ?it/s]"
      ]
     },
     "metadata": {},
     "output_type": "display_data"
    },
    {
     "data": {
      "application/vnd.jupyter.widget-view+json": {
       "model_id": "4dda068f5594466fb737ac6334669be5",
       "version_major": 2,
       "version_minor": 0
      },
      "text/plain": [
       "Batches:   0%|          | 0/1 [00:00<?, ?it/s]"
      ]
     },
     "metadata": {},
     "output_type": "display_data"
    },
    {
     "data": {
      "application/vnd.jupyter.widget-view+json": {
       "model_id": "969d5bffcd014e4785cf5f50b494df9e",
       "version_major": 2,
       "version_minor": 0
      },
      "text/plain": [
       "Batches:   0%|          | 0/1 [00:00<?, ?it/s]"
      ]
     },
     "metadata": {},
     "output_type": "display_data"
    },
    {
     "data": {
      "application/vnd.jupyter.widget-view+json": {
       "model_id": "98bb330033844be7ac08ac93d7529e4f",
       "version_major": 2,
       "version_minor": 0
      },
      "text/plain": [
       "Batches:   0%|          | 0/1 [00:00<?, ?it/s]"
      ]
     },
     "metadata": {},
     "output_type": "display_data"
    },
    {
     "data": {
      "application/vnd.jupyter.widget-view+json": {
       "model_id": "db5f326015314858aee5426517771b26",
       "version_major": 2,
       "version_minor": 0
      },
      "text/plain": [
       "Batches:   0%|          | 0/1 [00:00<?, ?it/s]"
      ]
     },
     "metadata": {},
     "output_type": "display_data"
    },
    {
     "data": {
      "application/vnd.jupyter.widget-view+json": {
       "model_id": "a9647d8b31c240c0baaea7e96a3ca23a",
       "version_major": 2,
       "version_minor": 0
      },
      "text/plain": [
       "Batches:   0%|          | 0/1 [00:00<?, ?it/s]"
      ]
     },
     "metadata": {},
     "output_type": "display_data"
    },
    {
     "data": {
      "application/vnd.jupyter.widget-view+json": {
       "model_id": "c10f720aaede460d9d45ed07053301e7",
       "version_major": 2,
       "version_minor": 0
      },
      "text/plain": [
       "Batches:   0%|          | 0/1 [00:00<?, ?it/s]"
      ]
     },
     "metadata": {},
     "output_type": "display_data"
    },
    {
     "data": {
      "application/vnd.jupyter.widget-view+json": {
       "model_id": "f12c964c998548c7bd1ca95007790c18",
       "version_major": 2,
       "version_minor": 0
      },
      "text/plain": [
       "Batches:   0%|          | 0/1 [00:00<?, ?it/s]"
      ]
     },
     "metadata": {},
     "output_type": "display_data"
    },
    {
     "data": {
      "application/vnd.jupyter.widget-view+json": {
       "model_id": "9cbe047cbe614ef595e649b0fe4e1fb1",
       "version_major": 2,
       "version_minor": 0
      },
      "text/plain": [
       "Batches:   0%|          | 0/1 [00:00<?, ?it/s]"
      ]
     },
     "metadata": {},
     "output_type": "display_data"
    },
    {
     "data": {
      "application/vnd.jupyter.widget-view+json": {
       "model_id": "6da0860a254d414499bcb2797361aa6b",
       "version_major": 2,
       "version_minor": 0
      },
      "text/plain": [
       "Batches:   0%|          | 0/1 [00:00<?, ?it/s]"
      ]
     },
     "metadata": {},
     "output_type": "display_data"
    },
    {
     "data": {
      "application/vnd.jupyter.widget-view+json": {
       "model_id": "4de980d726ff498cbc4bf1b815ba600b",
       "version_major": 2,
       "version_minor": 0
      },
      "text/plain": [
       "Batches:   0%|          | 0/1 [00:00<?, ?it/s]"
      ]
     },
     "metadata": {},
     "output_type": "display_data"
    },
    {
     "data": {
      "application/vnd.jupyter.widget-view+json": {
       "model_id": "7f5c11537e2047058ffdae1e5db8b904",
       "version_major": 2,
       "version_minor": 0
      },
      "text/plain": [
       "Batches:   0%|          | 0/1 [00:00<?, ?it/s]"
      ]
     },
     "metadata": {},
     "output_type": "display_data"
    },
    {
     "data": {
      "application/vnd.jupyter.widget-view+json": {
       "model_id": "cba5b1e8f23946e5b27146e31a65ba11",
       "version_major": 2,
       "version_minor": 0
      },
      "text/plain": [
       "Batches:   0%|          | 0/1 [00:00<?, ?it/s]"
      ]
     },
     "metadata": {},
     "output_type": "display_data"
    },
    {
     "data": {
      "application/vnd.jupyter.widget-view+json": {
       "model_id": "0766e3587067457e8c76d2a98273e904",
       "version_major": 2,
       "version_minor": 0
      },
      "text/plain": [
       "Batches:   0%|          | 0/1 [00:00<?, ?it/s]"
      ]
     },
     "metadata": {},
     "output_type": "display_data"
    },
    {
     "data": {
      "application/vnd.jupyter.widget-view+json": {
       "model_id": "61db11ccb6434634ab92214b4d2817e6",
       "version_major": 2,
       "version_minor": 0
      },
      "text/plain": [
       "Batches:   0%|          | 0/1 [00:00<?, ?it/s]"
      ]
     },
     "metadata": {},
     "output_type": "display_data"
    },
    {
     "data": {
      "application/vnd.jupyter.widget-view+json": {
       "model_id": "c26014f661a541b6baeb9767e95e1747",
       "version_major": 2,
       "version_minor": 0
      },
      "text/plain": [
       "Batches:   0%|          | 0/1 [00:00<?, ?it/s]"
      ]
     },
     "metadata": {},
     "output_type": "display_data"
    },
    {
     "data": {
      "application/vnd.jupyter.widget-view+json": {
       "model_id": "9679c95c48dc4252988e8ff3d522a124",
       "version_major": 2,
       "version_minor": 0
      },
      "text/plain": [
       "Batches:   0%|          | 0/1 [00:00<?, ?it/s]"
      ]
     },
     "metadata": {},
     "output_type": "display_data"
    },
    {
     "data": {
      "application/vnd.jupyter.widget-view+json": {
       "model_id": "cc17b2ae9dc44dabbc85cf8c35b6a9c1",
       "version_major": 2,
       "version_minor": 0
      },
      "text/plain": [
       "Batches:   0%|          | 0/1 [00:00<?, ?it/s]"
      ]
     },
     "metadata": {},
     "output_type": "display_data"
    },
    {
     "data": {
      "application/vnd.jupyter.widget-view+json": {
       "model_id": "205cda73d2824e06b6b5f9b8d29fc620",
       "version_major": 2,
       "version_minor": 0
      },
      "text/plain": [
       "Batches:   0%|          | 0/1 [00:00<?, ?it/s]"
      ]
     },
     "metadata": {},
     "output_type": "display_data"
    },
    {
     "data": {
      "application/vnd.jupyter.widget-view+json": {
       "model_id": "9163e38fbd1545c5b88b27d32c9b242a",
       "version_major": 2,
       "version_minor": 0
      },
      "text/plain": [
       "Batches:   0%|          | 0/1 [00:00<?, ?it/s]"
      ]
     },
     "metadata": {},
     "output_type": "display_data"
    },
    {
     "data": {
      "application/vnd.jupyter.widget-view+json": {
       "model_id": "2e7578758d504df6b5f0a1571363116a",
       "version_major": 2,
       "version_minor": 0
      },
      "text/plain": [
       "Batches:   0%|          | 0/1 [00:00<?, ?it/s]"
      ]
     },
     "metadata": {},
     "output_type": "display_data"
    },
    {
     "data": {
      "application/vnd.jupyter.widget-view+json": {
       "model_id": "35383fb6946148558fa5f65fd7990cf9",
       "version_major": 2,
       "version_minor": 0
      },
      "text/plain": [
       "Batches:   0%|          | 0/1 [00:00<?, ?it/s]"
      ]
     },
     "metadata": {},
     "output_type": "display_data"
    },
    {
     "data": {
      "application/vnd.jupyter.widget-view+json": {
       "model_id": "d2c73f0e46104578b3569636cd1c7c6c",
       "version_major": 2,
       "version_minor": 0
      },
      "text/plain": [
       "Batches:   0%|          | 0/1 [00:00<?, ?it/s]"
      ]
     },
     "metadata": {},
     "output_type": "display_data"
    },
    {
     "data": {
      "application/vnd.jupyter.widget-view+json": {
       "model_id": "0bb79337355740c2a555e8f9d033da68",
       "version_major": 2,
       "version_minor": 0
      },
      "text/plain": [
       "Batches:   0%|          | 0/1 [00:00<?, ?it/s]"
      ]
     },
     "metadata": {},
     "output_type": "display_data"
    },
    {
     "data": {
      "application/vnd.jupyter.widget-view+json": {
       "model_id": "c7569c2f0d5a4c9b81569c58f4ad3dfe",
       "version_major": 2,
       "version_minor": 0
      },
      "text/plain": [
       "Batches:   0%|          | 0/1 [00:00<?, ?it/s]"
      ]
     },
     "metadata": {},
     "output_type": "display_data"
    },
    {
     "data": {
      "application/vnd.jupyter.widget-view+json": {
       "model_id": "e67c2b233c74401faa14d8a135dfe88a",
       "version_major": 2,
       "version_minor": 0
      },
      "text/plain": [
       "Batches:   0%|          | 0/1 [00:00<?, ?it/s]"
      ]
     },
     "metadata": {},
     "output_type": "display_data"
    },
    {
     "data": {
      "application/vnd.jupyter.widget-view+json": {
       "model_id": "405949b2e7fd47138edcad9e224dbb24",
       "version_major": 2,
       "version_minor": 0
      },
      "text/plain": [
       "Batches:   0%|          | 0/1 [00:00<?, ?it/s]"
      ]
     },
     "metadata": {},
     "output_type": "display_data"
    },
    {
     "data": {
      "application/vnd.jupyter.widget-view+json": {
       "model_id": "8a68a8c4471d427a910b423edaeb6ff9",
       "version_major": 2,
       "version_minor": 0
      },
      "text/plain": [
       "Batches:   0%|          | 0/1 [00:00<?, ?it/s]"
      ]
     },
     "metadata": {},
     "output_type": "display_data"
    },
    {
     "data": {
      "application/vnd.jupyter.widget-view+json": {
       "model_id": "950b2185671243e3b111dcdeb3d8f67e",
       "version_major": 2,
       "version_minor": 0
      },
      "text/plain": [
       "Batches:   0%|          | 0/1 [00:00<?, ?it/s]"
      ]
     },
     "metadata": {},
     "output_type": "display_data"
    },
    {
     "data": {
      "application/vnd.jupyter.widget-view+json": {
       "model_id": "eb2260574a3f405480dcd4dd042bae5b",
       "version_major": 2,
       "version_minor": 0
      },
      "text/plain": [
       "Batches:   0%|          | 0/1 [00:00<?, ?it/s]"
      ]
     },
     "metadata": {},
     "output_type": "display_data"
    },
    {
     "data": {
      "application/vnd.jupyter.widget-view+json": {
       "model_id": "8372d65b4ee7440898ff713744954d6d",
       "version_major": 2,
       "version_minor": 0
      },
      "text/plain": [
       "Batches:   0%|          | 0/1 [00:00<?, ?it/s]"
      ]
     },
     "metadata": {},
     "output_type": "display_data"
    },
    {
     "data": {
      "application/vnd.jupyter.widget-view+json": {
       "model_id": "522c835a3b1f469abfdd61cd66febdc7",
       "version_major": 2,
       "version_minor": 0
      },
      "text/plain": [
       "Batches:   0%|          | 0/1 [00:00<?, ?it/s]"
      ]
     },
     "metadata": {},
     "output_type": "display_data"
    },
    {
     "data": {
      "application/vnd.jupyter.widget-view+json": {
       "model_id": "4b3638c69c0f44cea0d28ea1d4cec05d",
       "version_major": 2,
       "version_minor": 0
      },
      "text/plain": [
       "Batches:   0%|          | 0/1 [00:00<?, ?it/s]"
      ]
     },
     "metadata": {},
     "output_type": "display_data"
    },
    {
     "data": {
      "application/vnd.jupyter.widget-view+json": {
       "model_id": "b4b7025c2cf645a4a61f8e1d481784c6",
       "version_major": 2,
       "version_minor": 0
      },
      "text/plain": [
       "Batches:   0%|          | 0/1 [00:00<?, ?it/s]"
      ]
     },
     "metadata": {},
     "output_type": "display_data"
    },
    {
     "data": {
      "application/vnd.jupyter.widget-view+json": {
       "model_id": "8c939a2f5b8f4ecfa31e8e036a781f3b",
       "version_major": 2,
       "version_minor": 0
      },
      "text/plain": [
       "Batches:   0%|          | 0/1 [00:00<?, ?it/s]"
      ]
     },
     "metadata": {},
     "output_type": "display_data"
    },
    {
     "data": {
      "application/vnd.jupyter.widget-view+json": {
       "model_id": "afa6e0dade3043358ac19992d3345332",
       "version_major": 2,
       "version_minor": 0
      },
      "text/plain": [
       "Batches:   0%|          | 0/1 [00:00<?, ?it/s]"
      ]
     },
     "metadata": {},
     "output_type": "display_data"
    },
    {
     "data": {
      "application/vnd.jupyter.widget-view+json": {
       "model_id": "40881ffd2f2a47a59b209f62a719b813",
       "version_major": 2,
       "version_minor": 0
      },
      "text/plain": [
       "Batches:   0%|          | 0/1 [00:00<?, ?it/s]"
      ]
     },
     "metadata": {},
     "output_type": "display_data"
    },
    {
     "data": {
      "application/vnd.jupyter.widget-view+json": {
       "model_id": "b2e85523cde140828d40600b06c3ca48",
       "version_major": 2,
       "version_minor": 0
      },
      "text/plain": [
       "Batches:   0%|          | 0/1 [00:00<?, ?it/s]"
      ]
     },
     "metadata": {},
     "output_type": "display_data"
    },
    {
     "data": {
      "application/vnd.jupyter.widget-view+json": {
       "model_id": "d6d16f5c3dfb4a3398994fb7caeeb80f",
       "version_major": 2,
       "version_minor": 0
      },
      "text/plain": [
       "Batches:   0%|          | 0/1 [00:00<?, ?it/s]"
      ]
     },
     "metadata": {},
     "output_type": "display_data"
    },
    {
     "data": {
      "application/vnd.jupyter.widget-view+json": {
       "model_id": "7d23603c7baf46ecae8247175e029632",
       "version_major": 2,
       "version_minor": 0
      },
      "text/plain": [
       "Batches:   0%|          | 0/1 [00:00<?, ?it/s]"
      ]
     },
     "metadata": {},
     "output_type": "display_data"
    },
    {
     "data": {
      "application/vnd.jupyter.widget-view+json": {
       "model_id": "31b69ef3a7af429398a5ba77efd8ccab",
       "version_major": 2,
       "version_minor": 0
      },
      "text/plain": [
       "Batches:   0%|          | 0/1 [00:00<?, ?it/s]"
      ]
     },
     "metadata": {},
     "output_type": "display_data"
    },
    {
     "data": {
      "application/vnd.jupyter.widget-view+json": {
       "model_id": "2de8ec1225984fa0bf7c8ba9c5ea9570",
       "version_major": 2,
       "version_minor": 0
      },
      "text/plain": [
       "Batches:   0%|          | 0/1 [00:00<?, ?it/s]"
      ]
     },
     "metadata": {},
     "output_type": "display_data"
    },
    {
     "data": {
      "application/vnd.jupyter.widget-view+json": {
       "model_id": "3765889098624928a88a2d4bd181b2e1",
       "version_major": 2,
       "version_minor": 0
      },
      "text/plain": [
       "Batches:   0%|          | 0/1 [00:00<?, ?it/s]"
      ]
     },
     "metadata": {},
     "output_type": "display_data"
    },
    {
     "data": {
      "application/vnd.jupyter.widget-view+json": {
       "model_id": "6a1c307858264059b8a4107bfca18b2a",
       "version_major": 2,
       "version_minor": 0
      },
      "text/plain": [
       "Batches:   0%|          | 0/1 [00:00<?, ?it/s]"
      ]
     },
     "metadata": {},
     "output_type": "display_data"
    },
    {
     "data": {
      "application/vnd.jupyter.widget-view+json": {
       "model_id": "e87af83b02a14cadabfb733b428f882e",
       "version_major": 2,
       "version_minor": 0
      },
      "text/plain": [
       "Batches:   0%|          | 0/1 [00:00<?, ?it/s]"
      ]
     },
     "metadata": {},
     "output_type": "display_data"
    },
    {
     "data": {
      "application/vnd.jupyter.widget-view+json": {
       "model_id": "8cc60976cde849ffb39d2aaeb428e3bd",
       "version_major": 2,
       "version_minor": 0
      },
      "text/plain": [
       "Batches:   0%|          | 0/1 [00:00<?, ?it/s]"
      ]
     },
     "metadata": {},
     "output_type": "display_data"
    },
    {
     "data": {
      "application/vnd.jupyter.widget-view+json": {
       "model_id": "8f730bd843be4eccb3360ae09ee53e00",
       "version_major": 2,
       "version_minor": 0
      },
      "text/plain": [
       "Batches:   0%|          | 0/1 [00:00<?, ?it/s]"
      ]
     },
     "metadata": {},
     "output_type": "display_data"
    },
    {
     "data": {
      "application/vnd.jupyter.widget-view+json": {
       "model_id": "e333c7de35ea49ffbe94f833ad5f335d",
       "version_major": 2,
       "version_minor": 0
      },
      "text/plain": [
       "Batches:   0%|          | 0/1 [00:00<?, ?it/s]"
      ]
     },
     "metadata": {},
     "output_type": "display_data"
    },
    {
     "data": {
      "application/vnd.jupyter.widget-view+json": {
       "model_id": "fb0ccdbe82cb4cfb97e39c5ad1422930",
       "version_major": 2,
       "version_minor": 0
      },
      "text/plain": [
       "Batches:   0%|          | 0/1 [00:00<?, ?it/s]"
      ]
     },
     "metadata": {},
     "output_type": "display_data"
    },
    {
     "data": {
      "application/vnd.jupyter.widget-view+json": {
       "model_id": "f666521d6f7448e1b63d8e21a334dee6",
       "version_major": 2,
       "version_minor": 0
      },
      "text/plain": [
       "Batches:   0%|          | 0/1 [00:00<?, ?it/s]"
      ]
     },
     "metadata": {},
     "output_type": "display_data"
    },
    {
     "data": {
      "application/vnd.jupyter.widget-view+json": {
       "model_id": "b0f2a79b149349899ecd1e6116f3f67c",
       "version_major": 2,
       "version_minor": 0
      },
      "text/plain": [
       "Batches:   0%|          | 0/1 [00:00<?, ?it/s]"
      ]
     },
     "metadata": {},
     "output_type": "display_data"
    },
    {
     "data": {
      "application/vnd.jupyter.widget-view+json": {
       "model_id": "7bfeb3aa31df4c7eaf94254fe17ee10b",
       "version_major": 2,
       "version_minor": 0
      },
      "text/plain": [
       "Batches:   0%|          | 0/1 [00:00<?, ?it/s]"
      ]
     },
     "metadata": {},
     "output_type": "display_data"
    },
    {
     "data": {
      "application/vnd.jupyter.widget-view+json": {
       "model_id": "6b0b1af2c5ae4b2ba3b749a1f4ac408e",
       "version_major": 2,
       "version_minor": 0
      },
      "text/plain": [
       "Batches:   0%|          | 0/1 [00:00<?, ?it/s]"
      ]
     },
     "metadata": {},
     "output_type": "display_data"
    },
    {
     "data": {
      "application/vnd.jupyter.widget-view+json": {
       "model_id": "4b41ee24ee0e4b4481786d885d17a924",
       "version_major": 2,
       "version_minor": 0
      },
      "text/plain": [
       "Batches:   0%|          | 0/1 [00:00<?, ?it/s]"
      ]
     },
     "metadata": {},
     "output_type": "display_data"
    },
    {
     "data": {
      "application/vnd.jupyter.widget-view+json": {
       "model_id": "59057efe43d24978b0fdea76e12a2ce3",
       "version_major": 2,
       "version_minor": 0
      },
      "text/plain": [
       "Batches:   0%|          | 0/1 [00:00<?, ?it/s]"
      ]
     },
     "metadata": {},
     "output_type": "display_data"
    },
    {
     "data": {
      "application/vnd.jupyter.widget-view+json": {
       "model_id": "439b6b5a36d54b4ea22a01975f98b3be",
       "version_major": 2,
       "version_minor": 0
      },
      "text/plain": [
       "Batches:   0%|          | 0/1 [00:00<?, ?it/s]"
      ]
     },
     "metadata": {},
     "output_type": "display_data"
    },
    {
     "data": {
      "application/vnd.jupyter.widget-view+json": {
       "model_id": "1ec1387c0e6e45d98d17355936100c18",
       "version_major": 2,
       "version_minor": 0
      },
      "text/plain": [
       "Batches:   0%|          | 0/1 [00:00<?, ?it/s]"
      ]
     },
     "metadata": {},
     "output_type": "display_data"
    },
    {
     "data": {
      "application/vnd.jupyter.widget-view+json": {
       "model_id": "e0670cabf1da4ad698b4a7d1f9201fa6",
       "version_major": 2,
       "version_minor": 0
      },
      "text/plain": [
       "Batches:   0%|          | 0/1 [00:00<?, ?it/s]"
      ]
     },
     "metadata": {},
     "output_type": "display_data"
    },
    {
     "data": {
      "application/vnd.jupyter.widget-view+json": {
       "model_id": "6dfa4c230bad406bb391495ec567b5a4",
       "version_major": 2,
       "version_minor": 0
      },
      "text/plain": [
       "Batches:   0%|          | 0/1 [00:00<?, ?it/s]"
      ]
     },
     "metadata": {},
     "output_type": "display_data"
    },
    {
     "data": {
      "application/vnd.jupyter.widget-view+json": {
       "model_id": "266b59edde9b44478093ea1bfa8665eb",
       "version_major": 2,
       "version_minor": 0
      },
      "text/plain": [
       "Batches:   0%|          | 0/1 [00:00<?, ?it/s]"
      ]
     },
     "metadata": {},
     "output_type": "display_data"
    },
    {
     "data": {
      "application/vnd.jupyter.widget-view+json": {
       "model_id": "c2bcf1238880494dae1501b09d0fe171",
       "version_major": 2,
       "version_minor": 0
      },
      "text/plain": [
       "Batches:   0%|          | 0/1 [00:00<?, ?it/s]"
      ]
     },
     "metadata": {},
     "output_type": "display_data"
    },
    {
     "data": {
      "application/vnd.jupyter.widget-view+json": {
       "model_id": "b86b297963a5405080e39399e2880670",
       "version_major": 2,
       "version_minor": 0
      },
      "text/plain": [
       "Batches:   0%|          | 0/1 [00:00<?, ?it/s]"
      ]
     },
     "metadata": {},
     "output_type": "display_data"
    },
    {
     "data": {
      "application/vnd.jupyter.widget-view+json": {
       "model_id": "baef79e529f6462c9d89694f2c6779fd",
       "version_major": 2,
       "version_minor": 0
      },
      "text/plain": [
       "Batches:   0%|          | 0/1 [00:00<?, ?it/s]"
      ]
     },
     "metadata": {},
     "output_type": "display_data"
    },
    {
     "data": {
      "application/vnd.jupyter.widget-view+json": {
       "model_id": "b3e9a6f20dc148739d7b34bc3eda081a",
       "version_major": 2,
       "version_minor": 0
      },
      "text/plain": [
       "Batches:   0%|          | 0/1 [00:00<?, ?it/s]"
      ]
     },
     "metadata": {},
     "output_type": "display_data"
    },
    {
     "data": {
      "application/vnd.jupyter.widget-view+json": {
       "model_id": "89c3aaea793247f2b099eebf430ce3fe",
       "version_major": 2,
       "version_minor": 0
      },
      "text/plain": [
       "Batches:   0%|          | 0/1 [00:00<?, ?it/s]"
      ]
     },
     "metadata": {},
     "output_type": "display_data"
    },
    {
     "data": {
      "application/vnd.jupyter.widget-view+json": {
       "model_id": "570d8bb07edb4c259048f509b9794560",
       "version_major": 2,
       "version_minor": 0
      },
      "text/plain": [
       "Batches:   0%|          | 0/1 [00:00<?, ?it/s]"
      ]
     },
     "metadata": {},
     "output_type": "display_data"
    },
    {
     "data": {
      "application/vnd.jupyter.widget-view+json": {
       "model_id": "fabd2ce0961c43b5ad668524c3368ea7",
       "version_major": 2,
       "version_minor": 0
      },
      "text/plain": [
       "Batches:   0%|          | 0/1 [00:00<?, ?it/s]"
      ]
     },
     "metadata": {},
     "output_type": "display_data"
    },
    {
     "data": {
      "application/vnd.jupyter.widget-view+json": {
       "model_id": "01ef96eb77554b2d9bfc9faf3eb7de94",
       "version_major": 2,
       "version_minor": 0
      },
      "text/plain": [
       "Batches:   0%|          | 0/1 [00:00<?, ?it/s]"
      ]
     },
     "metadata": {},
     "output_type": "display_data"
    },
    {
     "data": {
      "application/vnd.jupyter.widget-view+json": {
       "model_id": "ca08298ec18248f9a6861387fc0e73d7",
       "version_major": 2,
       "version_minor": 0
      },
      "text/plain": [
       "Batches:   0%|          | 0/1 [00:00<?, ?it/s]"
      ]
     },
     "metadata": {},
     "output_type": "display_data"
    },
    {
     "data": {
      "application/vnd.jupyter.widget-view+json": {
       "model_id": "b38b94d7790e4e2f93b5abcdda7f9282",
       "version_major": 2,
       "version_minor": 0
      },
      "text/plain": [
       "Batches:   0%|          | 0/1 [00:00<?, ?it/s]"
      ]
     },
     "metadata": {},
     "output_type": "display_data"
    },
    {
     "data": {
      "application/vnd.jupyter.widget-view+json": {
       "model_id": "5460b8456d5d41f9b1c044dc3e8c6c61",
       "version_major": 2,
       "version_minor": 0
      },
      "text/plain": [
       "Batches:   0%|          | 0/1 [00:00<?, ?it/s]"
      ]
     },
     "metadata": {},
     "output_type": "display_data"
    },
    {
     "data": {
      "application/vnd.jupyter.widget-view+json": {
       "model_id": "31b367d8a8c946a0880a4d1a575d51b3",
       "version_major": 2,
       "version_minor": 0
      },
      "text/plain": [
       "Batches:   0%|          | 0/1 [00:00<?, ?it/s]"
      ]
     },
     "metadata": {},
     "output_type": "display_data"
    },
    {
     "data": {
      "application/vnd.jupyter.widget-view+json": {
       "model_id": "89a0574017f945498cc1f0e8ca21cf59",
       "version_major": 2,
       "version_minor": 0
      },
      "text/plain": [
       "Batches:   0%|          | 0/1 [00:00<?, ?it/s]"
      ]
     },
     "metadata": {},
     "output_type": "display_data"
    },
    {
     "data": {
      "application/vnd.jupyter.widget-view+json": {
       "model_id": "ca604246d03b45c78f281fbb27bde8ae",
       "version_major": 2,
       "version_minor": 0
      },
      "text/plain": [
       "Batches:   0%|          | 0/1 [00:00<?, ?it/s]"
      ]
     },
     "metadata": {},
     "output_type": "display_data"
    },
    {
     "data": {
      "application/vnd.jupyter.widget-view+json": {
       "model_id": "3d3cb25f86754559babaa90c0d707513",
       "version_major": 2,
       "version_minor": 0
      },
      "text/plain": [
       "Batches:   0%|          | 0/1 [00:00<?, ?it/s]"
      ]
     },
     "metadata": {},
     "output_type": "display_data"
    },
    {
     "data": {
      "application/vnd.jupyter.widget-view+json": {
       "model_id": "b966b23de614474a8aad35352a53d94c",
       "version_major": 2,
       "version_minor": 0
      },
      "text/plain": [
       "Batches:   0%|          | 0/1 [00:00<?, ?it/s]"
      ]
     },
     "metadata": {},
     "output_type": "display_data"
    },
    {
     "data": {
      "application/vnd.jupyter.widget-view+json": {
       "model_id": "3edcfcea5fd74e9ebca375a785e89b00",
       "version_major": 2,
       "version_minor": 0
      },
      "text/plain": [
       "Batches:   0%|          | 0/1 [00:00<?, ?it/s]"
      ]
     },
     "metadata": {},
     "output_type": "display_data"
    },
    {
     "data": {
      "application/vnd.jupyter.widget-view+json": {
       "model_id": "dd1967006de14b09a5b1b8f4ce2adc63",
       "version_major": 2,
       "version_minor": 0
      },
      "text/plain": [
       "Batches:   0%|          | 0/1 [00:00<?, ?it/s]"
      ]
     },
     "metadata": {},
     "output_type": "display_data"
    },
    {
     "data": {
      "application/vnd.jupyter.widget-view+json": {
       "model_id": "02007e125b294a9e8c13ae82eb372c99",
       "version_major": 2,
       "version_minor": 0
      },
      "text/plain": [
       "Batches:   0%|          | 0/1 [00:00<?, ?it/s]"
      ]
     },
     "metadata": {},
     "output_type": "display_data"
    },
    {
     "data": {
      "application/vnd.jupyter.widget-view+json": {
       "model_id": "cfc43afc509f4e3fa54280e523acb41d",
       "version_major": 2,
       "version_minor": 0
      },
      "text/plain": [
       "Batches:   0%|          | 0/1 [00:00<?, ?it/s]"
      ]
     },
     "metadata": {},
     "output_type": "display_data"
    },
    {
     "data": {
      "application/vnd.jupyter.widget-view+json": {
       "model_id": "93931e6a7a424d8580f97db194b0c4c2",
       "version_major": 2,
       "version_minor": 0
      },
      "text/plain": [
       "Batches:   0%|          | 0/1 [00:00<?, ?it/s]"
      ]
     },
     "metadata": {},
     "output_type": "display_data"
    },
    {
     "data": {
      "application/vnd.jupyter.widget-view+json": {
       "model_id": "b16f8aae15ea40a4ad0c9d9699d880ce",
       "version_major": 2,
       "version_minor": 0
      },
      "text/plain": [
       "Batches:   0%|          | 0/1 [00:00<?, ?it/s]"
      ]
     },
     "metadata": {},
     "output_type": "display_data"
    },
    {
     "data": {
      "application/vnd.jupyter.widget-view+json": {
       "model_id": "b591b433468c43f1bf91d951272a3e94",
       "version_major": 2,
       "version_minor": 0
      },
      "text/plain": [
       "Batches:   0%|          | 0/1 [00:00<?, ?it/s]"
      ]
     },
     "metadata": {},
     "output_type": "display_data"
    },
    {
     "data": {
      "application/vnd.jupyter.widget-view+json": {
       "model_id": "fad991dbb0564eb481ffc0f364937506",
       "version_major": 2,
       "version_minor": 0
      },
      "text/plain": [
       "Batches:   0%|          | 0/1 [00:00<?, ?it/s]"
      ]
     },
     "metadata": {},
     "output_type": "display_data"
    },
    {
     "data": {
      "application/vnd.jupyter.widget-view+json": {
       "model_id": "65101f073edf4f709a033d8f6d2ec2eb",
       "version_major": 2,
       "version_minor": 0
      },
      "text/plain": [
       "Batches:   0%|          | 0/1 [00:00<?, ?it/s]"
      ]
     },
     "metadata": {},
     "output_type": "display_data"
    },
    {
     "data": {
      "application/vnd.jupyter.widget-view+json": {
       "model_id": "f0d95fb937514457b713cb8b9a0ea01c",
       "version_major": 2,
       "version_minor": 0
      },
      "text/plain": [
       "Batches:   0%|          | 0/1 [00:00<?, ?it/s]"
      ]
     },
     "metadata": {},
     "output_type": "display_data"
    },
    {
     "data": {
      "application/vnd.jupyter.widget-view+json": {
       "model_id": "4f9c2cb8688b42e08ce5cb1b6fb487a3",
       "version_major": 2,
       "version_minor": 0
      },
      "text/plain": [
       "Batches:   0%|          | 0/1 [00:00<?, ?it/s]"
      ]
     },
     "metadata": {},
     "output_type": "display_data"
    },
    {
     "data": {
      "application/vnd.jupyter.widget-view+json": {
       "model_id": "cf13d3b7490b4c88b79a9483203362f4",
       "version_major": 2,
       "version_minor": 0
      },
      "text/plain": [
       "Batches:   0%|          | 0/1 [00:00<?, ?it/s]"
      ]
     },
     "metadata": {},
     "output_type": "display_data"
    },
    {
     "data": {
      "application/vnd.jupyter.widget-view+json": {
       "model_id": "f6b43b2e8613421692dc49b57d420a78",
       "version_major": 2,
       "version_minor": 0
      },
      "text/plain": [
       "Batches:   0%|          | 0/1 [00:00<?, ?it/s]"
      ]
     },
     "metadata": {},
     "output_type": "display_data"
    },
    {
     "data": {
      "application/vnd.jupyter.widget-view+json": {
       "model_id": "29a8b18db63a42dc95745cc7ff22d9b7",
       "version_major": 2,
       "version_minor": 0
      },
      "text/plain": [
       "Batches:   0%|          | 0/1 [00:00<?, ?it/s]"
      ]
     },
     "metadata": {},
     "output_type": "display_data"
    },
    {
     "data": {
      "application/vnd.jupyter.widget-view+json": {
       "model_id": "a453b3ff124c47cbb4924e3ea37cbdd6",
       "version_major": 2,
       "version_minor": 0
      },
      "text/plain": [
       "Batches:   0%|          | 0/1 [00:00<?, ?it/s]"
      ]
     },
     "metadata": {},
     "output_type": "display_data"
    },
    {
     "data": {
      "application/vnd.jupyter.widget-view+json": {
       "model_id": "bc917ce723844fb2a1bca2047bcad783",
       "version_major": 2,
       "version_minor": 0
      },
      "text/plain": [
       "Batches:   0%|          | 0/1 [00:00<?, ?it/s]"
      ]
     },
     "metadata": {},
     "output_type": "display_data"
    },
    {
     "data": {
      "application/vnd.jupyter.widget-view+json": {
       "model_id": "483cacdb67364b60b9838109fbf89969",
       "version_major": 2,
       "version_minor": 0
      },
      "text/plain": [
       "Batches:   0%|          | 0/1 [00:00<?, ?it/s]"
      ]
     },
     "metadata": {},
     "output_type": "display_data"
    },
    {
     "data": {
      "application/vnd.jupyter.widget-view+json": {
       "model_id": "7a82df6a55d342c88c31cd5450a9e9bc",
       "version_major": 2,
       "version_minor": 0
      },
      "text/plain": [
       "Batches:   0%|          | 0/1 [00:00<?, ?it/s]"
      ]
     },
     "metadata": {},
     "output_type": "display_data"
    },
    {
     "data": {
      "application/vnd.jupyter.widget-view+json": {
       "model_id": "ec74b22272e5442b8b8f11b369bd0627",
       "version_major": 2,
       "version_minor": 0
      },
      "text/plain": [
       "Batches:   0%|          | 0/1 [00:00<?, ?it/s]"
      ]
     },
     "metadata": {},
     "output_type": "display_data"
    },
    {
     "data": {
      "application/vnd.jupyter.widget-view+json": {
       "model_id": "a6e6d3b2798f45d9bed03eccfa9fa454",
       "version_major": 2,
       "version_minor": 0
      },
      "text/plain": [
       "Batches:   0%|          | 0/1 [00:00<?, ?it/s]"
      ]
     },
     "metadata": {},
     "output_type": "display_data"
    },
    {
     "data": {
      "application/vnd.jupyter.widget-view+json": {
       "model_id": "b78fac5c8c4d4282923f3ebd894adcf6",
       "version_major": 2,
       "version_minor": 0
      },
      "text/plain": [
       "Batches:   0%|          | 0/1 [00:00<?, ?it/s]"
      ]
     },
     "metadata": {},
     "output_type": "display_data"
    },
    {
     "data": {
      "application/vnd.jupyter.widget-view+json": {
       "model_id": "1e7e4e312a5f4ae4b35dd70ac449678a",
       "version_major": 2,
       "version_minor": 0
      },
      "text/plain": [
       "Batches:   0%|          | 0/1 [00:00<?, ?it/s]"
      ]
     },
     "metadata": {},
     "output_type": "display_data"
    },
    {
     "data": {
      "application/vnd.jupyter.widget-view+json": {
       "model_id": "db846ffe2b4346dea78b50d2277a1767",
       "version_major": 2,
       "version_minor": 0
      },
      "text/plain": [
       "Batches:   0%|          | 0/1 [00:00<?, ?it/s]"
      ]
     },
     "metadata": {},
     "output_type": "display_data"
    },
    {
     "data": {
      "application/vnd.jupyter.widget-view+json": {
       "model_id": "4cab6ad10d48423c9d99c9aab6166fc9",
       "version_major": 2,
       "version_minor": 0
      },
      "text/plain": [
       "Batches:   0%|          | 0/1 [00:00<?, ?it/s]"
      ]
     },
     "metadata": {},
     "output_type": "display_data"
    },
    {
     "data": {
      "application/vnd.jupyter.widget-view+json": {
       "model_id": "0922622dcb66452cac3433fba23f5dbe",
       "version_major": 2,
       "version_minor": 0
      },
      "text/plain": [
       "Batches:   0%|          | 0/1 [00:00<?, ?it/s]"
      ]
     },
     "metadata": {},
     "output_type": "display_data"
    },
    {
     "data": {
      "application/vnd.jupyter.widget-view+json": {
       "model_id": "10bbb85c4afe46248ff0d77a05498524",
       "version_major": 2,
       "version_minor": 0
      },
      "text/plain": [
       "Batches:   0%|          | 0/1 [00:00<?, ?it/s]"
      ]
     },
     "metadata": {},
     "output_type": "display_data"
    },
    {
     "data": {
      "application/vnd.jupyter.widget-view+json": {
       "model_id": "264a3b07596347439427c54dc934d822",
       "version_major": 2,
       "version_minor": 0
      },
      "text/plain": [
       "Batches:   0%|          | 0/1 [00:00<?, ?it/s]"
      ]
     },
     "metadata": {},
     "output_type": "display_data"
    },
    {
     "data": {
      "application/vnd.jupyter.widget-view+json": {
       "model_id": "47b68648b26945a08eb86a68ef687997",
       "version_major": 2,
       "version_minor": 0
      },
      "text/plain": [
       "Batches:   0%|          | 0/1 [00:00<?, ?it/s]"
      ]
     },
     "metadata": {},
     "output_type": "display_data"
    },
    {
     "data": {
      "application/vnd.jupyter.widget-view+json": {
       "model_id": "5000ca251e804dc6b10b90d437192b41",
       "version_major": 2,
       "version_minor": 0
      },
      "text/plain": [
       "Batches:   0%|          | 0/1 [00:00<?, ?it/s]"
      ]
     },
     "metadata": {},
     "output_type": "display_data"
    },
    {
     "data": {
      "application/vnd.jupyter.widget-view+json": {
       "model_id": "f223bf2d07904df9ac13c23ebc8375f1",
       "version_major": 2,
       "version_minor": 0
      },
      "text/plain": [
       "Batches:   0%|          | 0/1 [00:00<?, ?it/s]"
      ]
     },
     "metadata": {},
     "output_type": "display_data"
    },
    {
     "data": {
      "application/vnd.jupyter.widget-view+json": {
       "model_id": "6b23cdadf56c4f439e2ee213eb254856",
       "version_major": 2,
       "version_minor": 0
      },
      "text/plain": [
       "Batches:   0%|          | 0/1 [00:00<?, ?it/s]"
      ]
     },
     "metadata": {},
     "output_type": "display_data"
    },
    {
     "data": {
      "application/vnd.jupyter.widget-view+json": {
       "model_id": "30acf17f68e249e1bdcfb0a0331c5070",
       "version_major": 2,
       "version_minor": 0
      },
      "text/plain": [
       "Batches:   0%|          | 0/1 [00:00<?, ?it/s]"
      ]
     },
     "metadata": {},
     "output_type": "display_data"
    },
    {
     "data": {
      "application/vnd.jupyter.widget-view+json": {
       "model_id": "2a451382a95e46c9bc5e259c0b6de286",
       "version_major": 2,
       "version_minor": 0
      },
      "text/plain": [
       "Batches:   0%|          | 0/1 [00:00<?, ?it/s]"
      ]
     },
     "metadata": {},
     "output_type": "display_data"
    },
    {
     "data": {
      "application/vnd.jupyter.widget-view+json": {
       "model_id": "649800b733354449b5620e442db3c2a9",
       "version_major": 2,
       "version_minor": 0
      },
      "text/plain": [
       "Batches:   0%|          | 0/1 [00:00<?, ?it/s]"
      ]
     },
     "metadata": {},
     "output_type": "display_data"
    },
    {
     "data": {
      "application/vnd.jupyter.widget-view+json": {
       "model_id": "92f3bb2e187a4935ba4cbdad125492a0",
       "version_major": 2,
       "version_minor": 0
      },
      "text/plain": [
       "Batches:   0%|          | 0/1 [00:00<?, ?it/s]"
      ]
     },
     "metadata": {},
     "output_type": "display_data"
    },
    {
     "data": {
      "application/vnd.jupyter.widget-view+json": {
       "model_id": "2d10d211c3f74a99b0e4d7a554b7b8a2",
       "version_major": 2,
       "version_minor": 0
      },
      "text/plain": [
       "Batches:   0%|          | 0/1 [00:00<?, ?it/s]"
      ]
     },
     "metadata": {},
     "output_type": "display_data"
    },
    {
     "data": {
      "application/vnd.jupyter.widget-view+json": {
       "model_id": "7681c097e82b43b5a4f92e6317042412",
       "version_major": 2,
       "version_minor": 0
      },
      "text/plain": [
       "Batches:   0%|          | 0/1 [00:00<?, ?it/s]"
      ]
     },
     "metadata": {},
     "output_type": "display_data"
    },
    {
     "data": {
      "application/vnd.jupyter.widget-view+json": {
       "model_id": "b5d0336718c34071858e55748847280d",
       "version_major": 2,
       "version_minor": 0
      },
      "text/plain": [
       "Batches:   0%|          | 0/1 [00:00<?, ?it/s]"
      ]
     },
     "metadata": {},
     "output_type": "display_data"
    },
    {
     "data": {
      "application/vnd.jupyter.widget-view+json": {
       "model_id": "13f890e2b6cd46069248db11f36037fc",
       "version_major": 2,
       "version_minor": 0
      },
      "text/plain": [
       "Batches:   0%|          | 0/1 [00:00<?, ?it/s]"
      ]
     },
     "metadata": {},
     "output_type": "display_data"
    },
    {
     "data": {
      "application/vnd.jupyter.widget-view+json": {
       "model_id": "86fc32e4077b4a6babc3b9fc6c7fb33d",
       "version_major": 2,
       "version_minor": 0
      },
      "text/plain": [
       "Batches:   0%|          | 0/1 [00:00<?, ?it/s]"
      ]
     },
     "metadata": {},
     "output_type": "display_data"
    },
    {
     "data": {
      "application/vnd.jupyter.widget-view+json": {
       "model_id": "ec396863325d4e55ad419b139a2cb330",
       "version_major": 2,
       "version_minor": 0
      },
      "text/plain": [
       "Batches:   0%|          | 0/1 [00:00<?, ?it/s]"
      ]
     },
     "metadata": {},
     "output_type": "display_data"
    },
    {
     "data": {
      "application/vnd.jupyter.widget-view+json": {
       "model_id": "829d7c63c7df42829356131080c0addb",
       "version_major": 2,
       "version_minor": 0
      },
      "text/plain": [
       "Batches:   0%|          | 0/1 [00:00<?, ?it/s]"
      ]
     },
     "metadata": {},
     "output_type": "display_data"
    },
    {
     "data": {
      "application/vnd.jupyter.widget-view+json": {
       "model_id": "d68b0f4bac4b483e99b379f093ffe7f9",
       "version_major": 2,
       "version_minor": 0
      },
      "text/plain": [
       "Batches:   0%|          | 0/1 [00:00<?, ?it/s]"
      ]
     },
     "metadata": {},
     "output_type": "display_data"
    },
    {
     "data": {
      "application/vnd.jupyter.widget-view+json": {
       "model_id": "cd188d1aecf8430eb8c2b2e17dd73696",
       "version_major": 2,
       "version_minor": 0
      },
      "text/plain": [
       "Batches:   0%|          | 0/1 [00:00<?, ?it/s]"
      ]
     },
     "metadata": {},
     "output_type": "display_data"
    },
    {
     "data": {
      "application/vnd.jupyter.widget-view+json": {
       "model_id": "17308307708d4066973396dc8042dc0c",
       "version_major": 2,
       "version_minor": 0
      },
      "text/plain": [
       "Batches:   0%|          | 0/1 [00:00<?, ?it/s]"
      ]
     },
     "metadata": {},
     "output_type": "display_data"
    },
    {
     "data": {
      "application/vnd.jupyter.widget-view+json": {
       "model_id": "9923f63734104a9cadbd8be46325a5df",
       "version_major": 2,
       "version_minor": 0
      },
      "text/plain": [
       "Batches:   0%|          | 0/1 [00:00<?, ?it/s]"
      ]
     },
     "metadata": {},
     "output_type": "display_data"
    },
    {
     "data": {
      "application/vnd.jupyter.widget-view+json": {
       "model_id": "6d40b818429b4f3a8ca7468edfb97c84",
       "version_major": 2,
       "version_minor": 0
      },
      "text/plain": [
       "Batches:   0%|          | 0/1 [00:00<?, ?it/s]"
      ]
     },
     "metadata": {},
     "output_type": "display_data"
    },
    {
     "data": {
      "application/vnd.jupyter.widget-view+json": {
       "model_id": "704b6f09d4b24ac9825886c0e8a21730",
       "version_major": 2,
       "version_minor": 0
      },
      "text/plain": [
       "Batches:   0%|          | 0/1 [00:00<?, ?it/s]"
      ]
     },
     "metadata": {},
     "output_type": "display_data"
    },
    {
     "data": {
      "application/vnd.jupyter.widget-view+json": {
       "model_id": "fe50c57286bf4ba8a8e1a003253b2491",
       "version_major": 2,
       "version_minor": 0
      },
      "text/plain": [
       "Batches:   0%|          | 0/1 [00:00<?, ?it/s]"
      ]
     },
     "metadata": {},
     "output_type": "display_data"
    },
    {
     "data": {
      "application/vnd.jupyter.widget-view+json": {
       "model_id": "7d2057b56d824251a018c556b70e80ef",
       "version_major": 2,
       "version_minor": 0
      },
      "text/plain": [
       "Batches:   0%|          | 0/1 [00:00<?, ?it/s]"
      ]
     },
     "metadata": {},
     "output_type": "display_data"
    },
    {
     "data": {
      "application/vnd.jupyter.widget-view+json": {
       "model_id": "16a9fcb28e0b4bf19cbc6c1b5754cf75",
       "version_major": 2,
       "version_minor": 0
      },
      "text/plain": [
       "Batches:   0%|          | 0/1 [00:00<?, ?it/s]"
      ]
     },
     "metadata": {},
     "output_type": "display_data"
    },
    {
     "data": {
      "application/vnd.jupyter.widget-view+json": {
       "model_id": "a65440c05e20496e98b91aa8b16a9723",
       "version_major": 2,
       "version_minor": 0
      },
      "text/plain": [
       "Batches:   0%|          | 0/1 [00:00<?, ?it/s]"
      ]
     },
     "metadata": {},
     "output_type": "display_data"
    },
    {
     "data": {
      "application/vnd.jupyter.widget-view+json": {
       "model_id": "9a35e02de05b413abde90f4957e10a82",
       "version_major": 2,
       "version_minor": 0
      },
      "text/plain": [
       "Batches:   0%|          | 0/1 [00:00<?, ?it/s]"
      ]
     },
     "metadata": {},
     "output_type": "display_data"
    },
    {
     "data": {
      "application/vnd.jupyter.widget-view+json": {
       "model_id": "864bb4886dc743aaa974cc6d906339e1",
       "version_major": 2,
       "version_minor": 0
      },
      "text/plain": [
       "Batches:   0%|          | 0/1 [00:00<?, ?it/s]"
      ]
     },
     "metadata": {},
     "output_type": "display_data"
    },
    {
     "data": {
      "application/vnd.jupyter.widget-view+json": {
       "model_id": "f682478e16ef4d3f98c773abb40fafc1",
       "version_major": 2,
       "version_minor": 0
      },
      "text/plain": [
       "Batches:   0%|          | 0/1 [00:00<?, ?it/s]"
      ]
     },
     "metadata": {},
     "output_type": "display_data"
    },
    {
     "data": {
      "application/vnd.jupyter.widget-view+json": {
       "model_id": "85a4390d99ee46b8b06b6e6b660f46e1",
       "version_major": 2,
       "version_minor": 0
      },
      "text/plain": [
       "Batches:   0%|          | 0/1 [00:00<?, ?it/s]"
      ]
     },
     "metadata": {},
     "output_type": "display_data"
    },
    {
     "data": {
      "application/vnd.jupyter.widget-view+json": {
       "model_id": "bd18ce2406f84ab8acc92a55154b6086",
       "version_major": 2,
       "version_minor": 0
      },
      "text/plain": [
       "Batches:   0%|          | 0/1 [00:00<?, ?it/s]"
      ]
     },
     "metadata": {},
     "output_type": "display_data"
    },
    {
     "data": {
      "application/vnd.jupyter.widget-view+json": {
       "model_id": "d56e5877bd404014a75c37e63c81b0bd",
       "version_major": 2,
       "version_minor": 0
      },
      "text/plain": [
       "Batches:   0%|          | 0/1 [00:00<?, ?it/s]"
      ]
     },
     "metadata": {},
     "output_type": "display_data"
    },
    {
     "data": {
      "application/vnd.jupyter.widget-view+json": {
       "model_id": "c9fc2449c9344813b8cb332a26958d57",
       "version_major": 2,
       "version_minor": 0
      },
      "text/plain": [
       "Batches:   0%|          | 0/1 [00:00<?, ?it/s]"
      ]
     },
     "metadata": {},
     "output_type": "display_data"
    },
    {
     "data": {
      "application/vnd.jupyter.widget-view+json": {
       "model_id": "46e1c0482dad47f5a4144ded677ba58e",
       "version_major": 2,
       "version_minor": 0
      },
      "text/plain": [
       "Batches:   0%|          | 0/1 [00:00<?, ?it/s]"
      ]
     },
     "metadata": {},
     "output_type": "display_data"
    },
    {
     "data": {
      "application/vnd.jupyter.widget-view+json": {
       "model_id": "7fd407c973c14750bd0581a461918465",
       "version_major": 2,
       "version_minor": 0
      },
      "text/plain": [
       "Batches:   0%|          | 0/1 [00:00<?, ?it/s]"
      ]
     },
     "metadata": {},
     "output_type": "display_data"
    },
    {
     "data": {
      "application/vnd.jupyter.widget-view+json": {
       "model_id": "9dba2044ab7144c08f0037c6beb5128e",
       "version_major": 2,
       "version_minor": 0
      },
      "text/plain": [
       "Batches:   0%|          | 0/1 [00:00<?, ?it/s]"
      ]
     },
     "metadata": {},
     "output_type": "display_data"
    },
    {
     "data": {
      "application/vnd.jupyter.widget-view+json": {
       "model_id": "18825ba4f7de42ff9d2fdc0ed46ba366",
       "version_major": 2,
       "version_minor": 0
      },
      "text/plain": [
       "Batches:   0%|          | 0/1 [00:00<?, ?it/s]"
      ]
     },
     "metadata": {},
     "output_type": "display_data"
    },
    {
     "data": {
      "application/vnd.jupyter.widget-view+json": {
       "model_id": "c4c3eba6296547babd5e6c408f7327c7",
       "version_major": 2,
       "version_minor": 0
      },
      "text/plain": [
       "Batches:   0%|          | 0/1 [00:00<?, ?it/s]"
      ]
     },
     "metadata": {},
     "output_type": "display_data"
    },
    {
     "data": {
      "application/vnd.jupyter.widget-view+json": {
       "model_id": "ea723942ce534485a633f85f620d5555",
       "version_major": 2,
       "version_minor": 0
      },
      "text/plain": [
       "Batches:   0%|          | 0/1 [00:00<?, ?it/s]"
      ]
     },
     "metadata": {},
     "output_type": "display_data"
    },
    {
     "data": {
      "application/vnd.jupyter.widget-view+json": {
       "model_id": "48ca1a0e309e433994cf5562bc20f25c",
       "version_major": 2,
       "version_minor": 0
      },
      "text/plain": [
       "Batches:   0%|          | 0/1 [00:00<?, ?it/s]"
      ]
     },
     "metadata": {},
     "output_type": "display_data"
    },
    {
     "data": {
      "application/vnd.jupyter.widget-view+json": {
       "model_id": "c8595b9835be47e29c63a3e10da39898",
       "version_major": 2,
       "version_minor": 0
      },
      "text/plain": [
       "Batches:   0%|          | 0/1 [00:00<?, ?it/s]"
      ]
     },
     "metadata": {},
     "output_type": "display_data"
    },
    {
     "data": {
      "application/vnd.jupyter.widget-view+json": {
       "model_id": "4ca99607aae74c7ca1ecb0d70886befa",
       "version_major": 2,
       "version_minor": 0
      },
      "text/plain": [
       "Batches:   0%|          | 0/1 [00:00<?, ?it/s]"
      ]
     },
     "metadata": {},
     "output_type": "display_data"
    },
    {
     "data": {
      "application/vnd.jupyter.widget-view+json": {
       "model_id": "af39f4a2e13848bf937c726035244f38",
       "version_major": 2,
       "version_minor": 0
      },
      "text/plain": [
       "Batches:   0%|          | 0/1 [00:00<?, ?it/s]"
      ]
     },
     "metadata": {},
     "output_type": "display_data"
    },
    {
     "data": {
      "application/vnd.jupyter.widget-view+json": {
       "model_id": "47d0469300ee47d4a35fa582e27edcb1",
       "version_major": 2,
       "version_minor": 0
      },
      "text/plain": [
       "Batches:   0%|          | 0/1 [00:00<?, ?it/s]"
      ]
     },
     "metadata": {},
     "output_type": "display_data"
    },
    {
     "data": {
      "application/vnd.jupyter.widget-view+json": {
       "model_id": "8c7c8b8d13954439891f77ed783702f1",
       "version_major": 2,
       "version_minor": 0
      },
      "text/plain": [
       "Batches:   0%|          | 0/1 [00:00<?, ?it/s]"
      ]
     },
     "metadata": {},
     "output_type": "display_data"
    },
    {
     "data": {
      "application/vnd.jupyter.widget-view+json": {
       "model_id": "49a80e49fcfa42078bf64c4429d31bd4",
       "version_major": 2,
       "version_minor": 0
      },
      "text/plain": [
       "Batches:   0%|          | 0/1 [00:00<?, ?it/s]"
      ]
     },
     "metadata": {},
     "output_type": "display_data"
    },
    {
     "data": {
      "application/vnd.jupyter.widget-view+json": {
       "model_id": "340478fcd31b4e12b6fade9acbd54303",
       "version_major": 2,
       "version_minor": 0
      },
      "text/plain": [
       "Batches:   0%|          | 0/1 [00:00<?, ?it/s]"
      ]
     },
     "metadata": {},
     "output_type": "display_data"
    },
    {
     "data": {
      "application/vnd.jupyter.widget-view+json": {
       "model_id": "bdb629c491b043b996eb345c9ce6f697",
       "version_major": 2,
       "version_minor": 0
      },
      "text/plain": [
       "Batches:   0%|          | 0/1 [00:00<?, ?it/s]"
      ]
     },
     "metadata": {},
     "output_type": "display_data"
    },
    {
     "data": {
      "application/vnd.jupyter.widget-view+json": {
       "model_id": "3d7470b3eed446cc90ecd221ea82d6f5",
       "version_major": 2,
       "version_minor": 0
      },
      "text/plain": [
       "Batches:   0%|          | 0/1 [00:00<?, ?it/s]"
      ]
     },
     "metadata": {},
     "output_type": "display_data"
    },
    {
     "data": {
      "application/vnd.jupyter.widget-view+json": {
       "model_id": "c21a3cb22fc94556817c51852d6b4457",
       "version_major": 2,
       "version_minor": 0
      },
      "text/plain": [
       "Batches:   0%|          | 0/1 [00:00<?, ?it/s]"
      ]
     },
     "metadata": {},
     "output_type": "display_data"
    },
    {
     "data": {
      "application/vnd.jupyter.widget-view+json": {
       "model_id": "24df7224caf64ceeb9b309cf16db48cc",
       "version_major": 2,
       "version_minor": 0
      },
      "text/plain": [
       "Batches:   0%|          | 0/1 [00:00<?, ?it/s]"
      ]
     },
     "metadata": {},
     "output_type": "display_data"
    },
    {
     "data": {
      "application/vnd.jupyter.widget-view+json": {
       "model_id": "01b5407b2a9b458cbf9c2c83feb21523",
       "version_major": 2,
       "version_minor": 0
      },
      "text/plain": [
       "Batches:   0%|          | 0/1 [00:00<?, ?it/s]"
      ]
     },
     "metadata": {},
     "output_type": "display_data"
    },
    {
     "data": {
      "application/vnd.jupyter.widget-view+json": {
       "model_id": "498735861b8c4fb4818a259af02f40c8",
       "version_major": 2,
       "version_minor": 0
      },
      "text/plain": [
       "Batches:   0%|          | 0/1 [00:00<?, ?it/s]"
      ]
     },
     "metadata": {},
     "output_type": "display_data"
    },
    {
     "data": {
      "application/vnd.jupyter.widget-view+json": {
       "model_id": "462dc7b0c3ee4e65a371cef4a07688a0",
       "version_major": 2,
       "version_minor": 0
      },
      "text/plain": [
       "Batches:   0%|          | 0/1 [00:00<?, ?it/s]"
      ]
     },
     "metadata": {},
     "output_type": "display_data"
    },
    {
     "data": {
      "application/vnd.jupyter.widget-view+json": {
       "model_id": "8ea63c01a5bc4c92a107391236494b93",
       "version_major": 2,
       "version_minor": 0
      },
      "text/plain": [
       "Batches:   0%|          | 0/1 [00:00<?, ?it/s]"
      ]
     },
     "metadata": {},
     "output_type": "display_data"
    },
    {
     "data": {
      "application/vnd.jupyter.widget-view+json": {
       "model_id": "7c34e36daf324a8a93b78c82de77c154",
       "version_major": 2,
       "version_minor": 0
      },
      "text/plain": [
       "Batches:   0%|          | 0/1 [00:00<?, ?it/s]"
      ]
     },
     "metadata": {},
     "output_type": "display_data"
    },
    {
     "data": {
      "application/vnd.jupyter.widget-view+json": {
       "model_id": "5d713a38e4474aab8ffd742b49388d57",
       "version_major": 2,
       "version_minor": 0
      },
      "text/plain": [
       "Batches:   0%|          | 0/1 [00:00<?, ?it/s]"
      ]
     },
     "metadata": {},
     "output_type": "display_data"
    },
    {
     "data": {
      "application/vnd.jupyter.widget-view+json": {
       "model_id": "7be44d05863741b08fe7eeb94f293f5d",
       "version_major": 2,
       "version_minor": 0
      },
      "text/plain": [
       "Batches:   0%|          | 0/1 [00:00<?, ?it/s]"
      ]
     },
     "metadata": {},
     "output_type": "display_data"
    },
    {
     "data": {
      "application/vnd.jupyter.widget-view+json": {
       "model_id": "4768ffc0864f4706b0e135dba172eac2",
       "version_major": 2,
       "version_minor": 0
      },
      "text/plain": [
       "Batches:   0%|          | 0/1 [00:00<?, ?it/s]"
      ]
     },
     "metadata": {},
     "output_type": "display_data"
    },
    {
     "data": {
      "application/vnd.jupyter.widget-view+json": {
       "model_id": "ccc65a51589649b09c0516c4dbbdeed5",
       "version_major": 2,
       "version_minor": 0
      },
      "text/plain": [
       "Batches:   0%|          | 0/1 [00:00<?, ?it/s]"
      ]
     },
     "metadata": {},
     "output_type": "display_data"
    },
    {
     "data": {
      "application/vnd.jupyter.widget-view+json": {
       "model_id": "98609642eb4e46c19658eb95f52fb068",
       "version_major": 2,
       "version_minor": 0
      },
      "text/plain": [
       "Batches:   0%|          | 0/1 [00:00<?, ?it/s]"
      ]
     },
     "metadata": {},
     "output_type": "display_data"
    },
    {
     "data": {
      "application/vnd.jupyter.widget-view+json": {
       "model_id": "587b85a4dd134b3aae427645ca7eba41",
       "version_major": 2,
       "version_minor": 0
      },
      "text/plain": [
       "Batches:   0%|          | 0/1 [00:00<?, ?it/s]"
      ]
     },
     "metadata": {},
     "output_type": "display_data"
    },
    {
     "data": {
      "application/vnd.jupyter.widget-view+json": {
       "model_id": "a08c1aa8521f4521961cf2173b9b4d9c",
       "version_major": 2,
       "version_minor": 0
      },
      "text/plain": [
       "Batches:   0%|          | 0/1 [00:00<?, ?it/s]"
      ]
     },
     "metadata": {},
     "output_type": "display_data"
    },
    {
     "data": {
      "application/vnd.jupyter.widget-view+json": {
       "model_id": "bc71a055955d48bebfa469497cd514cb",
       "version_major": 2,
       "version_minor": 0
      },
      "text/plain": [
       "Batches:   0%|          | 0/1 [00:00<?, ?it/s]"
      ]
     },
     "metadata": {},
     "output_type": "display_data"
    },
    {
     "data": {
      "application/vnd.jupyter.widget-view+json": {
       "model_id": "a863764573ac486e97bb036d3881dbe2",
       "version_major": 2,
       "version_minor": 0
      },
      "text/plain": [
       "Batches:   0%|          | 0/1 [00:00<?, ?it/s]"
      ]
     },
     "metadata": {},
     "output_type": "display_data"
    },
    {
     "data": {
      "application/vnd.jupyter.widget-view+json": {
       "model_id": "822aafbb54a34eee8d8c77eaf55b5cf8",
       "version_major": 2,
       "version_minor": 0
      },
      "text/plain": [
       "Batches:   0%|          | 0/1 [00:00<?, ?it/s]"
      ]
     },
     "metadata": {},
     "output_type": "display_data"
    },
    {
     "data": {
      "application/vnd.jupyter.widget-view+json": {
       "model_id": "4dedb69e1dcb41e280e8157f5f055455",
       "version_major": 2,
       "version_minor": 0
      },
      "text/plain": [
       "Batches:   0%|          | 0/1 [00:00<?, ?it/s]"
      ]
     },
     "metadata": {},
     "output_type": "display_data"
    },
    {
     "data": {
      "application/vnd.jupyter.widget-view+json": {
       "model_id": "0ecf725d74634cec848155056d563138",
       "version_major": 2,
       "version_minor": 0
      },
      "text/plain": [
       "Batches:   0%|          | 0/1 [00:00<?, ?it/s]"
      ]
     },
     "metadata": {},
     "output_type": "display_data"
    },
    {
     "data": {
      "application/vnd.jupyter.widget-view+json": {
       "model_id": "00b2648fc8d8423caa6306d505d88ad6",
       "version_major": 2,
       "version_minor": 0
      },
      "text/plain": [
       "Batches:   0%|          | 0/1 [00:00<?, ?it/s]"
      ]
     },
     "metadata": {},
     "output_type": "display_data"
    },
    {
     "data": {
      "application/vnd.jupyter.widget-view+json": {
       "model_id": "bf3ef43f20d54d22b9ec509fb6f56a6d",
       "version_major": 2,
       "version_minor": 0
      },
      "text/plain": [
       "Batches:   0%|          | 0/1 [00:00<?, ?it/s]"
      ]
     },
     "metadata": {},
     "output_type": "display_data"
    },
    {
     "data": {
      "application/vnd.jupyter.widget-view+json": {
       "model_id": "c489a6acd6bc4e6194bb99cb39333dae",
       "version_major": 2,
       "version_minor": 0
      },
      "text/plain": [
       "Batches:   0%|          | 0/1 [00:00<?, ?it/s]"
      ]
     },
     "metadata": {},
     "output_type": "display_data"
    },
    {
     "data": {
      "application/vnd.jupyter.widget-view+json": {
       "model_id": "e4f9d1cd560e4cc787c0160f3f8b7489",
       "version_major": 2,
       "version_minor": 0
      },
      "text/plain": [
       "Batches:   0%|          | 0/1 [00:00<?, ?it/s]"
      ]
     },
     "metadata": {},
     "output_type": "display_data"
    },
    {
     "data": {
      "application/vnd.jupyter.widget-view+json": {
       "model_id": "3e9ae43f2bed4d9f8d79d11efb3cc550",
       "version_major": 2,
       "version_minor": 0
      },
      "text/plain": [
       "Batches:   0%|          | 0/1 [00:00<?, ?it/s]"
      ]
     },
     "metadata": {},
     "output_type": "display_data"
    },
    {
     "data": {
      "application/vnd.jupyter.widget-view+json": {
       "model_id": "9b267794c28f4305ad00e6483ceb9ccc",
       "version_major": 2,
       "version_minor": 0
      },
      "text/plain": [
       "Batches:   0%|          | 0/1 [00:00<?, ?it/s]"
      ]
     },
     "metadata": {},
     "output_type": "display_data"
    },
    {
     "data": {
      "application/vnd.jupyter.widget-view+json": {
       "model_id": "72c19c93f21947fcaf71c8c9b8cc89fe",
       "version_major": 2,
       "version_minor": 0
      },
      "text/plain": [
       "Batches:   0%|          | 0/1 [00:00<?, ?it/s]"
      ]
     },
     "metadata": {},
     "output_type": "display_data"
    },
    {
     "data": {
      "application/vnd.jupyter.widget-view+json": {
       "model_id": "415d21a88526403c8c7a3496a72fa894",
       "version_major": 2,
       "version_minor": 0
      },
      "text/plain": [
       "Batches:   0%|          | 0/1 [00:00<?, ?it/s]"
      ]
     },
     "metadata": {},
     "output_type": "display_data"
    },
    {
     "data": {
      "application/vnd.jupyter.widget-view+json": {
       "model_id": "7c18a4967c5d46a4be7f880d0e126751",
       "version_major": 2,
       "version_minor": 0
      },
      "text/plain": [
       "Batches:   0%|          | 0/1 [00:00<?, ?it/s]"
      ]
     },
     "metadata": {},
     "output_type": "display_data"
    },
    {
     "data": {
      "application/vnd.jupyter.widget-view+json": {
       "model_id": "384d0978f1564717980fb0ce5e8f9c79",
       "version_major": 2,
       "version_minor": 0
      },
      "text/plain": [
       "Batches:   0%|          | 0/1 [00:00<?, ?it/s]"
      ]
     },
     "metadata": {},
     "output_type": "display_data"
    },
    {
     "data": {
      "application/vnd.jupyter.widget-view+json": {
       "model_id": "61fb93e0d70b42fea3fb98e98b89cb57",
       "version_major": 2,
       "version_minor": 0
      },
      "text/plain": [
       "Batches:   0%|          | 0/1 [00:00<?, ?it/s]"
      ]
     },
     "metadata": {},
     "output_type": "display_data"
    },
    {
     "data": {
      "application/vnd.jupyter.widget-view+json": {
       "model_id": "7e4db89c51624df88a56bc5d349c4b8e",
       "version_major": 2,
       "version_minor": 0
      },
      "text/plain": [
       "Batches:   0%|          | 0/1 [00:00<?, ?it/s]"
      ]
     },
     "metadata": {},
     "output_type": "display_data"
    },
    {
     "data": {
      "application/vnd.jupyter.widget-view+json": {
       "model_id": "675e5a3bbee141daa385930c12acfc5c",
       "version_major": 2,
       "version_minor": 0
      },
      "text/plain": [
       "Batches:   0%|          | 0/1 [00:00<?, ?it/s]"
      ]
     },
     "metadata": {},
     "output_type": "display_data"
    },
    {
     "data": {
      "application/vnd.jupyter.widget-view+json": {
       "model_id": "09192ece3d4b472e9dbdafd3268b9348",
       "version_major": 2,
       "version_minor": 0
      },
      "text/plain": [
       "Batches:   0%|          | 0/1 [00:00<?, ?it/s]"
      ]
     },
     "metadata": {},
     "output_type": "display_data"
    },
    {
     "data": {
      "application/vnd.jupyter.widget-view+json": {
       "model_id": "229cd6fd56f14e51ba86068e51c55a26",
       "version_major": 2,
       "version_minor": 0
      },
      "text/plain": [
       "Batches:   0%|          | 0/1 [00:00<?, ?it/s]"
      ]
     },
     "metadata": {},
     "output_type": "display_data"
    },
    {
     "data": {
      "application/vnd.jupyter.widget-view+json": {
       "model_id": "27821645bcce4233b5e06783768d3675",
       "version_major": 2,
       "version_minor": 0
      },
      "text/plain": [
       "Batches:   0%|          | 0/1 [00:00<?, ?it/s]"
      ]
     },
     "metadata": {},
     "output_type": "display_data"
    },
    {
     "data": {
      "application/vnd.jupyter.widget-view+json": {
       "model_id": "1fec2b649dcd478eaf63604ac6bc2218",
       "version_major": 2,
       "version_minor": 0
      },
      "text/plain": [
       "Batches:   0%|          | 0/1 [00:00<?, ?it/s]"
      ]
     },
     "metadata": {},
     "output_type": "display_data"
    },
    {
     "data": {
      "application/vnd.jupyter.widget-view+json": {
       "model_id": "32a5d64b237a4160864bf96174db41a3",
       "version_major": 2,
       "version_minor": 0
      },
      "text/plain": [
       "Batches:   0%|          | 0/1 [00:00<?, ?it/s]"
      ]
     },
     "metadata": {},
     "output_type": "display_data"
    },
    {
     "data": {
      "application/vnd.jupyter.widget-view+json": {
       "model_id": "21ad4ce413f54489977798f217d34ed9",
       "version_major": 2,
       "version_minor": 0
      },
      "text/plain": [
       "Batches:   0%|          | 0/1 [00:00<?, ?it/s]"
      ]
     },
     "metadata": {},
     "output_type": "display_data"
    },
    {
     "data": {
      "application/vnd.jupyter.widget-view+json": {
       "model_id": "d84d6687eddc4607bfc0f5985fb544c4",
       "version_major": 2,
       "version_minor": 0
      },
      "text/plain": [
       "Batches:   0%|          | 0/1 [00:00<?, ?it/s]"
      ]
     },
     "metadata": {},
     "output_type": "display_data"
    },
    {
     "data": {
      "application/vnd.jupyter.widget-view+json": {
       "model_id": "0f0ef327848c46d6aaf0ee3df8848e61",
       "version_major": 2,
       "version_minor": 0
      },
      "text/plain": [
       "Batches:   0%|          | 0/1 [00:00<?, ?it/s]"
      ]
     },
     "metadata": {},
     "output_type": "display_data"
    },
    {
     "data": {
      "application/vnd.jupyter.widget-view+json": {
       "model_id": "94844961dfff48d693ae16973027ec7e",
       "version_major": 2,
       "version_minor": 0
      },
      "text/plain": [
       "Batches:   0%|          | 0/1 [00:00<?, ?it/s]"
      ]
     },
     "metadata": {},
     "output_type": "display_data"
    },
    {
     "data": {
      "application/vnd.jupyter.widget-view+json": {
       "model_id": "8220c76bdb0d441886cddead9457a085",
       "version_major": 2,
       "version_minor": 0
      },
      "text/plain": [
       "Batches:   0%|          | 0/1 [00:00<?, ?it/s]"
      ]
     },
     "metadata": {},
     "output_type": "display_data"
    },
    {
     "data": {
      "application/vnd.jupyter.widget-view+json": {
       "model_id": "a0a21e9315194ea89ba78a5366503149",
       "version_major": 2,
       "version_minor": 0
      },
      "text/plain": [
       "Batches:   0%|          | 0/1 [00:00<?, ?it/s]"
      ]
     },
     "metadata": {},
     "output_type": "display_data"
    },
    {
     "data": {
      "application/vnd.jupyter.widget-view+json": {
       "model_id": "1957241b1736461086004cc052e91ede",
       "version_major": 2,
       "version_minor": 0
      },
      "text/plain": [
       "Batches:   0%|          | 0/1 [00:00<?, ?it/s]"
      ]
     },
     "metadata": {},
     "output_type": "display_data"
    },
    {
     "data": {
      "application/vnd.jupyter.widget-view+json": {
       "model_id": "3b695127f75b46f0b6ccc0ea8cb8b78b",
       "version_major": 2,
       "version_minor": 0
      },
      "text/plain": [
       "Batches:   0%|          | 0/1 [00:00<?, ?it/s]"
      ]
     },
     "metadata": {},
     "output_type": "display_data"
    },
    {
     "data": {
      "application/vnd.jupyter.widget-view+json": {
       "model_id": "f40d04a6ad484d88a59599e1ffebbf6e",
       "version_major": 2,
       "version_minor": 0
      },
      "text/plain": [
       "Batches:   0%|          | 0/1 [00:00<?, ?it/s]"
      ]
     },
     "metadata": {},
     "output_type": "display_data"
    },
    {
     "data": {
      "application/vnd.jupyter.widget-view+json": {
       "model_id": "072534ce64ed4be19cdb3da6c56908e1",
       "version_major": 2,
       "version_minor": 0
      },
      "text/plain": [
       "Batches:   0%|          | 0/1 [00:00<?, ?it/s]"
      ]
     },
     "metadata": {},
     "output_type": "display_data"
    },
    {
     "data": {
      "application/vnd.jupyter.widget-view+json": {
       "model_id": "d5e17d2a3a3f48e89fd1d84dd06f70cb",
       "version_major": 2,
       "version_minor": 0
      },
      "text/plain": [
       "Batches:   0%|          | 0/1 [00:00<?, ?it/s]"
      ]
     },
     "metadata": {},
     "output_type": "display_data"
    },
    {
     "data": {
      "application/vnd.jupyter.widget-view+json": {
       "model_id": "93883a4ac84440d4bbd1986f73ff6639",
       "version_major": 2,
       "version_minor": 0
      },
      "text/plain": [
       "Batches:   0%|          | 0/1 [00:00<?, ?it/s]"
      ]
     },
     "metadata": {},
     "output_type": "display_data"
    },
    {
     "data": {
      "application/vnd.jupyter.widget-view+json": {
       "model_id": "eabae896c4174fd5af473386257c2d9b",
       "version_major": 2,
       "version_minor": 0
      },
      "text/plain": [
       "Batches:   0%|          | 0/1 [00:00<?, ?it/s]"
      ]
     },
     "metadata": {},
     "output_type": "display_data"
    },
    {
     "data": {
      "application/vnd.jupyter.widget-view+json": {
       "model_id": "85f583b6f630473baec492633f9724a5",
       "version_major": 2,
       "version_minor": 0
      },
      "text/plain": [
       "Batches:   0%|          | 0/1 [00:00<?, ?it/s]"
      ]
     },
     "metadata": {},
     "output_type": "display_data"
    },
    {
     "data": {
      "application/vnd.jupyter.widget-view+json": {
       "model_id": "bd700297d8734c389277752b740e92ba",
       "version_major": 2,
       "version_minor": 0
      },
      "text/plain": [
       "Batches:   0%|          | 0/1 [00:00<?, ?it/s]"
      ]
     },
     "metadata": {},
     "output_type": "display_data"
    },
    {
     "data": {
      "application/vnd.jupyter.widget-view+json": {
       "model_id": "a220a5adfbab494799e63208446be7fe",
       "version_major": 2,
       "version_minor": 0
      },
      "text/plain": [
       "Batches:   0%|          | 0/1 [00:00<?, ?it/s]"
      ]
     },
     "metadata": {},
     "output_type": "display_data"
    },
    {
     "data": {
      "application/vnd.jupyter.widget-view+json": {
       "model_id": "3b7fb136a5844302bf738b7e4d971a30",
       "version_major": 2,
       "version_minor": 0
      },
      "text/plain": [
       "Batches:   0%|          | 0/1 [00:00<?, ?it/s]"
      ]
     },
     "metadata": {},
     "output_type": "display_data"
    },
    {
     "data": {
      "application/vnd.jupyter.widget-view+json": {
       "model_id": "5a0c74dc6509400dbe37dc3a853568dd",
       "version_major": 2,
       "version_minor": 0
      },
      "text/plain": [
       "Batches:   0%|          | 0/1 [00:00<?, ?it/s]"
      ]
     },
     "metadata": {},
     "output_type": "display_data"
    },
    {
     "data": {
      "application/vnd.jupyter.widget-view+json": {
       "model_id": "91914196f93c4238be5edb8c5059432b",
       "version_major": 2,
       "version_minor": 0
      },
      "text/plain": [
       "Batches:   0%|          | 0/1 [00:00<?, ?it/s]"
      ]
     },
     "metadata": {},
     "output_type": "display_data"
    },
    {
     "data": {
      "application/vnd.jupyter.widget-view+json": {
       "model_id": "ba297cef3fb847918d8da5d3cc96d9ab",
       "version_major": 2,
       "version_minor": 0
      },
      "text/plain": [
       "Batches:   0%|          | 0/1 [00:00<?, ?it/s]"
      ]
     },
     "metadata": {},
     "output_type": "display_data"
    },
    {
     "data": {
      "application/vnd.jupyter.widget-view+json": {
       "model_id": "bc387ab492b54e3fb9ed6e4c0b34d27a",
       "version_major": 2,
       "version_minor": 0
      },
      "text/plain": [
       "Batches:   0%|          | 0/1 [00:00<?, ?it/s]"
      ]
     },
     "metadata": {},
     "output_type": "display_data"
    },
    {
     "data": {
      "application/vnd.jupyter.widget-view+json": {
       "model_id": "072b0e7893d84eeeb01cef680b68b5cc",
       "version_major": 2,
       "version_minor": 0
      },
      "text/plain": [
       "Batches:   0%|          | 0/1 [00:00<?, ?it/s]"
      ]
     },
     "metadata": {},
     "output_type": "display_data"
    },
    {
     "data": {
      "application/vnd.jupyter.widget-view+json": {
       "model_id": "256aa96723494000926d0355d102fc5f",
       "version_major": 2,
       "version_minor": 0
      },
      "text/plain": [
       "Batches:   0%|          | 0/1 [00:00<?, ?it/s]"
      ]
     },
     "metadata": {},
     "output_type": "display_data"
    },
    {
     "data": {
      "application/vnd.jupyter.widget-view+json": {
       "model_id": "cb732d0dcfe0466e929e2f9f85ca1666",
       "version_major": 2,
       "version_minor": 0
      },
      "text/plain": [
       "Batches:   0%|          | 0/1 [00:00<?, ?it/s]"
      ]
     },
     "metadata": {},
     "output_type": "display_data"
    },
    {
     "data": {
      "application/vnd.jupyter.widget-view+json": {
       "model_id": "69b99afa5ada4a6ba46d669d896a3d3b",
       "version_major": 2,
       "version_minor": 0
      },
      "text/plain": [
       "Batches:   0%|          | 0/1 [00:00<?, ?it/s]"
      ]
     },
     "metadata": {},
     "output_type": "display_data"
    },
    {
     "data": {
      "application/vnd.jupyter.widget-view+json": {
       "model_id": "ecae6cdf85234e76be6e5d7cbd5bfaed",
       "version_major": 2,
       "version_minor": 0
      },
      "text/plain": [
       "Batches:   0%|          | 0/1 [00:00<?, ?it/s]"
      ]
     },
     "metadata": {},
     "output_type": "display_data"
    },
    {
     "data": {
      "application/vnd.jupyter.widget-view+json": {
       "model_id": "5e100923bbc34c47991717fa292d71ed",
       "version_major": 2,
       "version_minor": 0
      },
      "text/plain": [
       "Batches:   0%|          | 0/1 [00:00<?, ?it/s]"
      ]
     },
     "metadata": {},
     "output_type": "display_data"
    },
    {
     "data": {
      "application/vnd.jupyter.widget-view+json": {
       "model_id": "1f00841975b14ce9a62e4d9278e7a542",
       "version_major": 2,
       "version_minor": 0
      },
      "text/plain": [
       "Batches:   0%|          | 0/1 [00:00<?, ?it/s]"
      ]
     },
     "metadata": {},
     "output_type": "display_data"
    },
    {
     "data": {
      "application/vnd.jupyter.widget-view+json": {
       "model_id": "e3bf51d485284d7390e4e90ac18ee657",
       "version_major": 2,
       "version_minor": 0
      },
      "text/plain": [
       "Batches:   0%|          | 0/1 [00:00<?, ?it/s]"
      ]
     },
     "metadata": {},
     "output_type": "display_data"
    },
    {
     "data": {
      "application/vnd.jupyter.widget-view+json": {
       "model_id": "3e2bb44d86ee4ea8b26af42fbd8960fc",
       "version_major": 2,
       "version_minor": 0
      },
      "text/plain": [
       "Batches:   0%|          | 0/1 [00:00<?, ?it/s]"
      ]
     },
     "metadata": {},
     "output_type": "display_data"
    },
    {
     "data": {
      "application/vnd.jupyter.widget-view+json": {
       "model_id": "ce8f46adf3bc4b28b51035abcc59379d",
       "version_major": 2,
       "version_minor": 0
      },
      "text/plain": [
       "Batches:   0%|          | 0/1 [00:00<?, ?it/s]"
      ]
     },
     "metadata": {},
     "output_type": "display_data"
    },
    {
     "data": {
      "application/vnd.jupyter.widget-view+json": {
       "model_id": "c70e18e4de3841e4a24f2bf7d2d50f49",
       "version_major": 2,
       "version_minor": 0
      },
      "text/plain": [
       "Batches:   0%|          | 0/1 [00:00<?, ?it/s]"
      ]
     },
     "metadata": {},
     "output_type": "display_data"
    },
    {
     "data": {
      "application/vnd.jupyter.widget-view+json": {
       "model_id": "54ae9af6370549e9b767e1f2d0db8365",
       "version_major": 2,
       "version_minor": 0
      },
      "text/plain": [
       "Batches:   0%|          | 0/1 [00:00<?, ?it/s]"
      ]
     },
     "metadata": {},
     "output_type": "display_data"
    },
    {
     "data": {
      "application/vnd.jupyter.widget-view+json": {
       "model_id": "2920125dcf484506bba041eea12d6b45",
       "version_major": 2,
       "version_minor": 0
      },
      "text/plain": [
       "Batches:   0%|          | 0/1 [00:00<?, ?it/s]"
      ]
     },
     "metadata": {},
     "output_type": "display_data"
    },
    {
     "data": {
      "application/vnd.jupyter.widget-view+json": {
       "model_id": "980eb964704f4abfaa46b24086095cf4",
       "version_major": 2,
       "version_minor": 0
      },
      "text/plain": [
       "Batches:   0%|          | 0/1 [00:00<?, ?it/s]"
      ]
     },
     "metadata": {},
     "output_type": "display_data"
    },
    {
     "data": {
      "application/vnd.jupyter.widget-view+json": {
       "model_id": "e8e083d426f6491885c553fda1eaa4ec",
       "version_major": 2,
       "version_minor": 0
      },
      "text/plain": [
       "Batches:   0%|          | 0/1 [00:00<?, ?it/s]"
      ]
     },
     "metadata": {},
     "output_type": "display_data"
    },
    {
     "data": {
      "application/vnd.jupyter.widget-view+json": {
       "model_id": "f391b7b45e604c56802c283274b2f8eb",
       "version_major": 2,
       "version_minor": 0
      },
      "text/plain": [
       "Batches:   0%|          | 0/1 [00:00<?, ?it/s]"
      ]
     },
     "metadata": {},
     "output_type": "display_data"
    },
    {
     "data": {
      "application/vnd.jupyter.widget-view+json": {
       "model_id": "24b59b4592944ed2b2f0f821d0442168",
       "version_major": 2,
       "version_minor": 0
      },
      "text/plain": [
       "Batches:   0%|          | 0/1 [00:00<?, ?it/s]"
      ]
     },
     "metadata": {},
     "output_type": "display_data"
    },
    {
     "data": {
      "application/vnd.jupyter.widget-view+json": {
       "model_id": "4aa0e35e93464ca6b10783c1635c7f25",
       "version_major": 2,
       "version_minor": 0
      },
      "text/plain": [
       "Batches:   0%|          | 0/1 [00:00<?, ?it/s]"
      ]
     },
     "metadata": {},
     "output_type": "display_data"
    },
    {
     "data": {
      "application/vnd.jupyter.widget-view+json": {
       "model_id": "3a263f2bdb1e4210a7a9735cde449640",
       "version_major": 2,
       "version_minor": 0
      },
      "text/plain": [
       "Batches:   0%|          | 0/1 [00:00<?, ?it/s]"
      ]
     },
     "metadata": {},
     "output_type": "display_data"
    },
    {
     "data": {
      "application/vnd.jupyter.widget-view+json": {
       "model_id": "cd50dab82be94036857c3d085f715172",
       "version_major": 2,
       "version_minor": 0
      },
      "text/plain": [
       "Batches:   0%|          | 0/1 [00:00<?, ?it/s]"
      ]
     },
     "metadata": {},
     "output_type": "display_data"
    },
    {
     "data": {
      "application/vnd.jupyter.widget-view+json": {
       "model_id": "445c69e7d0d94a68a03ffd2c73bc48b1",
       "version_major": 2,
       "version_minor": 0
      },
      "text/plain": [
       "Batches:   0%|          | 0/1 [00:00<?, ?it/s]"
      ]
     },
     "metadata": {},
     "output_type": "display_data"
    },
    {
     "data": {
      "application/vnd.jupyter.widget-view+json": {
       "model_id": "04c1d6fea8b54c0598c4a2f14a0b3621",
       "version_major": 2,
       "version_minor": 0
      },
      "text/plain": [
       "Batches:   0%|          | 0/1 [00:00<?, ?it/s]"
      ]
     },
     "metadata": {},
     "output_type": "display_data"
    },
    {
     "data": {
      "application/vnd.jupyter.widget-view+json": {
       "model_id": "9059cebd2b704335a54b487f24b645bd",
       "version_major": 2,
       "version_minor": 0
      },
      "text/plain": [
       "Batches:   0%|          | 0/1 [00:00<?, ?it/s]"
      ]
     },
     "metadata": {},
     "output_type": "display_data"
    },
    {
     "data": {
      "application/vnd.jupyter.widget-view+json": {
       "model_id": "52196ff8496440428e5ece7e3b819273",
       "version_major": 2,
       "version_minor": 0
      },
      "text/plain": [
       "Batches:   0%|          | 0/1 [00:00<?, ?it/s]"
      ]
     },
     "metadata": {},
     "output_type": "display_data"
    },
    {
     "data": {
      "application/vnd.jupyter.widget-view+json": {
       "model_id": "bb6cb27a5b0b4be29e25654e5047b91f",
       "version_major": 2,
       "version_minor": 0
      },
      "text/plain": [
       "Batches:   0%|          | 0/1 [00:00<?, ?it/s]"
      ]
     },
     "metadata": {},
     "output_type": "display_data"
    },
    {
     "data": {
      "application/vnd.jupyter.widget-view+json": {
       "model_id": "0adf2b6c7db94032b085a89d68bccb26",
       "version_major": 2,
       "version_minor": 0
      },
      "text/plain": [
       "Batches:   0%|          | 0/1 [00:00<?, ?it/s]"
      ]
     },
     "metadata": {},
     "output_type": "display_data"
    },
    {
     "data": {
      "application/vnd.jupyter.widget-view+json": {
       "model_id": "6a971a8549e8456e8468ebacfc79e0c2",
       "version_major": 2,
       "version_minor": 0
      },
      "text/plain": [
       "Batches:   0%|          | 0/1 [00:00<?, ?it/s]"
      ]
     },
     "metadata": {},
     "output_type": "display_data"
    },
    {
     "data": {
      "application/vnd.jupyter.widget-view+json": {
       "model_id": "7fa1f9252c244616939b1594e94ac074",
       "version_major": 2,
       "version_minor": 0
      },
      "text/plain": [
       "Batches:   0%|          | 0/1 [00:00<?, ?it/s]"
      ]
     },
     "metadata": {},
     "output_type": "display_data"
    },
    {
     "data": {
      "application/vnd.jupyter.widget-view+json": {
       "model_id": "4f2e5c6a79f045e0b58f23add6133198",
       "version_major": 2,
       "version_minor": 0
      },
      "text/plain": [
       "Batches:   0%|          | 0/1 [00:00<?, ?it/s]"
      ]
     },
     "metadata": {},
     "output_type": "display_data"
    },
    {
     "data": {
      "application/vnd.jupyter.widget-view+json": {
       "model_id": "a2517d08d3144042a2a6878d1a4f494c",
       "version_major": 2,
       "version_minor": 0
      },
      "text/plain": [
       "Batches:   0%|          | 0/1 [00:00<?, ?it/s]"
      ]
     },
     "metadata": {},
     "output_type": "display_data"
    },
    {
     "data": {
      "application/vnd.jupyter.widget-view+json": {
       "model_id": "8a0041050aeb40ee98f718a7b381ca90",
       "version_major": 2,
       "version_minor": 0
      },
      "text/plain": [
       "Batches:   0%|          | 0/1 [00:00<?, ?it/s]"
      ]
     },
     "metadata": {},
     "output_type": "display_data"
    },
    {
     "data": {
      "application/vnd.jupyter.widget-view+json": {
       "model_id": "69fef87895dc4fe3b582c534952d426e",
       "version_major": 2,
       "version_minor": 0
      },
      "text/plain": [
       "Batches:   0%|          | 0/1 [00:00<?, ?it/s]"
      ]
     },
     "metadata": {},
     "output_type": "display_data"
    },
    {
     "data": {
      "application/vnd.jupyter.widget-view+json": {
       "model_id": "4acc791182354ecf81b0edbf06c29918",
       "version_major": 2,
       "version_minor": 0
      },
      "text/plain": [
       "Batches:   0%|          | 0/1 [00:00<?, ?it/s]"
      ]
     },
     "metadata": {},
     "output_type": "display_data"
    },
    {
     "data": {
      "application/vnd.jupyter.widget-view+json": {
       "model_id": "4cea7578155a4cfcb9e331e3d96d0391",
       "version_major": 2,
       "version_minor": 0
      },
      "text/plain": [
       "Batches:   0%|          | 0/1 [00:00<?, ?it/s]"
      ]
     },
     "metadata": {},
     "output_type": "display_data"
    },
    {
     "data": {
      "application/vnd.jupyter.widget-view+json": {
       "model_id": "6a8dd87c9d484f96bfece2172401af20",
       "version_major": 2,
       "version_minor": 0
      },
      "text/plain": [
       "Batches:   0%|          | 0/1 [00:00<?, ?it/s]"
      ]
     },
     "metadata": {},
     "output_type": "display_data"
    },
    {
     "data": {
      "application/vnd.jupyter.widget-view+json": {
       "model_id": "14d660dabef04ff2877bc4ae29764406",
       "version_major": 2,
       "version_minor": 0
      },
      "text/plain": [
       "Batches:   0%|          | 0/1 [00:00<?, ?it/s]"
      ]
     },
     "metadata": {},
     "output_type": "display_data"
    },
    {
     "data": {
      "application/vnd.jupyter.widget-view+json": {
       "model_id": "32951f4b78b64e67bf70e6b73fd4fb4f",
       "version_major": 2,
       "version_minor": 0
      },
      "text/plain": [
       "Batches:   0%|          | 0/1 [00:00<?, ?it/s]"
      ]
     },
     "metadata": {},
     "output_type": "display_data"
    },
    {
     "data": {
      "application/vnd.jupyter.widget-view+json": {
       "model_id": "70293dd6a6b94b3abae84a57bb247d20",
       "version_major": 2,
       "version_minor": 0
      },
      "text/plain": [
       "Batches:   0%|          | 0/1 [00:00<?, ?it/s]"
      ]
     },
     "metadata": {},
     "output_type": "display_data"
    },
    {
     "data": {
      "application/vnd.jupyter.widget-view+json": {
       "model_id": "caabaa5f5d9d4bf6afea3fe57c2698de",
       "version_major": 2,
       "version_minor": 0
      },
      "text/plain": [
       "Batches:   0%|          | 0/1 [00:00<?, ?it/s]"
      ]
     },
     "metadata": {},
     "output_type": "display_data"
    },
    {
     "data": {
      "application/vnd.jupyter.widget-view+json": {
       "model_id": "0945d3e6f2634558badd14ab9b1388fc",
       "version_major": 2,
       "version_minor": 0
      },
      "text/plain": [
       "Batches:   0%|          | 0/1 [00:00<?, ?it/s]"
      ]
     },
     "metadata": {},
     "output_type": "display_data"
    },
    {
     "data": {
      "application/vnd.jupyter.widget-view+json": {
       "model_id": "a6f2d7ca9bf34bdd9b0410b75f80e0b1",
       "version_major": 2,
       "version_minor": 0
      },
      "text/plain": [
       "Batches:   0%|          | 0/1 [00:00<?, ?it/s]"
      ]
     },
     "metadata": {},
     "output_type": "display_data"
    },
    {
     "data": {
      "application/vnd.jupyter.widget-view+json": {
       "model_id": "e17112335ffc4d06a8ebb525f49256ab",
       "version_major": 2,
       "version_minor": 0
      },
      "text/plain": [
       "Batches:   0%|          | 0/1 [00:00<?, ?it/s]"
      ]
     },
     "metadata": {},
     "output_type": "display_data"
    },
    {
     "data": {
      "application/vnd.jupyter.widget-view+json": {
       "model_id": "9cfb7871cb524f0081975767c7345526",
       "version_major": 2,
       "version_minor": 0
      },
      "text/plain": [
       "Batches:   0%|          | 0/1 [00:00<?, ?it/s]"
      ]
     },
     "metadata": {},
     "output_type": "display_data"
    },
    {
     "data": {
      "application/vnd.jupyter.widget-view+json": {
       "model_id": "6cfd7d9173934ac5aff8189cdceb82bb",
       "version_major": 2,
       "version_minor": 0
      },
      "text/plain": [
       "Batches:   0%|          | 0/1 [00:00<?, ?it/s]"
      ]
     },
     "metadata": {},
     "output_type": "display_data"
    },
    {
     "data": {
      "application/vnd.jupyter.widget-view+json": {
       "model_id": "0d539da4be0c4597be6eaf8fb02ad606",
       "version_major": 2,
       "version_minor": 0
      },
      "text/plain": [
       "Batches:   0%|          | 0/1 [00:00<?, ?it/s]"
      ]
     },
     "metadata": {},
     "output_type": "display_data"
    },
    {
     "data": {
      "application/vnd.jupyter.widget-view+json": {
       "model_id": "51baa244bb4049519a832d1d0835c221",
       "version_major": 2,
       "version_minor": 0
      },
      "text/plain": [
       "Batches:   0%|          | 0/1 [00:00<?, ?it/s]"
      ]
     },
     "metadata": {},
     "output_type": "display_data"
    },
    {
     "data": {
      "application/vnd.jupyter.widget-view+json": {
       "model_id": "0ecc0fb5aa04404c8adc555a9656e577",
       "version_major": 2,
       "version_minor": 0
      },
      "text/plain": [
       "Batches:   0%|          | 0/1 [00:00<?, ?it/s]"
      ]
     },
     "metadata": {},
     "output_type": "display_data"
    },
    {
     "data": {
      "application/vnd.jupyter.widget-view+json": {
       "model_id": "65258dd6eb8f4860b8645336af558eb8",
       "version_major": 2,
       "version_minor": 0
      },
      "text/plain": [
       "Batches:   0%|          | 0/1 [00:00<?, ?it/s]"
      ]
     },
     "metadata": {},
     "output_type": "display_data"
    },
    {
     "data": {
      "application/vnd.jupyter.widget-view+json": {
       "model_id": "b1c3549384a6440f9c07b3ad64329e23",
       "version_major": 2,
       "version_minor": 0
      },
      "text/plain": [
       "Batches:   0%|          | 0/1 [00:00<?, ?it/s]"
      ]
     },
     "metadata": {},
     "output_type": "display_data"
    },
    {
     "data": {
      "application/vnd.jupyter.widget-view+json": {
       "model_id": "5ec348d8605940ed8545927e4020bc83",
       "version_major": 2,
       "version_minor": 0
      },
      "text/plain": [
       "Batches:   0%|          | 0/1 [00:00<?, ?it/s]"
      ]
     },
     "metadata": {},
     "output_type": "display_data"
    },
    {
     "data": {
      "application/vnd.jupyter.widget-view+json": {
       "model_id": "99010b1b6b9042d8abb402d099f95b51",
       "version_major": 2,
       "version_minor": 0
      },
      "text/plain": [
       "Batches:   0%|          | 0/1 [00:00<?, ?it/s]"
      ]
     },
     "metadata": {},
     "output_type": "display_data"
    },
    {
     "data": {
      "application/vnd.jupyter.widget-view+json": {
       "model_id": "81be4d739bdb4c6f99bd74e6f67fe5e8",
       "version_major": 2,
       "version_minor": 0
      },
      "text/plain": [
       "Batches:   0%|          | 0/1 [00:00<?, ?it/s]"
      ]
     },
     "metadata": {},
     "output_type": "display_data"
    },
    {
     "data": {
      "application/vnd.jupyter.widget-view+json": {
       "model_id": "90e0c23609f446c0b8a14f3b0d1ea360",
       "version_major": 2,
       "version_minor": 0
      },
      "text/plain": [
       "Batches:   0%|          | 0/1 [00:00<?, ?it/s]"
      ]
     },
     "metadata": {},
     "output_type": "display_data"
    },
    {
     "data": {
      "application/vnd.jupyter.widget-view+json": {
       "model_id": "b9c858618ab741f899ecc276ee6414b5",
       "version_major": 2,
       "version_minor": 0
      },
      "text/plain": [
       "Batches:   0%|          | 0/1 [00:00<?, ?it/s]"
      ]
     },
     "metadata": {},
     "output_type": "display_data"
    },
    {
     "data": {
      "application/vnd.jupyter.widget-view+json": {
       "model_id": "814f7fcebf584fef8afc898db0f986a2",
       "version_major": 2,
       "version_minor": 0
      },
      "text/plain": [
       "Batches:   0%|          | 0/1 [00:00<?, ?it/s]"
      ]
     },
     "metadata": {},
     "output_type": "display_data"
    },
    {
     "data": {
      "application/vnd.jupyter.widget-view+json": {
       "model_id": "1ff3f2a85dfd41e0954566923e528f9d",
       "version_major": 2,
       "version_minor": 0
      },
      "text/plain": [
       "Batches:   0%|          | 0/1 [00:00<?, ?it/s]"
      ]
     },
     "metadata": {},
     "output_type": "display_data"
    },
    {
     "data": {
      "application/vnd.jupyter.widget-view+json": {
       "model_id": "918ccadd7be140bfb43dbde603852fc3",
       "version_major": 2,
       "version_minor": 0
      },
      "text/plain": [
       "Batches:   0%|          | 0/1 [00:00<?, ?it/s]"
      ]
     },
     "metadata": {},
     "output_type": "display_data"
    },
    {
     "data": {
      "application/vnd.jupyter.widget-view+json": {
       "model_id": "8e79e541bdf348909b67ed8492b436e6",
       "version_major": 2,
       "version_minor": 0
      },
      "text/plain": [
       "Batches:   0%|          | 0/1 [00:00<?, ?it/s]"
      ]
     },
     "metadata": {},
     "output_type": "display_data"
    },
    {
     "data": {
      "application/vnd.jupyter.widget-view+json": {
       "model_id": "8f1c7cc525e54004a4948f529c8fbebc",
       "version_major": 2,
       "version_minor": 0
      },
      "text/plain": [
       "Batches:   0%|          | 0/1 [00:00<?, ?it/s]"
      ]
     },
     "metadata": {},
     "output_type": "display_data"
    },
    {
     "data": {
      "application/vnd.jupyter.widget-view+json": {
       "model_id": "7b1086e688d049a4805a54914e0810d4",
       "version_major": 2,
       "version_minor": 0
      },
      "text/plain": [
       "Batches:   0%|          | 0/1 [00:00<?, ?it/s]"
      ]
     },
     "metadata": {},
     "output_type": "display_data"
    },
    {
     "data": {
      "application/vnd.jupyter.widget-view+json": {
       "model_id": "5a7998f5e50748df82fd3b6ec3c4652a",
       "version_major": 2,
       "version_minor": 0
      },
      "text/plain": [
       "Batches:   0%|          | 0/1 [00:00<?, ?it/s]"
      ]
     },
     "metadata": {},
     "output_type": "display_data"
    },
    {
     "data": {
      "application/vnd.jupyter.widget-view+json": {
       "model_id": "ddf7eaa60fb948a8a4e2674a82588e66",
       "version_major": 2,
       "version_minor": 0
      },
      "text/plain": [
       "Batches:   0%|          | 0/1 [00:00<?, ?it/s]"
      ]
     },
     "metadata": {},
     "output_type": "display_data"
    },
    {
     "data": {
      "application/vnd.jupyter.widget-view+json": {
       "model_id": "9ff8cb90eb264088948ed0ea6524ea86",
       "version_major": 2,
       "version_minor": 0
      },
      "text/plain": [
       "Batches:   0%|          | 0/1 [00:00<?, ?it/s]"
      ]
     },
     "metadata": {},
     "output_type": "display_data"
    },
    {
     "data": {
      "application/vnd.jupyter.widget-view+json": {
       "model_id": "ede2769f77984e0baf9afa260cf1c26a",
       "version_major": 2,
       "version_minor": 0
      },
      "text/plain": [
       "Batches:   0%|          | 0/1 [00:00<?, ?it/s]"
      ]
     },
     "metadata": {},
     "output_type": "display_data"
    },
    {
     "data": {
      "application/vnd.jupyter.widget-view+json": {
       "model_id": "fc1bbb4cc9bf4a7abf42fdd0909d8802",
       "version_major": 2,
       "version_minor": 0
      },
      "text/plain": [
       "Batches:   0%|          | 0/1 [00:00<?, ?it/s]"
      ]
     },
     "metadata": {},
     "output_type": "display_data"
    },
    {
     "data": {
      "application/vnd.jupyter.widget-view+json": {
       "model_id": "f18a25d43c364783954b2d2b9fc23c0c",
       "version_major": 2,
       "version_minor": 0
      },
      "text/plain": [
       "Batches:   0%|          | 0/1 [00:00<?, ?it/s]"
      ]
     },
     "metadata": {},
     "output_type": "display_data"
    },
    {
     "data": {
      "application/vnd.jupyter.widget-view+json": {
       "model_id": "1d3b4ab5eec04c71b06dccadd168a032",
       "version_major": 2,
       "version_minor": 0
      },
      "text/plain": [
       "Batches:   0%|          | 0/1 [00:00<?, ?it/s]"
      ]
     },
     "metadata": {},
     "output_type": "display_data"
    },
    {
     "data": {
      "application/vnd.jupyter.widget-view+json": {
       "model_id": "e3467b8fb846440ca84a1ef61eb4d233",
       "version_major": 2,
       "version_minor": 0
      },
      "text/plain": [
       "Batches:   0%|          | 0/1 [00:00<?, ?it/s]"
      ]
     },
     "metadata": {},
     "output_type": "display_data"
    },
    {
     "data": {
      "application/vnd.jupyter.widget-view+json": {
       "model_id": "14343abb90a2477c91adc92ad14a6aab",
       "version_major": 2,
       "version_minor": 0
      },
      "text/plain": [
       "Batches:   0%|          | 0/1 [00:00<?, ?it/s]"
      ]
     },
     "metadata": {},
     "output_type": "display_data"
    },
    {
     "data": {
      "application/vnd.jupyter.widget-view+json": {
       "model_id": "05710af49d834f189a72f0b85242872a",
       "version_major": 2,
       "version_minor": 0
      },
      "text/plain": [
       "Batches:   0%|          | 0/1 [00:00<?, ?it/s]"
      ]
     },
     "metadata": {},
     "output_type": "display_data"
    },
    {
     "data": {
      "application/vnd.jupyter.widget-view+json": {
       "model_id": "759fa577251649cd8a66ee91b615b089",
       "version_major": 2,
       "version_minor": 0
      },
      "text/plain": [
       "Batches:   0%|          | 0/1 [00:00<?, ?it/s]"
      ]
     },
     "metadata": {},
     "output_type": "display_data"
    },
    {
     "data": {
      "application/vnd.jupyter.widget-view+json": {
       "model_id": "f815cd230a4c42a593e64e9f0b371043",
       "version_major": 2,
       "version_minor": 0
      },
      "text/plain": [
       "Batches:   0%|          | 0/1 [00:00<?, ?it/s]"
      ]
     },
     "metadata": {},
     "output_type": "display_data"
    },
    {
     "data": {
      "application/vnd.jupyter.widget-view+json": {
       "model_id": "13518296e3fa458383dcc106bd11430a",
       "version_major": 2,
       "version_minor": 0
      },
      "text/plain": [
       "Batches:   0%|          | 0/1 [00:00<?, ?it/s]"
      ]
     },
     "metadata": {},
     "output_type": "display_data"
    },
    {
     "data": {
      "application/vnd.jupyter.widget-view+json": {
       "model_id": "55524a6a88024770af531c8b2b4daa37",
       "version_major": 2,
       "version_minor": 0
      },
      "text/plain": [
       "Batches:   0%|          | 0/1 [00:00<?, ?it/s]"
      ]
     },
     "metadata": {},
     "output_type": "display_data"
    },
    {
     "data": {
      "application/vnd.jupyter.widget-view+json": {
       "model_id": "37e751eac5424b28b1777c464d6a4baf",
       "version_major": 2,
       "version_minor": 0
      },
      "text/plain": [
       "Batches:   0%|          | 0/1 [00:00<?, ?it/s]"
      ]
     },
     "metadata": {},
     "output_type": "display_data"
    },
    {
     "data": {
      "application/vnd.jupyter.widget-view+json": {
       "model_id": "9e962d8b8f6b45abbe639a2e5bc23122",
       "version_major": 2,
       "version_minor": 0
      },
      "text/plain": [
       "Batches:   0%|          | 0/1 [00:00<?, ?it/s]"
      ]
     },
     "metadata": {},
     "output_type": "display_data"
    },
    {
     "data": {
      "application/vnd.jupyter.widget-view+json": {
       "model_id": "f11ea9b136e04fb5a018bf7c64fef4b3",
       "version_major": 2,
       "version_minor": 0
      },
      "text/plain": [
       "Batches:   0%|          | 0/1 [00:00<?, ?it/s]"
      ]
     },
     "metadata": {},
     "output_type": "display_data"
    },
    {
     "data": {
      "application/vnd.jupyter.widget-view+json": {
       "model_id": "cbef62b189cf4e4ba81229274a2a0a71",
       "version_major": 2,
       "version_minor": 0
      },
      "text/plain": [
       "Batches:   0%|          | 0/1 [00:00<?, ?it/s]"
      ]
     },
     "metadata": {},
     "output_type": "display_data"
    },
    {
     "data": {
      "application/vnd.jupyter.widget-view+json": {
       "model_id": "d4d1f1ade3c34c408900550ca040da89",
       "version_major": 2,
       "version_minor": 0
      },
      "text/plain": [
       "Batches:   0%|          | 0/1 [00:00<?, ?it/s]"
      ]
     },
     "metadata": {},
     "output_type": "display_data"
    },
    {
     "data": {
      "application/vnd.jupyter.widget-view+json": {
       "model_id": "aac67cc5c8ce43df8579d6eae1fb4bf7",
       "version_major": 2,
       "version_minor": 0
      },
      "text/plain": [
       "Batches:   0%|          | 0/1 [00:00<?, ?it/s]"
      ]
     },
     "metadata": {},
     "output_type": "display_data"
    },
    {
     "data": {
      "application/vnd.jupyter.widget-view+json": {
       "model_id": "ac4b09c7130946d9b4e1f67d9b65d598",
       "version_major": 2,
       "version_minor": 0
      },
      "text/plain": [
       "Batches:   0%|          | 0/1 [00:00<?, ?it/s]"
      ]
     },
     "metadata": {},
     "output_type": "display_data"
    },
    {
     "data": {
      "application/vnd.jupyter.widget-view+json": {
       "model_id": "e5ca88551dc64790950fcad323671f9e",
       "version_major": 2,
       "version_minor": 0
      },
      "text/plain": [
       "Batches:   0%|          | 0/1 [00:00<?, ?it/s]"
      ]
     },
     "metadata": {},
     "output_type": "display_data"
    },
    {
     "data": {
      "application/vnd.jupyter.widget-view+json": {
       "model_id": "d4c307e5afe2445eaedbe24f70fd0a85",
       "version_major": 2,
       "version_minor": 0
      },
      "text/plain": [
       "Batches:   0%|          | 0/1 [00:00<?, ?it/s]"
      ]
     },
     "metadata": {},
     "output_type": "display_data"
    },
    {
     "data": {
      "application/vnd.jupyter.widget-view+json": {
       "model_id": "2e0084dfad8c43e08caf3f7d92364a28",
       "version_major": 2,
       "version_minor": 0
      },
      "text/plain": [
       "Batches:   0%|          | 0/1 [00:00<?, ?it/s]"
      ]
     },
     "metadata": {},
     "output_type": "display_data"
    },
    {
     "data": {
      "application/vnd.jupyter.widget-view+json": {
       "model_id": "8eda0aae39944e5f99568e833c2dad7f",
       "version_major": 2,
       "version_minor": 0
      },
      "text/plain": [
       "Batches:   0%|          | 0/1 [00:00<?, ?it/s]"
      ]
     },
     "metadata": {},
     "output_type": "display_data"
    },
    {
     "data": {
      "application/vnd.jupyter.widget-view+json": {
       "model_id": "3b6b6e2fbecb4fca982c1be8980d091c",
       "version_major": 2,
       "version_minor": 0
      },
      "text/plain": [
       "Batches:   0%|          | 0/1 [00:00<?, ?it/s]"
      ]
     },
     "metadata": {},
     "output_type": "display_data"
    },
    {
     "data": {
      "application/vnd.jupyter.widget-view+json": {
       "model_id": "0779a1d667b046be96acaf2fcf93cb51",
       "version_major": 2,
       "version_minor": 0
      },
      "text/plain": [
       "Batches:   0%|          | 0/1 [00:00<?, ?it/s]"
      ]
     },
     "metadata": {},
     "output_type": "display_data"
    },
    {
     "data": {
      "application/vnd.jupyter.widget-view+json": {
       "model_id": "02b1ec0a18ca4fc2a0c25d8654fc0c50",
       "version_major": 2,
       "version_minor": 0
      },
      "text/plain": [
       "Batches:   0%|          | 0/1 [00:00<?, ?it/s]"
      ]
     },
     "metadata": {},
     "output_type": "display_data"
    },
    {
     "data": {
      "application/vnd.jupyter.widget-view+json": {
       "model_id": "dd2d4a4c49a6475c9c1b76814b90751c",
       "version_major": 2,
       "version_minor": 0
      },
      "text/plain": [
       "Batches:   0%|          | 0/1 [00:00<?, ?it/s]"
      ]
     },
     "metadata": {},
     "output_type": "display_data"
    }
   ],
   "source": [
    "import chromadb\n",
    "from chromadb.utils import embedding_functions\n",
    "import ollama\n",
    "import json\n",
    "\n",
    "\n",
    "# Create ChromaDB\n",
    "client = chromadb.PersistentClient(path=\"./chromadb_store\")\n",
    "collection_name = \"deshields-test\"\n",
    "embedding_func = embedding_functions.SentenceTransformerEmbeddingFunction(model_name=\"all-MiniLM-L6-v2\")\n",
    "collection = client.get_or_create_collection(name=collection_name, embedding_function=embedding_func)\n",
    "\n",
    "# Ingest data\n",
    "data = deshields_entries\n",
    "for idx, chunk in enumerate(data):\n",
    "    collection.add(documents=[chunk], ids=[str(idx)])"
   ]
  },
  {
   "cell_type": "code",
   "execution_count": 43,
   "id": "2c05334f-9e53-460a-a53c-75ab00138194",
   "metadata": {},
   "outputs": [
    {
     "data": {
      "application/vnd.jupyter.widget-view+json": {
       "model_id": "49d1355d1c8a45e69f1ad9a7a874a330",
       "version_major": 2,
       "version_minor": 0
      },
      "text/plain": [
       "Batches:   0%|          | 0/1 [00:00<?, ?it/s]"
      ]
     },
     "metadata": {},
     "output_type": "display_data"
    },
    {
     "name": "stderr",
     "output_type": "stream",
     "text": [
      "INFO:httpx:HTTP Request: POST http://127.0.0.1:11434/api/chat \"HTTP/1.1 200 OK\"\n"
     ]
    },
    {
     "name": "stdout",
     "output_type": "stream",
     "text": [
      "QUESTION: Who made their own eel traps? \n",
      "\n",
      "CONTEXT: [\" And then he'd fish in line. He'd just sit at the back of his house. His eel paws, fish in line. He'd catch his own eels. And he would cut them up, and then he would go down and bait his line.\", ' all animals, especially rabbits, geese. He made, he roasted a crabber, but he made his own eel pods because he quickly yields himself. He made the pods, he made his own fishing line. He was just self-sufficient, but not to be educated.', ' where they cook.', \" Because Kenny Turner, the smallest one of the Turner family built the first sailboat around here. He built a go-kart out of a refrigerator loader. They're just natural.\", ' No, no, no, they do say he was in the boat building. He went around a lot. He dealt with the fishermen and he knew people in Tillman Island, all of those.', ' But we cracked claws to her body, but mother did another part of the craft.', ' did not go back to take the, I think they were stored in the attic. But they were worth a lot of money.', ' Oh, he would catch the animals if he had the... I guess he had a picture of him where he stretches his skin.', ' all the turtledes, I played with the turtledes.', ' They had their own garden, had their own potatoes, sea potatoes, corn, everything. And they had their own hog pig. They raised their own little pig and at a certain time they would kill the hogs.'] \n",
      "\n",
      "RESPONSE: Based on the context provided, it appears that Rowena DeShields mentioned an individual who made their own \"eel pods\" (not \"traps\"). The relevant quote is:\n",
      "\n",
      "\"He made his own eel pods because he quickly yields himself. He made the pods...\"\n",
      "\n",
      "Therefore, according to the transcript, it was someone else, not specified by name in this part of the interview, who made their own eel pods. \n",
      "\n"
     ]
    }
   ],
   "source": [
    "# Create user query\n",
    "question = \"Who made their own eel traps?\"\n",
    "\n",
    "# Query database based on user query\n",
    "results = collection.query(query_texts=[question], n_results=10)\n",
    "\n",
    "# Extract context and format it properly\n",
    "context_list = results.get(\"documents\", [[]])[0]  # Handle missing key gracefully\n",
    "context_text = \"\\n\\n\".join(context_list) if context_list else \"No relevant context found.\"\n",
    "\n",
    "# Handle empty context case\n",
    "if not context_list:\n",
    "    print(\"No relevant context found. Unable to answer the question.\")\n",
    "    exit()\n",
    "\n",
    "# Define messages for LLM chat\n",
    "messages = [\n",
    "    {\n",
    "        \"role\": \"system\",\n",
    "        \"content\": (\n",
    "            \"You are an AI assistant answering questions about a historical interview with Rowena DeShields. \"\n",
    "            \"The interview has transcription errors, and your job is to clean up mistakes while staying accurate. \"\n",
    "            \"If the context does not contain enough information to answer the question, say so.\"\n",
    "        ),\n",
    "    },\n",
    "    {\"role\": \"user\", \"content\": f\"Context:\\n{context_text}\\n\\nQuestion:\\n{question}\\n\\nAnswer:\"},\n",
    "]\n",
    "\n",
    "# Query LLM\n",
    "response = ollama.chat(model=\"llama3.1\", messages=messages)\n",
    "\n",
    "# Display results\n",
    "print(\"QUESTION:\", question, \"\\n\")\n",
    "print(\"CONTEXT:\", context_text, \"\\n\")\n",
    "print(\"RESPONSE:\", response['message']['content'], \"\\n\")\n"
   ]
  },
  {
   "cell_type": "code",
   "execution_count": null,
   "id": "f9d23e05-9518-41a3-a461-d545e1d7379a",
   "metadata": {},
   "outputs": [],
   "source": []
  }
 ],
 "metadata": {
  "kernelspec": {
   "display_name": "Python 3 (ipykernel)",
   "language": "python",
   "name": "python3"
  },
  "language_info": {
   "codemirror_mode": {
    "name": "ipython",
    "version": 3
   },
   "file_extension": ".py",
   "mimetype": "text/x-python",
   "name": "python",
   "nbconvert_exporter": "python",
   "pygments_lexer": "ipython3",
   "version": "3.10.12"
  }
 },
 "nbformat": 4,
 "nbformat_minor": 5
}
